{
  "cells": [
    {
      "cell_type": "markdown",
      "metadata": {
        "id": "dSdnaq56MY8G"
      },
      "source": [
        "# Neural Networks"
      ]
    },
    {
      "cell_type": "markdown",
      "metadata": {
        "id": "PWdjwfB3yTlI"
      },
      "source": [
        "### Acknowledgments  \n",
        "Taken from [Your First Deep Learning Project in Python with Keras Step-By-Step](https://machinelearningmastery.com/tutorial-first-neural-network-python-keras/).\n",
        "\n",
        "### Stack\n",
        "Keras -- TensorFlow\n",
        "> **Note**\n",
        "> If you run this locally, you will have to setup up TensorFlow. You can follow [this tutorial](https://machinelearningmastery.com/setup-python-environment-machine-learning-deep-learning-anaconda/) to do it."
      ]
    },
    {
      "cell_type": "markdown",
      "metadata": {
        "id": "tV0j0Dn9zEIo"
      },
      "source": [
        "## 1. Load Data\n",
        "\n",
        "We are going to use the **Pima Indians onset of diabetes** dataset. This is a standard machine learning dataset from the UCI Machine Learning repository. It describes patient medical record data for Pima Indians and whether they had an onset of diabetes within five years.\n",
        "\n",
        "Input Variables (X):\n",
        "\n",
        "1. Number of times pregnant\n",
        "2. Plasma glucose concentration a 2 hours in an oral glucose tolerance test\n",
        "3. Diastolic blood pressure (mm Hg)\n",
        "4. Triceps skin fold thickness (mm)\n",
        "5. 2-Hour serum insulin (mu U/ml)\n",
        "6. Body mass index (weight in kg/(height in m)^2)\n",
        "7. Diabetes pedigree function\n",
        "8. Age (years)\n",
        "\n",
        "Output Variables (y):\n",
        "\n",
        "1. Class variable (0 or 1)"
      ]
    },
    {
      "cell_type": "code",
      "execution_count": 4,
      "metadata": {
        "collapsed": true,
        "id": "OYg7JccsyOc8"
      },
      "outputs": [],
      "source": [
        "import pandas as pd\n",
        "from numpy import loadtxt\n",
        "from keras.models import Sequential\n",
        "from keras.layers import Dense"
      ]
    },
    {
      "cell_type": "code",
      "execution_count": 5,
      "metadata": {
        "collapsed": true,
        "id": "lAjA6jQb0HQF"
      },
      "outputs": [],
      "source": [
        "# load the dataset\n",
        "dataset = loadtxt('diabetes1.csv', delimiter=',', skiprows=1)\n",
        "\n",
        "# split into \n",
        "# - input (X) {first 8 columns}\n",
        "# - output (y) {last column}\n",
        "X = dataset[:,0:8]\n",
        "y = dataset[:,8]"
      ]
    },
    {
      "cell_type": "code",
      "execution_count": 6,
      "metadata": {
        "collapsed": true,
        "id": "ezF_WtiPBv3R"
      },
      "outputs": [],
      "source": [
        "from sklearn.model_selection import train_test_split\n",
        "\n",
        "X_train, X_test, y_train, y_test = train_test_split(X, y, random_state=42)"
      ]
    },
    {
      "cell_type": "markdown",
      "metadata": {
        "id": "ANdpgu-g0rwd"
      },
      "source": [
        "## 2. Define Keras Model\n",
        "\n",
        "We will use a `Sequetial()` model to get the most flexibility in defining our network layers.\n",
        "\n",
        ">**Note**  \n",
        "The first layer must have an input of size 8 (a.k.a. 8 input dimensions) since we have 8 input variables.\n",
        "\n",
        "We will have 3 fully-connected (a.k.a. `Dense()`) layers.  \n",
        "\n",
        "![Neural Network Architecture](https://www.upgrad.com/blog/wp-content/uploads/2020/05/1_3fA77_mLNiJTSgZFhYnU0Q.png)\n",
        "\n",
        "For the first two, we will use the `ReLU` activation function (better performance).  \n",
        "For the last layer, we will use `sigmoid` to ensure we have output between 0 and 1 (probability of class 1, so we can use a default threshold of 0.5 to decide which class is predicted).\n",
        "\n",
        "![sigmoid vs. ReLU](https://miro.medium.com/max/1400/1*XxxiA0jJvPrHEJHD4z893g.png)"
      ]
    },
    {
      "cell_type": "code",
      "execution_count": 7,
      "metadata": {
        "collapsed": true,
        "id": "cBF4awcA3NUr"
      },
      "outputs": [],
      "source": [
        "# define a sequetial model\n",
        "model = Sequential()\n",
        "# first hidden layer has 12 nodes and uses ReLU for activation\n",
        "# it receiving the raw features as inpute, so input dimensions \n",
        "# must be specified at 8\n",
        "model.add(Dense(12, input_dim=8, activation='relu'))\n",
        "# second hidden layer has 8 nodes and uses ReLU for activation\n",
        "model.add(Dense(8, activation='relu'))\n",
        "# ouput layer has one node and uses sigmoid for activation\n",
        "model.add(Dense(1, activation='sigmoid'))"
      ]
    },
    {
      "cell_type": "markdown",
      "metadata": {
        "id": "E_7J-iF64VII"
      },
      "source": [
        "## 3. Compile Keras Model\n",
        "\n",
        "Compiling uses the efficient back-end algorithms in the back-end (in this case TensorFlow) and the most efficient hardware available (CPU, GPU, combination of both).  \n",
        "\n",
        "We must specify:\n",
        "1. the **loss function**: used to evaluate a set of weights\n",
        "2. the **optimizer**: used to search through different weights for the network\n",
        "3. any optional **metrics** we would like to collect and report during training.\n",
        "\n",
        "We will choose:\n",
        "1. loss function: **binary_crossentropy** ([learn more](https://machinelearningmastery.com/how-to-choose-loss-functions-when-training-deep-learning-neural-networks/))\n",
        "2. optimizer: **adam** ([learn more](https://machinelearningmastery.com/adam-optimization-algorithm-for-deep-learning/))\n",
        "3. metric(s): **accuracy**"
      ]
    },
    {
      "cell_type": "code",
      "execution_count": 8,
      "metadata": {
        "collapsed": true,
        "id": "xaM273j-6AOa"
      },
      "outputs": [],
      "source": [
        "# compile the model with:\n",
        "# - loss: binary cross-entropy\n",
        "# - optimizer: adam\n",
        "# - metrics: accuracy\n",
        "model.compile(loss='binary_crossentropy', \n",
        "              optimizer='adam', \n",
        "              metrics=['accuracy'])"
      ]
    },
    {
      "cell_type": "markdown",
      "metadata": {
        "id": "kxQfFzg96I9-"
      },
      "source": [
        "## 4. Fit Keras Model\n",
        "We train our model using the `fit()` function.\n",
        "\n",
        "Training occurs over epochs and each epoch is split into batches.\n",
        "\n",
        "* **Epoch**: One pass through all of the rows in the training dataset.\n",
        "* **Batch**: One or more samples considered by the model within an epoch before weights are updated.\n",
        "\n",
        "One epoch is comprised of one or more batches, based on the chosen batch size and the model is fit for many epochs. You can [click here](https://machinelearningmastery.com/difference-between-a-batch-and-an-epoch/) to learn more.\n",
        "\n",
        "We wanna train the model enough (3 epochs) to have an acceptable error.\n",
        "\n",
        "> **Note**  \n",
        "> This is the most mathematically intesive part that wold need a GPU. This is a relatively simple example though so we do not need one."
      ]
    },
    {
      "cell_type": "code",
      "execution_count": 9,
      "metadata": {
        "collapsed": true,
        "id": "YjxmOhs36Mkv"
      },
      "outputs": [],
      "source": [
        "# fit the model on the dataset\n",
        "# - # epochs: 150\n",
        "# - batch size: 10\n",
        "num_epochs = 150\n",
        "fitted_model = model.fit(X_train, \n",
        "                         y_train, \n",
        "                         epochs=num_epochs, \n",
        "                         batch_size=10,\n",
        "                         verbose=0)\n",
        "\n",
        "# note: can set verbose=0 to eliminate output"
      ]
    },
    {
      "cell_type": "code",
      "execution_count": 10,
      "metadata": {
        "collapsed": true,
        "id": "uczVkENIEbQ9"
      },
      "outputs": [],
      "source": [
        "h = fitted_model.history"
      ]
    },
    {
      "cell_type": "code",
      "execution_count": 11,
      "metadata": {
        "colab": {
          "base_uri": "https://localhost:8080/",
          "height": 295
        },
        "collapsed": true,
        "id": "Oq-tfF-JCZMG",
        "outputId": "36e35dba-5b36-411e-9bb7-6133d89b0444"
      },
      "outputs": [
        {
          "data": {
            "image/png": "[encoded data removed]",
            "text/plain": [
              "<Figure size 432x288 with 2 Axes>"
            ]
          },
          "metadata": {
            "needs_background": "light"
          },
          "output_type": "display_data"
        }
      ],
      "source": [
        "# plot loss and accuracy\n",
        "\n",
        "import matplotlib.pyplot as plt\n",
        "\n",
        "plt.figure()\n",
        "\n",
        "plt.subplot(2,1,1)\n",
        "plt.plot(fitted_model.epoch, fitted_model.history['loss'])\n",
        "plt.ylabel('Loss (a.k.a. Error)')\n",
        "plt.title('Training History')\n",
        "\n",
        "plt.subplot(2,1,2)\n",
        "plt.plot(fitted_model.epoch, fitted_model.history['accuracy'])\n",
        "plt.xlabel('Epochs')\n",
        "plt.ylabel('Accuracy')\n",
        "\n",
        "\n",
        "plt.show()"
      ]
    },
    {
      "cell_type": "markdown",
      "metadata": {
        "id": "RWYjnzn07THi"
      },
      "source": [
        "## 5. Evaluate Keras Model"
      ]
    },
    {
      "cell_type": "code",
      "execution_count": 12,
      "metadata": {
        "colab": {
          "base_uri": "https://localhost:8080/"
        },
        "collapsed": true,
        "id": "EKlIKMa4_lJE",
        "outputId": "e3f26886-5e6c-4a65-a1e9-3832b1aaa127"
      },
      "outputs": [
        {
          "name": "stdout",
          "output_type": "stream",
          "text": [
            "18/18 [==============================] - 0s 3ms/step - loss: 0.4550 - accuracy: 0.7760\n",
            "Accuracy: 77.60\n"
          ]
        }
      ],
      "source": [
        "# evaluate model on training data (returns loss and accuracy)\n",
        "_, accuracy = model.evaluate(X_train, y_train)\n",
        "\n",
        "# print accuracy\n",
        "print('Accuracy: %.2f' % (accuracy*100))"
      ]
    },
    {
      "cell_type": "markdown",
      "metadata": {
        "id": "8ycbsnZGT7RQ"
      },
      "source": [
        "When predicting, we must keep in mind that the output we get is not a class label, but rather the probability that the class is `1` (a.k.a. patient has diabetes). This probability is between between 0 and 1.\n",
        "\n",
        "So, the easiest thing to do is to set a threshold (e.g. 0.5). If the probability is above this threshold, then we predict class 1; otherwise, we predict class 0."
      ]
    },
    {
      "cell_type": "code",
      "execution_count": 13,
      "metadata": {
        "colab": {
          "base_uri": "https://localhost:8080/"
        },
        "collapsed": true,
        "id": "Fr_OFlbgCUJ5",
        "outputId": "5d110f8b-1228-42bc-f396-9fdd56f09592"
      },
      "outputs": [
        {
          "name": "stdout",
          "output_type": "stream",
          "text": [
            "6/6 [==============================] - 0s 2ms/step\n",
            "Accuracy: 0.71\n"
          ]
        }
      ],
      "source": [
        "# evaluate model on training data (returns loss and accuracy)\n",
        "y_pred = (model.predict(X_test) > 0.5).astype(int)\n",
        "\n",
        "from sklearn.metrics import accuracy_score\n",
        "\n",
        "print('Accuracy: %.2f' % accuracy_score(y_test, y_pred))"
      ]
    },
    {
      "cell_type": "markdown",
      "metadata": {
        "id": "IVvaQgC_VIeS"
      },
      "source": [
        "## 6. Print Model Summary/Architecture\n",
        "\n",
        "Good practice because it allows us to:\n",
        "1. Confirm layer order\n",
        "2. Confirm the output shape of each layer\n",
        "3. Confirm parameters"
      ]
    },
    {
      "cell_type": "code",
      "execution_count": 14,
      "metadata": {
        "colab": {
          "base_uri": "https://localhost:8080/"
        },
        "collapsed": true,
        "id": "4IuR1mYsVIJF",
        "outputId": "980c3a93-3e6b-441c-dd05-9756df38f36f"
      },
      "outputs": [
        {
          "name": "stdout",
          "output_type": "stream",
          "text": [
            "Model: \"sequential\"\n",
            "_________________________________________________________________\n",
            " Layer (type)                Output Shape              Param #   \n",
            "=================================================================\n",
            " dense (Dense)               (None, 12)                108       \n",
            "                                                                 \n",
            " dense_1 (Dense)             (None, 8)                 104       \n",
            "                                                                 \n",
            " dense_2 (Dense)             (None, 1)                 9         \n",
            "                                                                 \n",
            "=================================================================\n",
            "Total params: 221\n",
            "Trainable params: 221\n",
            "Non-trainable params: 0\n",
            "_________________________________________________________________\n",
            "None\n"
          ]
        }
      ],
      "source": [
        "# print to console\n",
        "print(model.summary())"
      ]
    },
    {
      "cell_type": "code",
      "execution_count": 15,
      "metadata": {
        "colab": {
          "base_uri": "https://localhost:8080/",
          "height": 422
        },
        "collapsed": true,
        "id": "DZOLgoifVW50",
        "outputId": "543dc7be-216b-4ab0-cdc3-e503c4e3fae9"
      },
      "outputs": [
        {
          "data": {
            "image/png": "[encoded data removed]",
            "text/plain": [
              "<IPython.core.display.Image object>"
            ]
          },
          "execution_count": 15,
          "metadata": {},
          "output_type": "execute_result"
        }
      ],
      "source": [
        "from keras.utils.vis_utils import plot_model\n",
        "\n",
        "# save model to PNG file\n",
        "plot_model(model, \n",
        "           to_file='model_plot.png', \n",
        "           show_shapes=True, \n",
        "           show_layer_names=True)"
      ]
    }
  ],
  "metadata": {
    "accelerator": "GPU",
    "colab": {
      "provenance": []
    },
    "gpuClass": "standard",
    "kernelspec": {
      "display_name": "Python 3",
      "language": "python",
      "name": "python3"
    },
    "language_info": {
      "codemirror_mode": {
        "name": "ipython",
        "version": 3
      },
      "file_extension": ".py",
      "mimetype": "text/x-python",
      "name": "python",
      "nbconvert_exporter": "python",
      "pygments_lexer": "ipython3",
      "version": "3.8.8"
    }
  },
  "nbformat": 4,
  "nbformat_minor": 0
}
