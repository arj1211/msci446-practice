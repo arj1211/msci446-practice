{
  "nbformat": 4,
  "nbformat_minor": 0,
  "metadata": {
    "colab": {
      "provenance": []
    },
    "kernelspec": {
      "name": "python3",
      "display_name": "Python 3"
    },
    "language_info": {
      "name": "python"
    }
  },
  "cells": [
    {
      "cell_type": "markdown",
      "source": [
        "# Graph Mining\n",
        "One of the most powerful graph-handling modules in Python is [NetworkX](https://networkx.org/documentation/stable/index.html). It provides powerful data structures and algortihms for:\n",
        "* reading, writing, and modifying graphs\n",
        "* graph visualization\n",
        "* graph analysis\n",
        "* graph mining\n",
        "\n",
        "\n",
        "You can learn the basics of `NetworkX` in [this tutorial](https://networkx.org/documentation/stable/tutorial.html). You can also find a list of all the algorithms they offer [here](https://networkx.org/documentation/stable/reference/algorithms/index.html). Finally, you can browse [this gallery](https://networkx.org/documentation/stable/auto_examples/index.html) to see different graph visualizations and tutorials to help you replicate them.\n",
        "\n",
        "> **Note**  \n",
        "> The terms network and graph are often used interchangeably, and so are their components: \n",
        "\n",
        "| Network Science | Graph Theory |\n",
        "|:--------------- |:------------ |\n",
        "| Network         | Graph        |\n",
        "| Node            | Vertex       |\n",
        "| Link            | Edge         |\n",
        "\n",
        "> You can read [this article](https://bence.ferdinandy.com/2018/05/27/whats-the-difference-between-a-graph-and-a-network/) to get a better understanding of the so-called difference bewteen graphs and networks."
      ],
      "metadata": {
        "id": "znQtOGOW5HTy"
      }
    },
    {
      "cell_type": "markdown",
      "source": [
        "## Most Common Graph Mining Tasks\n",
        "* Centrality Analysis (most important/connected node: high influence/reach)\n",
        "  * Degree Centrality (node with highest degree)\n",
        "  * Closeness Centrality (node with smallest avg shortest path to all other nodes)\n",
        "* Link prediction/recommendation\n",
        "* Community Mining\n",
        "  * Community Detection"
      ],
      "metadata": {
        "id": "r7SI96pjpP--"
      }
    },
    {
      "cell_type": "markdown",
      "source": [
        "## Our Example: The Society of Friends (a.k.a. The Quakers)\n",
        "Founded in England in the mid-seventeenth century, the Quakers were Protestant Christians who dissented from the official Church of England and promoted broad religious toleration, preferring Christians’ supposed “inner light” and consciences to state-enforced orthodoxy.\n",
        "\n",
        "## What questions will we answer?\n",
        "* What is the overall structure of the network?\n",
        "* Who are the important people, or hubs, in the network?\n",
        "* What are the subgroups and communities in the network?"
      ],
      "metadata": {
        "id": "OZ6fY_Mq_3Gg"
      }
    },
    {
      "cell_type": "markdown",
      "source": [
        "## 1. Prepare the data\n",
        "\n",
        "We have two files of data: a **node list** and **edge list**. They are both in CSV format.  \n",
        "\n",
        "Each row in the in node list represents one person from the Quakers. Each column represents one of his/her attributes:\n",
        "* Name\t\n",
        "* Historical Significance\t\n",
        "* Gender\t\n",
        "* Birthdate\t(year)\n",
        "* Deathdate (year)\n",
        "* ID (in the [Six Degrees of Francis Bacon Project](http://www.sixdegreesoffrancisbacon.com/))\n",
        "\n",
        "Each row in the edge list represents one connection between two members of the Quakers. The two columns thus represent the two connected members. Since if *member_1* knows *member_2*, then *member_2* must know *member_1*, the graph is **undirected**.\n",
        "\n",
        "To **download** the data, we will use the `curl` utility. It requires a URL to download the data from, and we will also provide a file name to save this data to. We use the flag `-o` to specify that name/path of the file where the download should be saved."
      ],
      "metadata": {
        "id": "PceZ1SJIBRuE"
      }
    },
    {
      "cell_type": "code",
      "source": [
        "# dowload list of nodes and save them as nodes.csv\n",
        "!curl https://programminghistorian.org/assets/exploring-and-analyzing-network-data-with-python/quakers_nodelist.csv -o nodes.csv"
      ],
      "metadata": {
        "colab": {
          "base_uri": "https://localhost:8080/"
        },
        "id": "wnCTNyS_YDRs",
        "outputId": "e6ce3bde-72b9-4509-deeb-6223993c9866"
      },
      "execution_count": 1,
      "outputs": [
        {
          "output_type": "stream",
          "name": "stdout",
          "text": [
            "  % Total    % Received % Xferd  Average Speed   Time    Time     Time  Current\n",
            "                                 Dload  Upload   Total   Spent    Left  Speed\n",
            "\r  0     0    0     0    0     0      0      0 --:--:-- --:--:-- --:--:--     0\r100  7471  100  7471    0     0  47585      0 --:--:-- --:--:-- --:--:-- 47585\n"
          ]
        }
      ]
    },
    {
      "cell_type": "code",
      "source": [
        "# download list of edges and save them as edges.csv\n",
        "!curl https://programminghistorian.org/assets/exploring-and-analyzing-network-data-with-python/quakers_edgelist.csv -o edges.csv"
      ],
      "metadata": {
        "colab": {
          "base_uri": "https://localhost:8080/"
        },
        "id": "HbG7quiBY7pW",
        "outputId": "56f329a2-8121-4a1b-cfd1-2053b1ef95b4"
      },
      "execution_count": 2,
      "outputs": [
        {
          "output_type": "stream",
          "name": "stdout",
          "text": [
            "  % Total    % Received % Xferd  Average Speed   Time    Time     Time  Current\n",
            "                                 Dload  Upload   Total   Spent    Left  Speed\n",
            "\r  0     0    0     0    0     0      0      0 --:--:-- --:--:-- --:--:--     0\r100  5047  100  5047    0     0   114k      0 --:--:-- --:--:-- --:--:--  114k\n"
          ]
        }
      ]
    },
    {
      "cell_type": "markdown",
      "source": [
        "## 2. Load data into a NetworkX graph\n",
        "As always, we will load the CSV files into pandas dataframes. Then, we will use the edge list to generate a graph.  \n",
        "The edge list identifies a node by the name of the person it represents. Thus, the main ideifitier/key/label of every node will be the name of the perosn."
      ],
      "metadata": {
        "id": "zRAIzKy3TZeo"
      }
    },
    {
      "cell_type": "code",
      "source": [
        "# import required modules and functions\n",
        "import csv\n",
        "from operator import itemgetter\n",
        "import networkx as nx\n",
        "from networkx.algorithms import community\n",
        "import pylab as plt\n",
        "import pandas as pd"
      ],
      "metadata": {
        "id": "pWefe5hx5cNK"
      },
      "execution_count": 3,
      "outputs": []
    },
    {
      "cell_type": "code",
      "source": [
        "# read nodes into a pandas data frame\n",
        "nodes_df = pd.read_csv('nodes.csv')\n",
        "\n",
        "# show the first 5 rows\n",
        "nodes_df.head()"
      ],
      "metadata": {
        "colab": {
          "base_uri": "https://localhost:8080/",
          "height": 206
        },
        "id": "EC_GEHJqAozK",
        "outputId": "cc407c10-6f6f-4a27-df3c-b0948839331c"
      },
      "execution_count": 4,
      "outputs": [
        {
          "output_type": "execute_result",
          "data": {
            "text/plain": [
              "                         Name        Historical Significance  Gender  \\\n",
              "0                Joseph Wyeth               religious writer    male   \n",
              "1  Alexander Skene of Newtyle    local politician and author    male   \n",
              "2                 James Logan  colonial official and scholar    male   \n",
              "3               Dorcas Erbery                Quaker preacher  female   \n",
              "4                Lilias Skene       Quaker preacher and poet    male   \n",
              "\n",
              "   Birthdate  Deathdate        ID  \n",
              "0       1663       1731  10013191  \n",
              "1       1621       1694  10011149  \n",
              "2       1674       1751  10007567  \n",
              "3       1656       1659  10003983  \n",
              "4       1626       1697  10011152  "
            ],
            "text/html": [
              "\n",
              "  <div id=\"df-e50bb0b7-9d8e-4cc8-93f0-f6e3af6a4327\">\n",
              "    <div class=\"colab-df-container\">\n",
              "      <div>\n",
              "<style scoped>\n",
              "    .dataframe tbody tr th:only-of-type {\n",
              "        vertical-align: middle;\n",
              "    }\n",
              "\n",
              "    .dataframe tbody tr th {\n",
              "        vertical-align: top;\n",
              "    }\n",
              "\n",
              "    .dataframe thead th {\n",
              "        text-align: right;\n",
              "    }\n",
              "</style>\n",
              "<table border=\"1\" class=\"dataframe\">\n",
              "  <thead>\n",
              "    <tr style=\"text-align: right;\">\n",
              "      <th></th>\n",
              "      <th>Name</th>\n",
              "      <th>Historical Significance</th>\n",
              "      <th>Gender</th>\n",
              "      <th>Birthdate</th>\n",
              "      <th>Deathdate</th>\n",
              "      <th>ID</th>\n",
              "    </tr>\n",
              "  </thead>\n",
              "  <tbody>\n",
              "    <tr>\n",
              "      <th>0</th>\n",
              "      <td>Joseph Wyeth</td>\n",
              "      <td>religious writer</td>\n",
              "      <td>male</td>\n",
              "      <td>1663</td>\n",
              "      <td>1731</td>\n",
              "      <td>10013191</td>\n",
              "    </tr>\n",
              "    <tr>\n",
              "      <th>1</th>\n",
              "      <td>Alexander Skene of Newtyle</td>\n",
              "      <td>local politician and author</td>\n",
              "      <td>male</td>\n",
              "      <td>1621</td>\n",
              "      <td>1694</td>\n",
              "      <td>10011149</td>\n",
              "    </tr>\n",
              "    <tr>\n",
              "      <th>2</th>\n",
              "      <td>James Logan</td>\n",
              "      <td>colonial official and scholar</td>\n",
              "      <td>male</td>\n",
              "      <td>1674</td>\n",
              "      <td>1751</td>\n",
              "      <td>10007567</td>\n",
              "    </tr>\n",
              "    <tr>\n",
              "      <th>3</th>\n",
              "      <td>Dorcas Erbery</td>\n",
              "      <td>Quaker preacher</td>\n",
              "      <td>female</td>\n",
              "      <td>1656</td>\n",
              "      <td>1659</td>\n",
              "      <td>10003983</td>\n",
              "    </tr>\n",
              "    <tr>\n",
              "      <th>4</th>\n",
              "      <td>Lilias Skene</td>\n",
              "      <td>Quaker preacher and poet</td>\n",
              "      <td>male</td>\n",
              "      <td>1626</td>\n",
              "      <td>1697</td>\n",
              "      <td>10011152</td>\n",
              "    </tr>\n",
              "  </tbody>\n",
              "</table>\n",
              "</div>\n",
              "      <button class=\"colab-df-convert\" onclick=\"convertToInteractive('df-e50bb0b7-9d8e-4cc8-93f0-f6e3af6a4327')\"\n",
              "              title=\"Convert this dataframe to an interactive table.\"\n",
              "              style=\"display:none;\">\n",
              "        \n",
              "  <svg xmlns=\"http://www.w3.org/2000/svg\" height=\"24px\"viewBox=\"0 0 24 24\"\n",
              "       width=\"24px\">\n",
              "    <path d=\"M0 0h24v24H0V0z\" fill=\"none\"/>\n",
              "    <path d=\"M18.56 5.44l.94 2.06.94-2.06 2.06-.94-2.06-.94-.94-2.06-.94 2.06-2.06.94zm-11 1L8.5 8.5l.94-2.06 2.06-.94-2.06-.94L8.5 2.5l-.94 2.06-2.06.94zm10 10l.94 2.06.94-2.06 2.06-.94-2.06-.94-.94-2.06-.94 2.06-2.06.94z\"/><path d=\"M17.41 7.96l-1.37-1.37c-.4-.4-.92-.59-1.43-.59-.52 0-1.04.2-1.43.59L10.3 9.45l-7.72 7.72c-.78.78-.78 2.05 0 2.83L4 21.41c.39.39.9.59 1.41.59.51 0 1.02-.2 1.41-.59l7.78-7.78 2.81-2.81c.8-.78.8-2.07 0-2.86zM5.41 20L4 18.59l7.72-7.72 1.47 1.35L5.41 20z\"/>\n",
              "  </svg>\n",
              "      </button>\n",
              "      \n",
              "  <style>\n",
              "    .colab-df-container {\n",
              "      display:flex;\n",
              "      flex-wrap:wrap;\n",
              "      gap: 12px;\n",
              "    }\n",
              "\n",
              "    .colab-df-convert {\n",
              "      background-color: #E8F0FE;\n",
              "      border: none;\n",
              "      border-radius: 50%;\n",
              "      cursor: pointer;\n",
              "      display: none;\n",
              "      fill: #1967D2;\n",
              "      height: 32px;\n",
              "      padding: 0 0 0 0;\n",
              "      width: 32px;\n",
              "    }\n",
              "\n",
              "    .colab-df-convert:hover {\n",
              "      background-color: #E2EBFA;\n",
              "      box-shadow: 0px 1px 2px rgba(60, 64, 67, 0.3), 0px 1px 3px 1px rgba(60, 64, 67, 0.15);\n",
              "      fill: #174EA6;\n",
              "    }\n",
              "\n",
              "    [theme=dark] .colab-df-convert {\n",
              "      background-color: #3B4455;\n",
              "      fill: #D2E3FC;\n",
              "    }\n",
              "\n",
              "    [theme=dark] .colab-df-convert:hover {\n",
              "      background-color: #434B5C;\n",
              "      box-shadow: 0px 1px 3px 1px rgba(0, 0, 0, 0.15);\n",
              "      filter: drop-shadow(0px 1px 2px rgba(0, 0, 0, 0.3));\n",
              "      fill: #FFFFFF;\n",
              "    }\n",
              "  </style>\n",
              "\n",
              "      <script>\n",
              "        const buttonEl =\n",
              "          document.querySelector('#df-e50bb0b7-9d8e-4cc8-93f0-f6e3af6a4327 button.colab-df-convert');\n",
              "        buttonEl.style.display =\n",
              "          google.colab.kernel.accessAllowed ? 'block' : 'none';\n",
              "\n",
              "        async function convertToInteractive(key) {\n",
              "          const element = document.querySelector('#df-e50bb0b7-9d8e-4cc8-93f0-f6e3af6a4327');\n",
              "          const dataTable =\n",
              "            await google.colab.kernel.invokeFunction('convertToInteractive',\n",
              "                                                     [key], {});\n",
              "          if (!dataTable) return;\n",
              "\n",
              "          const docLinkHtml = 'Like what you see? Visit the ' +\n",
              "            '<a target=\"_blank\" href=https://colab.research.google.com/notebooks/data_table.ipynb>data table notebook</a>'\n",
              "            + ' to learn more about interactive tables.';\n",
              "          element.innerHTML = '';\n",
              "          dataTable['output_type'] = 'display_data';\n",
              "          await google.colab.output.renderOutput(dataTable, element);\n",
              "          const docLink = document.createElement('div');\n",
              "          docLink.innerHTML = docLinkHtml;\n",
              "          element.appendChild(docLink);\n",
              "        }\n",
              "      </script>\n",
              "    </div>\n",
              "  </div>\n",
              "  "
            ]
          },
          "metadata": {},
          "execution_count": 4
        }
      ]
    },
    {
      "cell_type": "code",
      "source": [
        "# read edges into a pandas data frame\n",
        "edges_df = pd.read_csv('edges.csv')\n",
        "\n",
        "# show the first 5 rows\n",
        "edges_df.head()"
      ],
      "metadata": {
        "colab": {
          "base_uri": "https://localhost:8080/",
          "height": 206
        },
        "id": "f4LCmHSLBA4c",
        "outputId": "be86395a-f98b-4455-8825-e5c70633da21"
      },
      "execution_count": 5,
      "outputs": [
        {
          "output_type": "execute_result",
          "data": {
            "text/plain": [
              "         Source                                         Target\n",
              "0  George Keith                                 Robert Barclay\n",
              "1  George Keith                                 Benjamin Furly\n",
              "2  George Keith  Anne Conway Viscountess Conway and Killultagh\n",
              "3  George Keith               Franciscus Mercurius van Helmont\n",
              "4  George Keith                                   William Penn"
            ],
            "text/html": [
              "\n",
              "  <div id=\"df-187d3323-598a-43a7-8f51-6aa633d2de75\">\n",
              "    <div class=\"colab-df-container\">\n",
              "      <div>\n",
              "<style scoped>\n",
              "    .dataframe tbody tr th:only-of-type {\n",
              "        vertical-align: middle;\n",
              "    }\n",
              "\n",
              "    .dataframe tbody tr th {\n",
              "        vertical-align: top;\n",
              "    }\n",
              "\n",
              "    .dataframe thead th {\n",
              "        text-align: right;\n",
              "    }\n",
              "</style>\n",
              "<table border=\"1\" class=\"dataframe\">\n",
              "  <thead>\n",
              "    <tr style=\"text-align: right;\">\n",
              "      <th></th>\n",
              "      <th>Source</th>\n",
              "      <th>Target</th>\n",
              "    </tr>\n",
              "  </thead>\n",
              "  <tbody>\n",
              "    <tr>\n",
              "      <th>0</th>\n",
              "      <td>George Keith</td>\n",
              "      <td>Robert Barclay</td>\n",
              "    </tr>\n",
              "    <tr>\n",
              "      <th>1</th>\n",
              "      <td>George Keith</td>\n",
              "      <td>Benjamin Furly</td>\n",
              "    </tr>\n",
              "    <tr>\n",
              "      <th>2</th>\n",
              "      <td>George Keith</td>\n",
              "      <td>Anne Conway Viscountess Conway and Killultagh</td>\n",
              "    </tr>\n",
              "    <tr>\n",
              "      <th>3</th>\n",
              "      <td>George Keith</td>\n",
              "      <td>Franciscus Mercurius van Helmont</td>\n",
              "    </tr>\n",
              "    <tr>\n",
              "      <th>4</th>\n",
              "      <td>George Keith</td>\n",
              "      <td>William Penn</td>\n",
              "    </tr>\n",
              "  </tbody>\n",
              "</table>\n",
              "</div>\n",
              "      <button class=\"colab-df-convert\" onclick=\"convertToInteractive('df-187d3323-598a-43a7-8f51-6aa633d2de75')\"\n",
              "              title=\"Convert this dataframe to an interactive table.\"\n",
              "              style=\"display:none;\">\n",
              "        \n",
              "  <svg xmlns=\"http://www.w3.org/2000/svg\" height=\"24px\"viewBox=\"0 0 24 24\"\n",
              "       width=\"24px\">\n",
              "    <path d=\"M0 0h24v24H0V0z\" fill=\"none\"/>\n",
              "    <path d=\"M18.56 5.44l.94 2.06.94-2.06 2.06-.94-2.06-.94-.94-2.06-.94 2.06-2.06.94zm-11 1L8.5 8.5l.94-2.06 2.06-.94-2.06-.94L8.5 2.5l-.94 2.06-2.06.94zm10 10l.94 2.06.94-2.06 2.06-.94-2.06-.94-.94-2.06-.94 2.06-2.06.94z\"/><path d=\"M17.41 7.96l-1.37-1.37c-.4-.4-.92-.59-1.43-.59-.52 0-1.04.2-1.43.59L10.3 9.45l-7.72 7.72c-.78.78-.78 2.05 0 2.83L4 21.41c.39.39.9.59 1.41.59.51 0 1.02-.2 1.41-.59l7.78-7.78 2.81-2.81c.8-.78.8-2.07 0-2.86zM5.41 20L4 18.59l7.72-7.72 1.47 1.35L5.41 20z\"/>\n",
              "  </svg>\n",
              "      </button>\n",
              "      \n",
              "  <style>\n",
              "    .colab-df-container {\n",
              "      display:flex;\n",
              "      flex-wrap:wrap;\n",
              "      gap: 12px;\n",
              "    }\n",
              "\n",
              "    .colab-df-convert {\n",
              "      background-color: #E8F0FE;\n",
              "      border: none;\n",
              "      border-radius: 50%;\n",
              "      cursor: pointer;\n",
              "      display: none;\n",
              "      fill: #1967D2;\n",
              "      height: 32px;\n",
              "      padding: 0 0 0 0;\n",
              "      width: 32px;\n",
              "    }\n",
              "\n",
              "    .colab-df-convert:hover {\n",
              "      background-color: #E2EBFA;\n",
              "      box-shadow: 0px 1px 2px rgba(60, 64, 67, 0.3), 0px 1px 3px 1px rgba(60, 64, 67, 0.15);\n",
              "      fill: #174EA6;\n",
              "    }\n",
              "\n",
              "    [theme=dark] .colab-df-convert {\n",
              "      background-color: #3B4455;\n",
              "      fill: #D2E3FC;\n",
              "    }\n",
              "\n",
              "    [theme=dark] .colab-df-convert:hover {\n",
              "      background-color: #434B5C;\n",
              "      box-shadow: 0px 1px 3px 1px rgba(0, 0, 0, 0.15);\n",
              "      filter: drop-shadow(0px 1px 2px rgba(0, 0, 0, 0.3));\n",
              "      fill: #FFFFFF;\n",
              "    }\n",
              "  </style>\n",
              "\n",
              "      <script>\n",
              "        const buttonEl =\n",
              "          document.querySelector('#df-187d3323-598a-43a7-8f51-6aa633d2de75 button.colab-df-convert');\n",
              "        buttonEl.style.display =\n",
              "          google.colab.kernel.accessAllowed ? 'block' : 'none';\n",
              "\n",
              "        async function convertToInteractive(key) {\n",
              "          const element = document.querySelector('#df-187d3323-598a-43a7-8f51-6aa633d2de75');\n",
              "          const dataTable =\n",
              "            await google.colab.kernel.invokeFunction('convertToInteractive',\n",
              "                                                     [key], {});\n",
              "          if (!dataTable) return;\n",
              "\n",
              "          const docLinkHtml = 'Like what you see? Visit the ' +\n",
              "            '<a target=\"_blank\" href=https://colab.research.google.com/notebooks/data_table.ipynb>data table notebook</a>'\n",
              "            + ' to learn more about interactive tables.';\n",
              "          element.innerHTML = '';\n",
              "          dataTable['output_type'] = 'display_data';\n",
              "          await google.colab.output.renderOutput(dataTable, element);\n",
              "          const docLink = document.createElement('div');\n",
              "          docLink.innerHTML = docLinkHtml;\n",
              "          element.appendChild(docLink);\n",
              "        }\n",
              "      </script>\n",
              "    </div>\n",
              "  </div>\n",
              "  "
            ]
          },
          "metadata": {},
          "execution_count": 5
        }
      ]
    },
    {
      "cell_type": "code",
      "source": [
        "# initialize a grpah from the the edge list loaded into pandas\n",
        "G = nx.from_pandas_edgelist(edges_df,source='Source', target='Target')"
      ],
      "metadata": {
        "id": "qDczYZaKa5eI"
      },
      "execution_count": 6,
      "outputs": []
    },
    {
      "cell_type": "markdown",
      "source": [
        "## 3. Add Attributes to the Nodes\n",
        "While nodes and edges represent the most basic components of the graph, each one of them can be augmented with attributes. These attributes give more context about the nodes and about the relationship between the nodes (i.e., the edges).  \n",
        "These attributes can be used late on to analyse the graph.  \n",
        "Moreover, we save the result of our analysis as an attribute to either nodes or edges (depending on the nature of the analysis), which makes it easier to retrieve this result in the future or visualize it."
      ],
      "metadata": {
        "id": "g4Gcorfxb6TP"
      }
    },
    {
      "cell_type": "code",
      "source": [
        "# create an empty dictionary to add the attributes to\n",
        "# - key: node identifier (in our case the name)\n",
        "# - value: the atrributes to be added to the node\n",
        "attrs = {}\n",
        "\n",
        "# loop over the rows of the nodes dataframe to add the attributes of each person\n",
        "# to the dictionary\n",
        "for index, person in nodes_df.iterrows():\n",
        "  # extract the key (the name of the person)\n",
        "  name = person['Name']\n",
        "  # create an empty dictionary of attributes for this person\n",
        "  attrs[name] = {}\n",
        "  # add the attributes of this person to their dictionary\n",
        "  attrs[name]['historical_significance'] = person['Historical Significance']\n",
        "  attrs[name]['gender'] = person['Gender']\n",
        "  attrs[name]['birth_year'] = person['Birthdate']\n",
        "  attrs[name]['death_year'] = person['Deathdate']\n",
        "  attrs[name]['sfdb_id'] = person['ID']\n",
        "\n",
        "# add the attributes to the nodes\n",
        "nx.set_node_attributes(G, attrs)\n",
        "\n",
        "# loop over all nodes and print their attributes\n",
        "# for n in G.nodes():\n",
        "#     print(n, G.nodes[n])"
      ],
      "metadata": {
        "id": "rdv7L-PsQiOQ"
      },
      "execution_count": 7,
      "outputs": []
    },
    {
      "cell_type": "markdown",
      "source": [
        "## 4. Exploring the metrics offered by NetworkX"
      ],
      "metadata": {
        "id": "gCG_DyY721MU"
      }
    },
    {
      "cell_type": "markdown",
      "source": [
        "### 4.1. The shape of the network\n",
        "\n",
        "#### 4.1.1. Visualization\n",
        "\n",
        "Just like we do in other datasets, the first step of exploration is to visualize the data. To do so, we call `NetworkX`'s `draw()` function."
      ],
      "metadata": {
        "id": "EjA34wVId5QL"
      }
    },
    {
      "cell_type": "code",
      "source": [
        "nx.draw(G, width=0.2, node_size=10)"
      ],
      "metadata": {
        "colab": {
          "base_uri": "https://localhost:8080/",
          "height": 319
        },
        "id": "N3_QX4INg05s",
        "outputId": "c27dc8b1-487b-4bc1-9e15-dc109fadb7f1"
      },
      "execution_count": 8,
      "outputs": [
        {
          "output_type": "display_data",
          "data": {
            "text/plain": [
              "<Figure size 432x288 with 1 Axes>"
            ],
            "image/png": "[encoded data removed]"
          },
          "metadata": {}
        }
      ]
    },
    {
      "cell_type": "markdown",
      "source": [
        "We can also use interactive visualizations to do more manual exploration of the network. The [pyvis]() module makes this possible, and it has a very clean integration with `NetworkX`.  \n",
        "It creates an HTML file that we can display in the notebook.\n",
        "> For a notebook to display an HTML file, both files must be in the same directory. Since google colab has its own file system structure, the generated HTML file is not placed in the same directory as the notebook file. So, we must use `IPython.core.display` to read the HTML file and display it as opposed to simply using `pyvis`' `show()` (which would work in a local Jupyter notebook)."
      ],
      "metadata": {
        "id": "5ggqElByCk3O"
      }
    },
    {
      "cell_type": "code",
      "source": [
        "# use pip to install pyvis\n",
        "%%capture\n",
        "!pip install pyvis"
      ],
      "metadata": {
        "id": "LMblUW4wC8vm"
      },
      "execution_count": 9,
      "outputs": []
    },
    {
      "cell_type": "code",
      "source": [
        "from pyvis.network import Network\n",
        "from IPython.core.display import display, HTML\n",
        "\n",
        "# initialize the network object with desired height and width\n",
        "nt = Network('500px', '700px', notebook=True, cdn_resources='remote')\n",
        "# populate the nodes and edges data structures from the NetworkX object\n",
        "nt.from_nx(G)\n",
        "\n",
        "nt.show('G.html')\n",
        "# for the sake of colab's file system, read the HTML file and display it\n",
        "display(HTML('G.html'))"
      ],
      "metadata": {
        "colab": {
          "base_uri": "https://localhost:8080/",
          "height": 527
        },
        "id": "aLiGR0s1CQ7l",
        "outputId": "38deaf13-415d-4e77-e041-d7ad8f852072"
      },
      "execution_count": 10,
      "outputs": [
        {
          "output_type": "display_data",
          "data": {
            "text/plain": [
              "<IPython.core.display.HTML object>"
            ],
            "text/html": [
              "<html>\n",
              "    <head>\n",
              "        <meta charset=\"utf-8\">\n",
              "        \n",
              "            <script>function neighbourhoodHighlight(params) {\n",
              "  // console.log(\"in nieghbourhoodhighlight\");\n",
              "  allNodes = nodes.get({ returnType: \"Object\" });\n",
              "  // originalNodes = JSON.parse(JSON.stringify(allNodes));\n",
              "  // if something is selected:\n",
              "  if (params.nodes.length > 0) {\n",
              "    highlightActive = true;\n",
              "    var i, j;\n",
              "    var selectedNode = params.nodes[0];\n",
              "    var degrees = 2;\n",
              "\n",
              "    // mark all nodes as hard to read.\n",
              "    for (let nodeId in allNodes) {\n",
              "      // nodeColors[nodeId] = allNodes[nodeId].color;\n",
              "      allNodes[nodeId].color = \"rgba(200,200,200,0.5)\";\n",
              "      if (allNodes[nodeId].hiddenLabel === undefined) {\n",
              "        allNodes[nodeId].hiddenLabel = allNodes[nodeId].label;\n",
              "        allNodes[nodeId].label = undefined;\n",
              "      }\n",
              "    }\n",
              "    var connectedNodes = network.getConnectedNodes(selectedNode);\n",
              "    var allConnectedNodes = [];\n",
              "\n",
              "    // get the second degree nodes\n",
              "    for (i = 1; i < degrees; i++) {\n",
              "      for (j = 0; j < connectedNodes.length; j++) {\n",
              "        allConnectedNodes = allConnectedNodes.concat(\n",
              "          network.getConnectedNodes(connectedNodes[j])\n",
              "        );\n",
              "      }\n",
              "    }\n",
              "\n",
              "    // all second degree nodes get a different color and their label back\n",
              "    for (i = 0; i < allConnectedNodes.length; i++) {\n",
              "      // allNodes[allConnectedNodes[i]].color = \"pink\";\n",
              "      allNodes[allConnectedNodes[i]].color = \"rgba(150,150,150,0.75)\";\n",
              "      if (allNodes[allConnectedNodes[i]].hiddenLabel !== undefined) {\n",
              "        allNodes[allConnectedNodes[i]].label =\n",
              "          allNodes[allConnectedNodes[i]].hiddenLabel;\n",
              "        allNodes[allConnectedNodes[i]].hiddenLabel = undefined;\n",
              "      }\n",
              "    }\n",
              "\n",
              "    // all first degree nodes get their own color and their label back\n",
              "    for (i = 0; i < connectedNodes.length; i++) {\n",
              "      // allNodes[connectedNodes[i]].color = undefined;\n",
              "      allNodes[connectedNodes[i]].color = nodeColors[connectedNodes[i]];\n",
              "      if (allNodes[connectedNodes[i]].hiddenLabel !== undefined) {\n",
              "        allNodes[connectedNodes[i]].label =\n",
              "          allNodes[connectedNodes[i]].hiddenLabel;\n",
              "        allNodes[connectedNodes[i]].hiddenLabel = undefined;\n",
              "      }\n",
              "    }\n",
              "\n",
              "    // the main node gets its own color and its label back.\n",
              "    // allNodes[selectedNode].color = undefined;\n",
              "    allNodes[selectedNode].color = nodeColors[selectedNode];\n",
              "    if (allNodes[selectedNode].hiddenLabel !== undefined) {\n",
              "      allNodes[selectedNode].label = allNodes[selectedNode].hiddenLabel;\n",
              "      allNodes[selectedNode].hiddenLabel = undefined;\n",
              "    }\n",
              "  } else if (highlightActive === true) {\n",
              "    // console.log(\"highlightActive was true\");\n",
              "    // reset all nodes\n",
              "    for (let nodeId in allNodes) {\n",
              "      // allNodes[nodeId].color = \"purple\";\n",
              "      allNodes[nodeId].color = nodeColors[nodeId];\n",
              "      // delete allNodes[nodeId].color;\n",
              "      if (allNodes[nodeId].hiddenLabel !== undefined) {\n",
              "        allNodes[nodeId].label = allNodes[nodeId].hiddenLabel;\n",
              "        allNodes[nodeId].hiddenLabel = undefined;\n",
              "      }\n",
              "    }\n",
              "    highlightActive = false;\n",
              "  }\n",
              "\n",
              "  // transform the object into an array\n",
              "  var updateArray = [];\n",
              "  if (params.nodes.length > 0) {\n",
              "    for (let nodeId in allNodes) {\n",
              "      if (allNodes.hasOwnProperty(nodeId)) {\n",
              "        // console.log(allNodes[nodeId]);\n",
              "        updateArray.push(allNodes[nodeId]);\n",
              "      }\n",
              "    }\n",
              "    nodes.update(updateArray);\n",
              "  } else {\n",
              "    // console.log(\"Nothing was selected\");\n",
              "    for (let nodeId in allNodes) {\n",
              "      if (allNodes.hasOwnProperty(nodeId)) {\n",
              "        // console.log(allNodes[nodeId]);\n",
              "        // allNodes[nodeId].color = {};\n",
              "        updateArray.push(allNodes[nodeId]);\n",
              "      }\n",
              "    }\n",
              "    nodes.update(updateArray);\n",
              "  }\n",
              "}\n",
              "\n",
              "function filterHighlight(params) {\n",
              "  allNodes = nodes.get({ returnType: \"Object\" });\n",
              "  // if something is selected:\n",
              "  if (params.nodes.length > 0) {\n",
              "    filterActive = true;\n",
              "    let selectedNodes = params.nodes;\n",
              "\n",
              "    // hiding all nodes and saving the label\n",
              "    for (let nodeId in allNodes) {\n",
              "      allNodes[nodeId].hidden = true;\n",
              "      if (allNodes[nodeId].savedLabel === undefined) {\n",
              "        allNodes[nodeId].savedLabel = allNodes[nodeId].label;\n",
              "        allNodes[nodeId].label = undefined;\n",
              "      }\n",
              "    }\n",
              "\n",
              "    for (let i=0; i < selectedNodes.length; i++) {\n",
              "      allNodes[selectedNodes[i]].hidden = false;\n",
              "      if (allNodes[selectedNodes[i]].savedLabel !== undefined) {\n",
              "        allNodes[selectedNodes[i]].label = allNodes[selectedNodes[i]].savedLabel;\n",
              "        allNodes[selectedNodes[i]].savedLabel = undefined;\n",
              "      }\n",
              "    }\n",
              "\n",
              "  } else if (filterActive === true) {\n",
              "    // reset all nodes\n",
              "    for (let nodeId in allNodes) {\n",
              "      allNodes[nodeId].hidden = false;\n",
              "      if (allNodes[nodeId].savedLabel !== undefined) {\n",
              "        allNodes[nodeId].label = allNodes[nodeId].savedLabel;\n",
              "        allNodes[nodeId].savedLabel = undefined;\n",
              "      }\n",
              "    }\n",
              "    filterActive = false;\n",
              "  }\n",
              "\n",
              "  // transform the object into an array\n",
              "  var updateArray = [];\n",
              "  if (params.nodes.length > 0) {\n",
              "    for (let nodeId in allNodes) {\n",
              "      if (allNodes.hasOwnProperty(nodeId)) {\n",
              "        updateArray.push(allNodes[nodeId]);\n",
              "      }\n",
              "    }\n",
              "    nodes.update(updateArray);\n",
              "  } else {\n",
              "    for (let nodeId in allNodes) {\n",
              "      if (allNodes.hasOwnProperty(nodeId)) {\n",
              "        updateArray.push(allNodes[nodeId]);\n",
              "      }\n",
              "    }\n",
              "    nodes.update(updateArray);\n",
              "  }\n",
              "}\n",
              "\n",
              "function selectNode(nodes) {\n",
              "  network.selectNodes(nodes);\n",
              "  neighbourhoodHighlight({ nodes: nodes });\n",
              "  return nodes;\n",
              "}\n",
              "\n",
              "function selectNodes(nodes) {\n",
              "  network.selectNodes(nodes);\n",
              "  filterHighlight({nodes: nodes});\n",
              "  return nodes;\n",
              "}\n",
              "\n",
              "function highlightFilter(filter) {\n",
              "  let selectedNodes = []\n",
              "  let selectedProp = filter['property']\n",
              "  if (filter['item'] === 'node') {\n",
              "    let allNodes = nodes.get({ returnType: \"Object\" });\n",
              "    for (let nodeId in allNodes) {\n",
              "      if (allNodes[nodeId][selectedProp] && filter['value'].includes((allNodes[nodeId][selectedProp]).toString())) {\n",
              "        selectedNodes.push(nodeId)\n",
              "      }\n",
              "    }\n",
              "  }\n",
              "  else if (filter['item'] === 'edge'){\n",
              "    let allEdges = edges.get({returnType: 'object'});\n",
              "    // check if the selected property exists for selected edge and select the nodes connected to the edge\n",
              "    for (let edge in allEdges) {\n",
              "      if (allEdges[edge][selectedProp] && filter['value'].includes((allEdges[edge][selectedProp]).toString())) {\n",
              "        selectedNodes.push(allEdges[edge]['from'])\n",
              "        selectedNodes.push(allEdges[edge]['to'])\n",
              "      }\n",
              "    }\n",
              "  }\n",
              "  selectNodes(selectedNodes)\n",
              "}</script>\n",
              "            <link rel=\"stylesheet\" href=\"https://cdnjs.cloudflare.com/ajax/libs/vis-network/9.1.2/dist/dist/vis-network.min.css\" integrity=\"sha512-WgxfT5LWjfszlPHXRmBWHkV2eceiWTOBvrKCNbdgDYTHrT2AeLCGbF4sZlZw3UMN3WtL0tGUoIAKsu8mllg/XA==\" crossorigin=\"anonymous\" referrerpolicy=\"no-referrer\" />\n",
              "            <script src=\"https://cdnjs.cloudflare.com/ajax/libs/vis-network/9.1.2/dist/vis-network.min.js\" integrity=\"sha512-LnvoEWDFrqGHlHmDD2101OrLcbsfkrzoSpvtSQtxK3RMnRV0eOkhhBN2dXHKRrUU8p2DGRTk35n4O8nWSVe1mQ==\" crossorigin=\"anonymous\" referrerpolicy=\"no-referrer\"></script>\n",
              "            \n",
              "            \n",
              "            \n",
              "            \n",
              "            \n",
              "            \n",
              "\n",
              "        \n",
              "<center>\n",
              "<h1></h1>\n",
              "</center>\n",
              "\n",
              "<!-- <link rel=\"stylesheet\" href=\"../node_modules/vis/dist/vis.min.css\" type=\"text/css\" />\n",
              "<script type=\"text/javascript\" src=\"../node_modules/vis/dist/vis.js\"> </script>-->\n",
              "        <link\n",
              "          href=\"https://cdn.jsdelivr.net/npm/bootstrap@5.0.0-beta3/dist/css/bootstrap.min.css\"\n",
              "          rel=\"stylesheet\"\n",
              "          integrity=\"sha384-eOJMYsd53ii+scO/bJGFsiCZc+5NDVN2yr8+0RDqr0Ql0h+rP48ckxlpbzKgwra6\"\n",
              "          crossorigin=\"anonymous\"\n",
              "        />\n",
              "        <script\n",
              "          src=\"https://cdn.jsdelivr.net/npm/bootstrap@5.0.0-beta3/dist/js/bootstrap.bundle.min.js\"\n",
              "          integrity=\"sha384-JEW9xMcG8R+pH31jmWH6WWP0WintQrMb4s7ZOdauHnUtxwoG2vI5DkLtS3qm9Ekf\"\n",
              "          crossorigin=\"anonymous\"\n",
              "        ></script>\n",
              "\n",
              "\n",
              "        <center>\n",
              "          <h1></h1>\n",
              "        </center>\n",
              "        <style type=\"text/css\">\n",
              "\n",
              "             #mynetwork {\n",
              "                 width: 700px;\n",
              "                 height: 500px;\n",
              "                 background-color: #ffffff;\n",
              "                 border: 1px solid lightgray;\n",
              "                 position: relative;\n",
              "                 float: left;\n",
              "             }\n",
              "\n",
              "             \n",
              "             #loadingBar {\n",
              "                 position:absolute;\n",
              "                 top:0px;\n",
              "                 left:0px;\n",
              "                 width: 700px;\n",
              "                 height: 500px;\n",
              "                 background-color:rgba(200,200,200,0.8);\n",
              "                 -webkit-transition: all 0.5s ease;\n",
              "                 -moz-transition: all 0.5s ease;\n",
              "                 -ms-transition: all 0.5s ease;\n",
              "                 -o-transition: all 0.5s ease;\n",
              "                 transition: all 0.5s ease;\n",
              "                 opacity:1;\n",
              "             }\n",
              "\n",
              "             #bar {\n",
              "                 position:absolute;\n",
              "                 top:0px;\n",
              "                 left:0px;\n",
              "                 width:20px;\n",
              "                 height:20px;\n",
              "                 margin:auto auto auto auto;\n",
              "                 border-radius:11px;\n",
              "                 border:2px solid rgba(30,30,30,0.05);\n",
              "                 background: rgb(0, 173, 246); /* Old browsers */\n",
              "                 box-shadow: 2px 0px 4px rgba(0,0,0,0.4);\n",
              "             }\n",
              "\n",
              "             #border {\n",
              "                 position:absolute;\n",
              "                 top:10px;\n",
              "                 left:10px;\n",
              "                 width:500px;\n",
              "                 height:23px;\n",
              "                 margin:auto auto auto auto;\n",
              "                 box-shadow: 0px 0px 4px rgba(0,0,0,0.2);\n",
              "                 border-radius:10px;\n",
              "             }\n",
              "\n",
              "             #text {\n",
              "                 position:absolute;\n",
              "                 top:8px;\n",
              "                 left:530px;\n",
              "                 width:30px;\n",
              "                 height:50px;\n",
              "                 margin:auto auto auto auto;\n",
              "                 font-size:22px;\n",
              "                 color: #000000;\n",
              "             }\n",
              "\n",
              "             div.outerBorder {\n",
              "                 position:relative;\n",
              "                 top:400px;\n",
              "                 width:600px;\n",
              "                 height:44px;\n",
              "                 margin:auto auto auto auto;\n",
              "                 border:8px solid rgba(0,0,0,0.1);\n",
              "                 background: rgb(252,252,252); /* Old browsers */\n",
              "                 background: -moz-linear-gradient(top,  rgba(252,252,252,1) 0%, rgba(237,237,237,1) 100%); /* FF3.6+ */\n",
              "                 background: -webkit-gradient(linear, left top, left bottom, color-stop(0%,rgba(252,252,252,1)), color-stop(100%,rgba(237,237,237,1))); /* Chrome,Safari4+ */\n",
              "                 background: -webkit-linear-gradient(top,  rgba(252,252,252,1) 0%,rgba(237,237,237,1) 100%); /* Chrome10+,Safari5.1+ */\n",
              "                 background: -o-linear-gradient(top,  rgba(252,252,252,1) 0%,rgba(237,237,237,1) 100%); /* Opera 11.10+ */\n",
              "                 background: -ms-linear-gradient(top,  rgba(252,252,252,1) 0%,rgba(237,237,237,1) 100%); /* IE10+ */\n",
              "                 background: linear-gradient(to bottom,  rgba(252,252,252,1) 0%,rgba(237,237,237,1) 100%); /* W3C */\n",
              "                 filter: progid:DXImageTransform.Microsoft.gradient( startColorstr='#fcfcfc', endColorstr='#ededed',GradientType=0 ); /* IE6-9 */\n",
              "                 border-radius:72px;\n",
              "                 box-shadow: 0px 0px 10px rgba(0,0,0,0.2);\n",
              "             }\n",
              "             \n",
              "\n",
              "             \n",
              "\n",
              "             \n",
              "        </style>\n",
              "    </head>\n",
              "\n",
              "\n",
              "    <body>\n",
              "        <div class=\"card\" style=\"width: 100%\">\n",
              "            \n",
              "            \n",
              "            <div id=\"mynetwork\" class=\"card-body\"></div>\n",
              "        </div>\n",
              "\n",
              "        \n",
              "            <div id=\"loadingBar\">\n",
              "              <div class=\"outerBorder\">\n",
              "                <div id=\"text\">0%</div>\n",
              "                <div id=\"border\">\n",
              "                  <div id=\"bar\"></div>\n",
              "                </div>\n",
              "              </div>\n",
              "            </div>\n",
              "        \n",
              "        \n",
              "\n",
              "        <script type=\"text/javascript\">\n",
              "\n",
              "              // initialize global variables.\n",
              "              var edges;\n",
              "              var nodes;\n",
              "              var allNodes;\n",
              "              var allEdges;\n",
              "              var nodeColors;\n",
              "              var originalNodes;\n",
              "              var network;\n",
              "              var container;\n",
              "              var options, data;\n",
              "              var filter = {\n",
              "                  item : '',\n",
              "                  property : '',\n",
              "                  value : []\n",
              "              };\n",
              "\n",
              "              \n",
              "\n",
              "              \n",
              "\n",
              "              // This method is responsible for drawing the graph, returns the drawn network\n",
              "              function drawGraph() {\n",
              "                  var container = document.getElementById('mynetwork');\n",
              "\n",
              "                  \n",
              "\n",
              "                  // parsing and collecting nodes and edges from the python\n",
              "                  nodes = new vis.DataSet([{\"birth_year\": 1638, \"color\": \"#97c2fc\", \"death_year\": 1716, \"gender\": \"male\", \"historical_significance\": \"Quaker schismatic and Church of England clergyman\", \"id\": \"George Keith\", \"label\": \"George Keith\", \"sfdb_id\": 10006784, \"shape\": \"dot\", \"size\": 10}, {\"birth_year\": 1648, \"color\": \"#97c2fc\", \"death_year\": 1690, \"gender\": \"male\", \"historical_significance\": \"religious writer and colonial governor\", \"id\": \"Robert Barclay\", \"label\": \"Robert Barclay\", \"sfdb_id\": 10054848, \"shape\": \"dot\", \"size\": 10}, {\"birth_year\": 1636, \"color\": \"#97c2fc\", \"death_year\": 1714, \"gender\": \"male\", \"historical_significance\": \"merchant and religious writer\", \"id\": \"Benjamin Furly\", \"label\": \"Benjamin Furly\", \"sfdb_id\": 10004625, \"shape\": \"dot\", \"size\": 10}, {\"birth_year\": 1631, \"color\": \"#97c2fc\", \"death_year\": 1679, \"gender\": \"female\", \"historical_significance\": \"philosopher\", \"id\": \"Anne Conway Viscountess Conway and Killultagh\", \"label\": \"Anne Conway Viscountess Conway and Killultagh\", \"sfdb_id\": 10002755, \"shape\": \"dot\", \"size\": 10}, {\"birth_year\": 1614, \"color\": \"#97c2fc\", \"death_year\": 1698, \"gender\": \"male\", \"historical_significance\": \"physician and cabbalist\", \"id\": \"Franciscus Mercurius van Helmont\", \"label\": \"Franciscus Mercurius van Helmont\", \"sfdb_id\": 10005781, \"shape\": \"dot\", \"size\": 10}, {\"birth_year\": 1644, \"color\": \"#97c2fc\", \"death_year\": 1718, \"gender\": \"male\", \"historical_significance\": \"Quaker leader and founder of Pennsylvania\", \"id\": \"William Penn\", \"label\": \"William Penn\", \"sfdb_id\": 10009531, \"shape\": \"dot\", \"size\": 10}, {\"birth_year\": 1624, \"color\": \"#97c2fc\", \"death_year\": 1691, \"gender\": \"male\", \"historical_significance\": \" a founder of the Religious Society of Friends (Quakers)\", \"id\": \"George Fox\", \"label\": \"George Fox\", \"sfdb_id\": 10004524, \"shape\": \"dot\", \"size\": 10}, {\"birth_year\": 1637, \"color\": \"#97c2fc\", \"death_year\": 1724, \"gender\": \"male\", \"historical_significance\": \"Quaker leader and writer\", \"id\": \"George Whitehead\", \"label\": \"George Whitehead\", \"sfdb_id\": 10012813, \"shape\": \"dot\", \"size\": 10}, {\"birth_year\": 1663, \"color\": \"#97c2fc\", \"death_year\": 1752, \"gender\": \"male\", \"historical_significance\": \"printer\", \"id\": \"William Bradford\", \"label\": \"William Bradford\", \"sfdb_id\": 10001445, \"shape\": \"dot\", \"size\": 10}, {\"birth_year\": 1610, \"color\": \"#97c2fc\", \"death_year\": 1686, \"gender\": \"male\", \"historical_significance\": \"soldier and politician\", \"id\": \"David Barclay of Ury\", \"label\": \"David Barclay of Ury\", \"sfdb_id\": 10000621, \"shape\": \"dot\", \"size\": 10}, {\"birth_year\": 1636, \"color\": \"#97c2fc\", \"death_year\": 1656, \"gender\": \"male\", \"historical_significance\": \"Quaker martyr\", \"id\": \"James Parnel\", \"label\": \"James Parnel\", \"sfdb_id\": 10009347, \"shape\": \"dot\", \"size\": 10}, {\"birth_year\": 1618, \"color\": \"#97c2fc\", \"death_year\": 1675, \"gender\": \"male\", \"historical_significance\": \"Quaker minister\", \"id\": \"John Stubbs\", \"label\": \"John Stubbs\", \"sfdb_id\": 10011695, \"shape\": \"dot\", \"size\": 10}, {\"birth_year\": 1628, \"color\": \"#97c2fc\", \"death_year\": 1692, \"gender\": \"male\", \"historical_significance\": \"Quaker activist and writer\", \"id\": \"Stephen Crisp\", \"label\": \"Stephen Crisp\", \"sfdb_id\": 10003022, \"shape\": \"dot\", \"size\": 10}, {\"birth_year\": 1628, \"color\": \"#97c2fc\", \"death_year\": 1689, \"gender\": \"male\", \"historical_significance\": \"Quaker preacher and author\", \"id\": \"Alexander Parker\", \"label\": \"Alexander Parker\", \"sfdb_id\": 10009307, \"shape\": \"dot\", \"size\": 10}, {\"birth_year\": 1636, \"color\": \"#97c2fc\", \"death_year\": 1665, \"gender\": \"male\", \"historical_significance\": \"Quaker preacher\", \"id\": \"William Caton\", \"label\": \"William Caton\", \"sfdb_id\": 10002203, \"shape\": \"dot\", \"size\": 10}, {\"birth_year\": 1637, \"color\": \"#97c2fc\", \"death_year\": 1704, \"gender\": \"female\", \"historical_significance\": \"Quaker preacher\", \"id\": \"Isabel Yeamans\", \"label\": \"Isabel Yeamans\", \"sfdb_id\": 10013226, \"shape\": \"dot\", \"size\": 10}, {\"birth_year\": 1671, \"color\": \"#97c2fc\", \"death_year\": 1735, \"gender\": \"male\", \"historical_significance\": \"colonial official and merchant\", \"id\": \"Isaac Norris\", \"label\": \"Isaac Norris\", \"sfdb_id\": 10008884, \"shape\": \"dot\", \"size\": 10}, {\"birth_year\": 1674, \"color\": \"#97c2fc\", \"death_year\": 1751, \"gender\": \"male\", \"historical_significance\": \"colonial official and scholar\", \"id\": \"James Logan\", \"label\": \"James Logan\", \"sfdb_id\": 10007567, \"shape\": \"dot\", \"size\": 10}, {\"birth_year\": 1658, \"color\": \"#97c2fc\", \"death_year\": 1709, \"gender\": \"male\", \"historical_significance\": \"merchant\", \"id\": \"Edward Haistwell\", \"label\": \"Edward Haistwell\", \"sfdb_id\": 10005359, \"shape\": \"dot\", \"size\": 10}, {\"birth_year\": 1631, \"color\": \"#97c2fc\", \"death_year\": 1690, \"gender\": \"male\", \"historical_significance\": \"Quaker minister\", \"id\": \"John Burnyeat\", \"label\": \"John Burnyeat\", \"sfdb_id\": 10001815, \"shape\": \"dot\", \"size\": 10}, {\"birth_year\": 1609, \"color\": \"#97c2fc\", \"death_year\": 1688, \"gender\": \"female\", \"historical_significance\": \"Quaker preacher and writer\", \"id\": \"Rebecca Travers\", \"label\": \"Rebecca Travers\", \"sfdb_id\": 10012062, \"shape\": \"dot\", \"size\": 10}, {\"birth_year\": 1666, \"color\": \"#97c2fc\", \"death_year\": 1749, \"gender\": \"male\", \"historical_significance\": \"printer and bookseller\", \"id\": \"Tace Sowle\", \"label\": \"Tace Sowle\", \"sfdb_id\": 10011332, \"shape\": \"dot\", \"size\": 10}, {\"birth_year\": 1634, \"color\": \"#97c2fc\", \"death_year\": 1687, \"gender\": \"male\", \"historical_significance\": \"merchant and pioneer settler in America\", \"id\": \"James Claypoole\", \"label\": \"James Claypoole\", \"sfdb_id\": 10002513, \"shape\": \"dot\", \"size\": 10}, {\"birth_year\": 1670, \"color\": \"#97c2fc\", \"death_year\": 1742, \"gender\": \"male\", \"historical_significance\": \"Quaker minister and journal writer\", \"id\": \"Thomas Story\", \"label\": \"Thomas Story\", \"sfdb_id\": 10011614, \"shape\": \"dot\", \"size\": 10}, {\"birth_year\": 1623, \"color\": \"#97c2fc\", \"death_year\": 1682, \"gender\": \"female\", \"historical_significance\": \"Quaker and writer\", \"id\": \"Mary Penington\", \"label\": \"Mary Penington\", \"sfdb_id\": 10009527, \"shape\": \"dot\", \"size\": 10}, {\"birth_year\": 1656, \"color\": \"#97c2fc\", \"death_year\": 1731, \"gender\": \"male\", \"historical_significance\": \"lawyer and politician in America\", \"id\": \"David Lloyd\", \"label\": \"David Lloyd\", \"sfdb_id\": 10007509, \"shape\": \"dot\", \"size\": 10}, {\"birth_year\": 1614, \"color\": \"#97c2fc\", \"death_year\": 1702, \"gender\": \"female\", \"historical_significance\": \"Quaker leader\", \"id\": \"Margaret Fell\", \"label\": \"Margaret Fell\", \"sfdb_id\": 10004170, \"shape\": \"dot\", \"size\": 10}, {\"birth_year\": 1649, \"color\": \"#97c2fc\", \"death_year\": 1723, \"gender\": \"male\", \"historical_significance\": \"Quaker minister and schoolmaster\", \"id\": \"Richard Claridge\", \"label\": \"Richard Claridge\", \"sfdb_id\": 10002469, \"shape\": \"dot\", \"size\": 10}, {\"birth_year\": 1630, \"color\": \"#97c2fc\", \"death_year\": 1713, \"gender\": \"male\", \"historical_significance\": \"religious writer\", \"id\": \"William Mucklow\", \"label\": \"William Mucklow\", \"sfdb_id\": 10008595, \"shape\": \"dot\", \"size\": 10}, {\"birth_year\": 1621, \"color\": \"#97c2fc\", \"death_year\": 1688, \"gender\": \"male\", \"historical_significance\": \"Quaker activist\", \"id\": \"William Dewsbury\", \"label\": \"William Dewsbury\", \"sfdb_id\": 10003478, \"shape\": \"dot\", \"size\": 10}, {\"birth_year\": 1630, \"color\": \"#97c2fc\", \"death_year\": 1664, \"gender\": \"male\", \"historical_significance\": \"Quaker preacher\", \"id\": \"John Audland\", \"label\": \"John Audland\", \"sfdb_id\": 10000411, \"shape\": \"dot\", \"size\": 10}, {\"birth_year\": 1618, \"color\": \"#97c2fc\", \"death_year\": 1669, \"gender\": \"male\", \"historical_significance\": \"Quaker activist\", \"id\": \"Francis Howgill\", \"label\": \"Francis Howgill\", \"sfdb_id\": 10006305, \"shape\": \"dot\", \"size\": 10}, {\"birth_year\": 1635, \"color\": \"#97c2fc\", \"death_year\": 1681, \"gender\": \"male\", \"historical_significance\": \"Quaker administrator\", \"id\": \"Ellis Hookes\", \"label\": \"Ellis Hookes\", \"sfdb_id\": 10006146, \"shape\": \"dot\", \"size\": 10}, {\"birth_year\": 1627, \"color\": \"#97c2fc\", \"death_year\": 1713, \"gender\": \"male\", \"historical_significance\": \"Quaker patron and merchant\", \"id\": \"William Mead\", \"label\": \"William Mead\", \"sfdb_id\": 10008161, \"shape\": \"dot\", \"size\": 10}, {\"birth_year\": 1562, \"color\": \"#97c2fc\", \"death_year\": 1672, \"gender\": \"female\", \"historical_significance\": \"Quaker preacher\", \"id\": \"Elizabeth Hooten\", \"label\": \"Elizabeth Hooten\", \"sfdb_id\": 10006153, \"shape\": \"dot\", \"size\": 10}, {\"birth_year\": 1616, \"color\": \"#97c2fc\", \"death_year\": 1699, \"gender\": \"male\", \"historical_significance\": \"Quaker leader and writer\", \"id\": \"John Crook\", \"label\": \"John Crook\", \"sfdb_id\": 10003063, \"shape\": \"dot\", \"size\": 10}, {\"birth_year\": 1630, \"color\": \"#97c2fc\", \"death_year\": 1691, \"gender\": \"male\", \"historical_significance\": \"Quaker preacher and writer\", \"id\": \"Thomas Salthouse\", \"label\": \"Thomas Salthouse\", \"sfdb_id\": 10010643, \"shape\": \"dot\", \"size\": 10}, {\"birth_year\": 1618, \"color\": \"#97c2fc\", \"death_year\": 1660, \"gender\": \"male\", \"historical_significance\": \"Quaker preacher and writer\", \"id\": \"James Nayler\", \"label\": \"James Nayler\", \"sfdb_id\": 10008713, \"shape\": \"dot\", \"size\": 10}, {\"birth_year\": 1633, \"color\": \"#97c2fc\", \"death_year\": 1663, \"gender\": \"male\", \"historical_significance\": \"Quaker activist and writer\", \"id\": \"Edward Burrough\", \"label\": \"Edward Burrough\", \"sfdb_id\": 10001818, \"shape\": \"dot\", \"size\": 10}, {\"birth_year\": 1652, \"color\": \"#97c2fc\", \"death_year\": 1683, \"gender\": \"male\", \"historical_significance\": \"Quaker schismatic\", \"id\": \"John Wilkinson\", \"label\": \"John Wilkinson\", \"sfdb_id\": 10012893, \"shape\": \"dot\", \"size\": 10}, {\"birth_year\": 1639, \"color\": \"#97c2fc\", \"death_year\": 1713, \"gender\": \"male\", \"historical_significance\": \"religious controversialist\", \"id\": \"Thomas Ellwood\", \"label\": \"Thomas Ellwood\", \"sfdb_id\": 10003945, \"shape\": \"dot\", \"size\": 10}, {\"birth_year\": 1601, \"color\": \"#97c2fc\", \"death_year\": 1678, \"gender\": \"male\", \"historical_significance\": \"merchant and official in America\", \"id\": \"William Coddington\", \"label\": \"William Coddington\", \"sfdb_id\": 10002606, \"shape\": \"dot\", \"size\": 10}, {\"birth_year\": 1555, \"color\": \"#97c2fc\", \"death_year\": 1665, \"gender\": \"male\", \"historical_significance\": \"Quaker schismatic\", \"id\": \"John Perrot\", \"label\": \"John Perrot\", \"sfdb_id\": 10009584, \"shape\": \"dot\", \"size\": 10}, {\"birth_year\": 1624, \"color\": \"#97c2fc\", \"death_year\": 1701, \"gender\": \"male\", \"historical_significance\": \"Quaker missionary and writer\", \"id\": \"Leonard Fell\", \"label\": \"Leonard Fell\", \"sfdb_id\": 10004169, \"shape\": \"dot\", \"size\": 10}, {\"birth_year\": 1601, \"color\": \"#97c2fc\", \"death_year\": 1711, \"gender\": \"male\", \"historical_significance\": \"Quaker schismatic\", \"id\": \"William Rogers\", \"label\": \"William Rogers\", \"sfdb_id\": 10010417, \"shape\": \"dot\", \"size\": 10}, {\"birth_year\": 1640, \"color\": \"#97c2fc\", \"death_year\": 1727, \"gender\": \"male\", \"historical_significance\": \"Quaker apostate\", \"id\": \"Francis Bugg\", \"label\": \"Francis Bugg\", \"sfdb_id\": 10001737, \"shape\": \"dot\", \"size\": 10}, {\"birth_year\": 1626, \"color\": \"#97c2fc\", \"death_year\": 1705, \"gender\": \"male\", \"historical_significance\": \"Quaker activist\", \"id\": \"Gilbert Latey\", \"label\": \"Gilbert Latey\", \"sfdb_id\": 10007166, \"shape\": \"dot\", \"size\": 10}, {\"birth_year\": 1628, \"color\": \"#97c2fc\", \"death_year\": 1662, \"gender\": \"male\", \"historical_significance\": \"Quaker activist\", \"id\": \"Richard Hubberthorne\", \"label\": \"Richard Hubberthorne\", \"sfdb_id\": 10006314, \"shape\": \"dot\", \"size\": 10}, {\"birth_year\": 1630, \"color\": \"#97c2fc\", \"death_year\": 1696, \"gender\": \"male\", \"historical_significance\": \"Quaker minister and preacher\", \"id\": \"John Whitehead\", \"label\": \"John Whitehead\", \"sfdb_id\": 10012815, \"shape\": \"dot\", \"size\": 10}, {\"birth_year\": 1648, \"color\": \"#97c2fc\", \"death_year\": 1724, \"gender\": \"male\", \"historical_significance\": \"maker of clocks, watches, and barometers\", \"id\": \"Daniel Quare\", \"label\": \"Daniel Quare\", \"sfdb_id\": 10010037, \"shape\": \"dot\", \"size\": 10}, {\"birth_year\": 1571, \"color\": \"#97c2fc\", \"death_year\": 1681, \"gender\": \"male\", \"historical_significance\": \"Quaker schismatic\", \"id\": \"John Story\", \"label\": \"John Story\", \"sfdb_id\": 10011613, \"shape\": \"dot\", \"size\": 10}, {\"birth_year\": 1694, \"color\": \"#97c2fc\", \"death_year\": 1768, \"gender\": \"male\", \"historical_significance\": \"botanist\", \"id\": \"Peter Collinson\", \"label\": \"Peter Collinson\", \"sfdb_id\": 10002694, \"shape\": \"dot\", \"size\": 10}, {\"birth_year\": 1699, \"color\": \"#97c2fc\", \"death_year\": 1777, \"gender\": \"male\", \"historical_significance\": \"botanist and explorer in America\", \"id\": \"John Bartram\", \"label\": \"John Bartram\", \"sfdb_id\": 10000745, \"shape\": \"dot\", \"size\": 10}, {\"birth_year\": 1663, \"color\": \"#97c2fc\", \"death_year\": 1731, \"gender\": \"male\", \"historical_significance\": \"religious writer\", \"id\": \"Joseph Wyeth\", \"label\": \"Joseph Wyeth\", \"sfdb_id\": 10013191, \"shape\": \"dot\", \"size\": 10}, {\"birth_year\": 1602, \"color\": \"#97c2fc\", \"death_year\": 1712, \"gender\": \"male\", \"historical_significance\": \"Quaker schismatic\", \"id\": \"Thomas Curtis\", \"label\": \"Thomas Curtis\", \"sfdb_id\": 10003161, \"shape\": \"dot\", \"size\": 10}, {\"birth_year\": 1621, \"color\": \"#97c2fc\", \"death_year\": 1694, \"gender\": \"male\", \"historical_significance\": \"local politician and author\", \"id\": \"Alexander Skene of Newtyle\", \"label\": \"Alexander Skene of Newtyle\", \"sfdb_id\": 10011149, \"shape\": \"dot\", \"size\": 10}, {\"birth_year\": 1626, \"color\": \"#97c2fc\", \"death_year\": 1697, \"gender\": \"male\", \"historical_significance\": \"Quaker preacher and poet\", \"id\": \"Lilias Skene\", \"label\": \"Lilias Skene\", \"sfdb_id\": 10011152, \"shape\": \"dot\", \"size\": 10}, {\"birth_year\": 1656, \"color\": \"#97c2fc\", \"death_year\": 1659, \"gender\": \"female\", \"historical_significance\": \"Quaker preacher\", \"id\": \"Dorcas Erbery\", \"label\": \"Dorcas Erbery\", \"sfdb_id\": 10003983, \"shape\": \"dot\", \"size\": 10}, {\"birth_year\": 1624, \"color\": \"#97c2fc\", \"death_year\": 1665, \"gender\": \"female\", \"historical_significance\": \"Quaker and author\", \"id\": \"Martha Simmonds\", \"label\": \"Martha Simmonds\", \"sfdb_id\": 10011100, \"shape\": \"dot\", \"size\": 10}, {\"birth_year\": 1656, \"color\": \"#97c2fc\", \"death_year\": 1671, \"gender\": \"female\", \"historical_significance\": \"Quaker missionary\", \"id\": \"Hannah Stranger\", \"label\": \"Hannah Stranger\", \"sfdb_id\": 10011632, \"shape\": \"dot\", \"size\": 10}, {\"birth_year\": 1569, \"color\": \"#97c2fc\", \"death_year\": 1679, \"gender\": \"male\", \"historical_significance\": \"Quaker leader\", \"id\": \"Gervase Benson\", \"label\": \"Gervase Benson\", \"sfdb_id\": 10000972, \"shape\": \"dot\", \"size\": 10}, {\"birth_year\": 1630, \"color\": \"#97c2fc\", \"death_year\": 1666, \"gender\": \"male\", \"historical_significance\": \"Quaker preacher and writer\", \"id\": \"Richard Farnworth\", \"label\": \"Richard Farnworth\", \"sfdb_id\": 10004141, \"shape\": \"dot\", \"size\": 10}, {\"birth_year\": 1607, \"color\": \"#97c2fc\", \"death_year\": 1679, \"gender\": \"male\", \"historical_significance\": \"Quaker adherent and sectary\", \"id\": \"Robert Rich\", \"label\": \"Robert Rich\", \"sfdb_id\": 10010260, \"shape\": \"dot\", \"size\": 10}, {\"birth_year\": 1627, \"color\": \"#97c2fc\", \"death_year\": 1666, \"gender\": \"male\", \"historical_significance\": \"Quaker administrator\", \"id\": \"Anthony Pearson\", \"label\": \"Anthony Pearson\", \"sfdb_id\": 10009470, \"shape\": \"dot\", \"size\": 10}, {\"birth_year\": 1650, \"color\": \"#97c2fc\", \"death_year\": 1696, \"gender\": \"male\", \"historical_significance\": \"religious writer\", \"id\": \"William Tomlinson\", \"label\": \"William Tomlinson\", \"sfdb_id\": 10011989, \"shape\": \"dot\", \"size\": 10}, {\"birth_year\": 1628, \"color\": \"#97c2fc\", \"death_year\": 1711, \"gender\": \"male\", \"historical_significance\": \"Quaker leader and writer\", \"id\": \"William Crouch\", \"label\": \"William Crouch\", \"sfdb_id\": 10003087, \"shape\": \"dot\", \"size\": 10}, {\"birth_year\": 1605, \"color\": \"#97c2fc\", \"death_year\": 1657, \"gender\": \"male\", \"historical_significance\": \"Quaker preacher\", \"id\": \"John Camm\", \"label\": \"John Camm\", \"sfdb_id\": 10001968, \"shape\": \"dot\", \"size\": 10}, {\"birth_year\": 1560, \"color\": \"#97c2fc\", \"death_year\": 1670, \"gender\": \"male\", \"historical_significance\": \"parliamentarian army officer\", \"id\": \"Edward Pyott\", \"label\": \"Edward Pyott\", \"sfdb_id\": 10010036, \"shape\": \"dot\", \"size\": 10}, {\"birth_year\": 1637, \"color\": \"#97c2fc\", \"death_year\": 1698, \"gender\": \"male\", \"historical_significance\": \"Quaker preacher and apothecary\", \"id\": \"Charles Marshall\", \"label\": \"Charles Marshall\", \"sfdb_id\": 10007992, \"shape\": \"dot\", \"size\": 10}, {\"birth_year\": 1627, \"color\": \"#97c2fc\", \"death_year\": 1705, \"gender\": \"female\", \"historical_significance\": \"Quaker preacher\", \"id\": \"Anne Camm\", \"label\": \"Anne Camm\", \"sfdb_id\": 10001967, \"shape\": \"dot\", \"size\": 10}, {\"birth_year\": 1640, \"color\": \"#97c2fc\", \"death_year\": 1708, \"gender\": \"male\", \"historical_significance\": \"Quaker preacher and writer\", \"id\": \"Thomas Camm\", \"label\": \"Thomas Camm\", \"sfdb_id\": 10001969, \"shape\": \"dot\", \"size\": 10}, {\"birth_year\": 1631, \"color\": \"#97c2fc\", \"death_year\": 1711, \"gender\": \"female\", \"historical_significance\": NaN, \"id\": \"Jane Sowle\", \"label\": \"Jane Sowle\", \"sfdb_id\": 10011331, \"shape\": \"dot\", \"size\": 10}, {\"birth_year\": 1654, \"color\": \"#97c2fc\", \"death_year\": 1725, \"gender\": \"male\", \"historical_significance\": \"political economist and cloth merchant\", \"id\": \"John Bellers\", \"label\": \"John Bellers\", \"sfdb_id\": 10000934, \"shape\": \"dot\", \"size\": 10}, {\"birth_year\": 1687, \"color\": \"#97c2fc\", \"death_year\": 1750, \"gender\": \"male\", \"historical_significance\": \"philosophical writer and playwright\", \"id\": \"Fettiplace Bellers\", \"label\": \"Fettiplace Bellers\", \"sfdb_id\": 10000933, \"shape\": \"dot\", \"size\": 10}, {\"birth_year\": 1551, \"color\": \"#97c2fc\", \"death_year\": 1661, \"gender\": \"male\", \"historical_significance\": \"religious writer\", \"id\": \"George Fox the younger\", \"label\": \"George Fox the younger\", \"sfdb_id\": 10004523, \"shape\": \"dot\", \"size\": 10}, {\"birth_year\": 1633, \"color\": \"#97c2fc\", \"death_year\": 1720, \"gender\": \"male\", \"historical_significance\": \"Quaker activist and physician\", \"id\": \"Thomas Lower\", \"label\": \"Thomas Lower\", \"sfdb_id\": 10007626, \"shape\": \"dot\", \"size\": 10}, {\"birth_year\": 1630, \"color\": \"#97c2fc\", \"death_year\": 1691, \"gender\": \"male\", \"historical_significance\": \"Quaker minister and botanist\", \"id\": \"Thomas Lawson\", \"label\": \"Thomas Lawson\", \"sfdb_id\": 10007210, \"shape\": \"dot\", \"size\": 10}, {\"birth_year\": 1555, \"color\": \"#97c2fc\", \"death_year\": 1665, \"gender\": \"female\", \"historical_significance\": \"Quaker missionary\", \"id\": \"Elizabeth Leavens\", \"label\": \"Elizabeth Leavens\", \"sfdb_id\": 10007246, \"shape\": \"dot\", \"size\": 10}, {\"birth_year\": 1617, \"color\": \"#97c2fc\", \"death_year\": 1682, \"gender\": \"male\", \"historical_significance\": \"musician and Quaker missionary\", \"id\": \"Solomon Eccles\", \"label\": \"Solomon Eccles\", \"sfdb_id\": 10003859, \"shape\": \"dot\", \"size\": 10}, {\"birth_year\": 1604, \"color\": \"#97c2fc\", \"death_year\": 1665, \"gender\": \"male\", \"historical_significance\": \"Quaker preacher and writer\", \"id\": \"Samuel Fisher\", \"label\": \"Samuel Fisher\", \"sfdb_id\": 10004292, \"shape\": \"dot\", \"size\": 10}, {\"birth_year\": 1623, \"color\": \"#97c2fc\", \"death_year\": 1698, \"gender\": \"female\", \"historical_significance\": \"Quaker missionary\", \"id\": \"Mary Fisher\", \"label\": \"Mary Fisher\", \"sfdb_id\": 10004290, \"shape\": \"dot\", \"size\": 10}, {\"birth_year\": 1569, \"color\": \"#97c2fc\", \"death_year\": 1679, \"gender\": \"female\", \"historical_significance\": \"Quaker preacher\", \"id\": \"Mary Prince\", \"label\": \"Mary Prince\", \"sfdb_id\": 10009959, \"shape\": \"dot\", \"size\": 10}, {\"birth_year\": 1552, \"color\": \"#97c2fc\", \"death_year\": 1662, \"gender\": \"male\", \"historical_significance\": \"Quaker preacher\", \"id\": \"William Ames\", \"label\": \"William Ames\", \"sfdb_id\": 10000175, \"shape\": \"dot\", \"size\": 10}, {\"birth_year\": 1625, \"color\": \"#97c2fc\", \"death_year\": 1697, \"gender\": \"male\", \"historical_significance\": \"Quaker leader\", \"id\": \"John ap John\", \"label\": \"John ap John\", \"sfdb_id\": 10000243, \"shape\": \"dot\", \"size\": 10}, {\"birth_year\": 1627, \"color\": \"#97c2fc\", \"death_year\": 1712, \"gender\": \"male\", \"historical_significance\": \"Quaker leader\", \"id\": \"William Edmundson\", \"label\": \"William Edmundson\", \"sfdb_id\": 10003882, \"shape\": \"dot\", \"size\": 10}, {\"birth_year\": 1666, \"color\": \"#97c2fc\", \"death_year\": 1743, \"gender\": \"male\", \"historical_significance\": \"naval officer and politician\", \"id\": \"Sir Charles Wager\", \"label\": \"Sir Charles Wager\", \"sfdb_id\": 10012403, \"shape\": \"dot\", \"size\": 10}, {\"birth_year\": 1620, \"color\": \"#97c2fc\", \"death_year\": 1679, \"gender\": \"male\", \"historical_significance\": \"politician\", \"id\": \"John Swinton\", \"label\": \"John Swinton\", \"sfdb_id\": 10011742, \"shape\": \"dot\", \"size\": 10}, {\"birth_year\": 1616, \"color\": \"#97c2fc\", \"death_year\": 1660, \"gender\": \"male\", \"historical_significance\": \"Quaker preacher and writer\", \"id\": \"Thomas Aldam\", \"label\": \"Thomas Aldam\", \"sfdb_id\": 10000099, \"shape\": \"dot\", \"size\": 10}, {\"birth_year\": 1619, \"color\": \"#97c2fc\", \"death_year\": 1679, \"gender\": \"female\", \"historical_significance\": \"Quaker missionary\", \"id\": \"Alice Curwen\", \"label\": \"Alice Curwen\", \"sfdb_id\": 10003162, \"shape\": \"dot\", \"size\": 10}, {\"birth_year\": 1643, \"color\": \"#97c2fc\", \"death_year\": 1707, \"gender\": \"male\", \"historical_significance\": \"Quaker leader\", \"id\": \"Anthony Sharp\", \"label\": \"Anthony Sharp\", \"sfdb_id\": 10010941, \"shape\": \"dot\", \"size\": 10}, {\"birth_year\": 1631, \"color\": \"#97c2fc\", \"death_year\": 1704, \"gender\": \"male\", \"historical_significance\": \"Quaker activist\", \"id\": \"Samuel Clarridge\", \"label\": \"Samuel Clarridge\", \"sfdb_id\": 10002504, \"shape\": \"dot\", \"size\": 10}, {\"birth_year\": 1627, \"color\": \"#97c2fc\", \"death_year\": 1671, \"gender\": \"male\", \"historical_significance\": \"Quaker preacher\", \"id\": \"William Simpson\", \"label\": \"William Simpson\", \"sfdb_id\": 10011114, \"shape\": \"dot\", \"size\": 10}, {\"birth_year\": 1683, \"color\": \"#97c2fc\", \"death_year\": 1761, \"gender\": \"female\", \"historical_significance\": \"Quaker minister\", \"id\": \"Lydia Lancaster\", \"label\": \"Lydia Lancaster\", \"sfdb_id\": 10007110, \"shape\": \"dot\", \"size\": 10}, {\"birth_year\": 1676, \"color\": \"#97c2fc\", \"death_year\": 1762, \"gender\": \"female\", \"historical_significance\": \"Quaker minister\", \"id\": \"Grace Chamber\", \"label\": \"Grace Chamber\", \"sfdb_id\": 10002274, \"shape\": \"dot\", \"size\": 10}, {\"birth_year\": 1673, \"color\": \"#97c2fc\", \"death_year\": 1738, \"gender\": \"male\", \"historical_significance\": \"religious controversialist\", \"id\": \"Henry Pickworth\", \"label\": \"Henry Pickworth\", \"sfdb_id\": 10009697, \"shape\": \"dot\", \"size\": 10}, {\"birth_year\": 1634, \"color\": \"#97c2fc\", \"death_year\": 1659, \"gender\": \"female\", \"historical_significance\": \"Quaker preacher in America\", \"id\": \"Sarah Gibbons\", \"label\": \"Sarah Gibbons\", \"sfdb_id\": 10004811, \"shape\": \"dot\", \"size\": 10}, {\"birth_year\": 1636, \"color\": \"#97c2fc\", \"death_year\": 1666, \"gender\": \"female\", \"historical_significance\": \"Quaker preacher\", \"id\": \"Dorothy Waugh\", \"label\": \"Dorothy Waugh\", \"sfdb_id\": 10012614, \"shape\": \"dot\", \"size\": 10}, {\"birth_year\": 1665, \"color\": \"#97c2fc\", \"death_year\": 1745, \"gender\": \"male\", \"historical_significance\": \"banker and lobbyist\", \"id\": \"John Freame\", \"label\": \"John Freame\", \"sfdb_id\": 10004564, \"shape\": \"dot\", \"size\": 10}, {\"birth_year\": 1682, \"color\": \"#97c2fc\", \"death_year\": 1769, \"gender\": \"male\", \"historical_significance\": \"merchant\", \"id\": \"David Barclay\", \"label\": \"David Barclay\", \"sfdb_id\": 10000622, \"shape\": \"dot\", \"size\": 10}, {\"birth_year\": 1655, \"color\": \"#97c2fc\", \"death_year\": 1660, \"gender\": \"male\", \"historical_significance\": \"Quaker missionary and author\", \"id\": \"Humphrey Norton\", \"label\": \"Humphrey Norton\", \"sfdb_id\": 10008917, \"shape\": \"dot\", \"size\": 10}, {\"birth_year\": 1585, \"color\": \"#97c2fc\", \"death_year\": 1695, \"gender\": \"male\", \"historical_significance\": \"Quaker missionary\", \"id\": \"John Rous\", \"label\": \"John Rous\", \"sfdb_id\": 10010488, \"shape\": \"dot\", \"size\": 10}, {\"birth_year\": 1628, \"color\": \"#97c2fc\", \"death_year\": 1684, \"gender\": \"male\", \"historical_significance\": \"Quaker leader\", \"id\": \"William Gibson\", \"label\": \"William Gibson\", \"sfdb_id\": 10004827, \"shape\": \"dot\", \"size\": 10}, {\"birth_year\": 1626, \"color\": \"#97c2fc\", \"death_year\": 1666, \"gender\": \"male\", \"historical_significance\": \"Quaker missionary\", \"id\": \"Thomas Holme\", \"label\": \"Thomas Holme\", \"sfdb_id\": 10006100, \"shape\": \"dot\", \"size\": 10}, {\"birth_year\": 1693, \"color\": \"#97c2fc\", \"death_year\": 1767, \"gender\": \"male\", \"historical_significance\": \"merchant and colonial governor\", \"id\": \"Gideon Wanton\", \"label\": \"Gideon Wanton\", \"sfdb_id\": 10012509, \"shape\": \"dot\", \"size\": 10}, {\"birth_year\": 1672, \"color\": \"#97c2fc\", \"death_year\": 1740, \"gender\": \"male\", \"historical_significance\": \"merchant and colonial governor\", \"id\": \"John Wanton\", \"label\": \"John Wanton\", \"sfdb_id\": 10012510, \"shape\": \"dot\", \"size\": 10}, {\"birth_year\": 1683, \"color\": \"#97c2fc\", \"death_year\": 1757, \"gender\": \"male\", \"historical_significance\": \"historian of Quakerism\", \"id\": \"Joseph Besse\", \"label\": \"Joseph Besse\", \"sfdb_id\": 10001027, \"shape\": \"dot\", \"size\": 10}, {\"birth_year\": 1677, \"color\": \"#97c2fc\", \"death_year\": 1753, \"gender\": \"male\", \"historical_significance\": \"Quaker minister and writer\", \"id\": \"Samuel Bownas\", \"label\": \"Samuel Bownas\", \"sfdb_id\": 10001390, \"shape\": \"dot\", \"size\": 10}, {\"birth_year\": 1691, \"color\": \"#97c2fc\", \"death_year\": 1765, \"gender\": \"male\", \"historical_significance\": \"apothecary\", \"id\": \"Silvanus Bevan\", \"label\": \"Silvanus Bevan\", \"sfdb_id\": 10001041, \"shape\": \"dot\", \"size\": 10}, {\"birth_year\": 1618, \"color\": \"#97c2fc\", \"death_year\": 1692, \"gender\": \"female\", \"historical_significance\": \"Quaker missionary\", \"id\": \"Katharine Evans\", \"label\": \"Katharine Evans\", \"sfdb_id\": 10004036, \"shape\": \"dot\", \"size\": 10}, {\"birth_year\": 1608, \"color\": \"#97c2fc\", \"death_year\": 1664, \"gender\": \"female\", \"historical_significance\": \"Quaker missionary\", \"id\": \"Sarah Cheevers\", \"label\": \"Sarah Cheevers\", \"sfdb_id\": 10002354, \"shape\": \"dot\", \"size\": 10}, {\"birth_year\": 1656, \"color\": \"#97c2fc\", \"death_year\": 1722, \"gender\": \"male\", \"historical_significance\": \"Quaker bibliographer and writer\", \"id\": \"John Whiting\", \"label\": \"John Whiting\", \"sfdb_id\": 10012829, \"shape\": \"dot\", \"size\": 10}, {\"birth_year\": 1614, \"color\": \"#97c2fc\", \"death_year\": 1686, \"gender\": \"male\", \"historical_significance\": \"religious writer and schoolmaster\", \"id\": \"Christopher Taylor\", \"label\": \"Christopher Taylor\", \"sfdb_id\": 10011811, \"shape\": \"dot\", \"size\": 10}, {\"birth_year\": 1617, \"color\": \"#97c2fc\", \"death_year\": 1682, \"gender\": \"male\", \"historical_significance\": \"Quaker minister and writer\", \"id\": \"Thomas Taylor\", \"label\": \"Thomas Taylor\", \"sfdb_id\": 10011824, \"shape\": \"dot\", \"size\": 10}, {\"birth_year\": 1655, \"color\": \"#97c2fc\", \"death_year\": 1710, \"gender\": \"male\", \"historical_significance\": \"Quaker apologist and controversialist\", \"id\": \"John Penington\", \"label\": \"John Penington\", \"sfdb_id\": 10009526, \"shape\": \"dot\", \"size\": 10}, {\"birth_year\": 1633, \"color\": \"#97c2fc\", \"death_year\": 1707, \"gender\": \"male\", \"historical_significance\": \"religious writer\", \"id\": \"Humphrey Woolrich\", \"label\": \"Humphrey Woolrich\", \"sfdb_id\": 10013112, \"shape\": \"dot\", \"size\": 10}, {\"birth_year\": 1630, \"color\": \"#97c2fc\", \"death_year\": 1701, \"gender\": \"female\", \"historical_significance\": NaN, \"id\": \"Mary Pennyman\", \"label\": \"Mary Pennyman\", \"sfdb_id\": 10009535, \"shape\": \"dot\", \"size\": 10}, {\"birth_year\": 1590, \"color\": \"#97c2fc\", \"death_year\": 1700, \"gender\": \"male\", \"historical_significance\": \"religious writer\", \"id\": \"Richard Vickris\", \"label\": \"Richard Vickris\", \"sfdb_id\": 10012350, \"shape\": \"dot\", \"size\": 10}, {\"birth_year\": 1558, \"color\": \"#97c2fc\", \"death_year\": 1668, \"gender\": \"male\", \"historical_significance\": \"government official and religious writer\", \"id\": \"George Bishop\", \"label\": \"George Bishop\", \"sfdb_id\": 10001097, \"shape\": \"dot\", \"size\": 10}, {\"birth_year\": 1671, \"color\": \"#97c2fc\", \"death_year\": 1746, \"gender\": \"male\", \"historical_significance\": \"politician in America\", \"id\": \"Lewis Morris\", \"label\": \"Lewis Morris\", \"sfdb_id\": 10008534, \"shape\": \"dot\", \"size\": 10}]);\n",
              "                  edges = new vis.DataSet([{\"from\": \"George Keith\", \"to\": \"Robert Barclay\", \"width\": 1}, {\"from\": \"George Keith\", \"to\": \"Benjamin Furly\", \"width\": 1}, {\"from\": \"George Keith\", \"to\": \"Anne Conway Viscountess Conway and Killultagh\", \"width\": 1}, {\"from\": \"George Keith\", \"to\": \"Franciscus Mercurius van Helmont\", \"width\": 1}, {\"from\": \"George Keith\", \"to\": \"William Penn\", \"width\": 1}, {\"from\": \"George Keith\", \"to\": \"George Fox\", \"width\": 1}, {\"from\": \"George Keith\", \"to\": \"George Whitehead\", \"width\": 1}, {\"from\": \"George Keith\", \"to\": \"William Bradford\", \"width\": 1}, {\"from\": \"Robert Barclay\", \"to\": \"Benjamin Furly\", \"width\": 1}, {\"from\": \"Robert Barclay\", \"to\": \"David Barclay of Ury\", \"width\": 1}, {\"from\": \"Benjamin Furly\", \"to\": \"James Parnel\", \"width\": 1}, {\"from\": \"Benjamin Furly\", \"to\": \"Franciscus Mercurius van Helmont\", \"width\": 1}, {\"from\": \"Benjamin Furly\", \"to\": \"George Fox\", \"width\": 1}, {\"from\": \"Benjamin Furly\", \"to\": \"John Stubbs\", \"width\": 1}, {\"from\": \"Benjamin Furly\", \"to\": \"Stephen Crisp\", \"width\": 1}, {\"from\": \"Benjamin Furly\", \"to\": \"Alexander Parker\", \"width\": 1}, {\"from\": \"Benjamin Furly\", \"to\": \"William Caton\", \"width\": 1}, {\"from\": \"Benjamin Furly\", \"to\": \"William Penn\", \"width\": 1}, {\"from\": \"William Penn\", \"to\": \"William Bradford\", \"width\": 1}, {\"from\": \"William Penn\", \"to\": \"Isabel Yeamans\", \"width\": 1}, {\"from\": \"William Penn\", \"to\": \"George Fox\", \"width\": 1}, {\"from\": \"William Penn\", \"to\": \"Isaac Norris\", \"width\": 1}, {\"from\": \"William Penn\", \"to\": \"James Logan\", \"width\": 1}, {\"from\": \"William Penn\", \"to\": \"Edward Haistwell\", \"width\": 1}, {\"from\": \"William Penn\", \"to\": \"George Whitehead\", \"width\": 1}, {\"from\": \"William Penn\", \"to\": \"John Burnyeat\", \"width\": 1}, {\"from\": \"William Penn\", \"to\": \"Rebecca Travers\", \"width\": 1}, {\"from\": \"William Penn\", \"to\": \"Tace Sowle\", \"width\": 1}, {\"from\": \"William Penn\", \"to\": \"James Claypoole\", \"width\": 1}, {\"from\": \"William Penn\", \"to\": \"Thomas Story\", \"width\": 1}, {\"from\": \"William Penn\", \"to\": \"Mary Penington\", \"width\": 1}, {\"from\": \"William Penn\", \"to\": \"David Lloyd\", \"width\": 1}, {\"from\": \"William Penn\", \"to\": \"Margaret Fell\", \"width\": 1}, {\"from\": \"William Penn\", \"to\": \"Richard Claridge\", \"width\": 1}, {\"from\": \"George Fox\", \"to\": \"William Mucklow\", \"width\": 1}, {\"from\": \"George Fox\", \"to\": \"William Dewsbury\", \"width\": 1}, {\"from\": \"George Fox\", \"to\": \"John Audland\", \"width\": 1}, {\"from\": \"George Fox\", \"to\": \"Francis Howgill\", \"width\": 1}, {\"from\": \"George Fox\", \"to\": \"Ellis Hookes\", \"width\": 1}, {\"from\": \"George Fox\", \"to\": \"William Mead\", \"width\": 1}, {\"from\": \"George Fox\", \"to\": \"Elizabeth Hooten\", \"width\": 1}, {\"from\": \"George Fox\", \"to\": \"Margaret Fell\", \"width\": 1}, {\"from\": \"George Fox\", \"to\": \"John Crook\", \"width\": 1}, {\"from\": \"George Fox\", \"to\": \"George Whitehead\", \"width\": 1}, {\"from\": \"George Fox\", \"to\": \"Thomas Salthouse\", \"width\": 1}, {\"from\": \"George Fox\", \"to\": \"James Nayler\", \"width\": 1}, {\"from\": \"George Fox\", \"to\": \"Edward Burrough\", \"width\": 1}, {\"from\": \"George Fox\", \"to\": \"John Wilkinson\", \"width\": 1}, {\"from\": \"George Fox\", \"to\": \"Thomas Ellwood\", \"width\": 1}, {\"from\": \"George Fox\", \"to\": \"William Coddington\", \"width\": 1}, {\"from\": \"George Fox\", \"to\": \"John Stubbs\", \"width\": 1}, {\"from\": \"George Fox\", \"to\": \"John Perrot\", \"width\": 1}, {\"from\": \"George Fox\", \"to\": \"Leonard Fell\", \"width\": 1}, {\"from\": \"George Whitehead\", \"to\": \"William Rogers\", \"width\": 1}, {\"from\": \"George Whitehead\", \"to\": \"James Nayler\", \"width\": 1}, {\"from\": \"George Whitehead\", \"to\": \"Francis Bugg\", \"width\": 1}, {\"from\": \"George Whitehead\", \"to\": \"Gilbert Latey\", \"width\": 1}, {\"from\": \"George Whitehead\", \"to\": \"Richard Hubberthorne\", \"width\": 1}, {\"from\": \"George Whitehead\", \"to\": \"Alexander Parker\", \"width\": 1}, {\"from\": \"George Whitehead\", \"to\": \"John Whitehead\", \"width\": 1}, {\"from\": \"George Whitehead\", \"to\": \"Daniel Quare\", \"width\": 1}, {\"from\": \"George Whitehead\", \"to\": \"John Story\", \"width\": 1}, {\"from\": \"George Whitehead\", \"to\": \"Rebecca Travers\", \"width\": 1}, {\"from\": \"William Bradford\", \"to\": \"Tace Sowle\", \"width\": 1}, {\"from\": \"James Parnel\", \"to\": \"Stephen Crisp\", \"width\": 1}, {\"from\": \"Stephen Crisp\", \"to\": \"William Caton\", \"width\": 1}, {\"from\": \"Peter Collinson\", \"to\": \"John Bartram\", \"width\": 1}, {\"from\": \"Peter Collinson\", \"to\": \"James Logan\", \"width\": 1}, {\"from\": \"John Bartram\", \"to\": \"James Logan\", \"width\": 1}, {\"from\": \"James Logan\", \"to\": \"David Lloyd\", \"width\": 1}, {\"from\": \"Joseph Wyeth\", \"to\": \"Thomas Ellwood\", \"width\": 1}, {\"from\": \"Thomas Ellwood\", \"to\": \"William Rogers\", \"width\": 1}, {\"from\": \"Thomas Ellwood\", \"to\": \"James Nayler\", \"width\": 1}, {\"from\": \"Thomas Ellwood\", \"to\": \"Edward Burrough\", \"width\": 1}, {\"from\": \"Thomas Ellwood\", \"to\": \"Mary Penington\", \"width\": 1}, {\"from\": \"Thomas Ellwood\", \"to\": \"Thomas Curtis\", \"width\": 1}, {\"from\": \"Thomas Ellwood\", \"to\": \"John Story\", \"width\": 1}, {\"from\": \"Alexander Skene of Newtyle\", \"to\": \"Lilias Skene\", \"width\": 1}, {\"from\": \"Dorcas Erbery\", \"to\": \"James Nayler\", \"width\": 1}, {\"from\": \"James Nayler\", \"to\": \"Francis Howgill\", \"width\": 1}, {\"from\": \"James Nayler\", \"to\": \"Martha Simmonds\", \"width\": 1}, {\"from\": \"James Nayler\", \"to\": \"Hannah Stranger\", \"width\": 1}, {\"from\": \"James Nayler\", \"to\": \"Gervase Benson\", \"width\": 1}, {\"from\": \"James Nayler\", \"to\": \"Margaret Fell\", \"width\": 1}, {\"from\": \"James Nayler\", \"to\": \"Richard Farnworth\", \"width\": 1}, {\"from\": \"James Nayler\", \"to\": \"John Perrot\", \"width\": 1}, {\"from\": \"James Nayler\", \"to\": \"Robert Rich\", \"width\": 1}, {\"from\": \"James Nayler\", \"to\": \"Anthony Pearson\", \"width\": 1}, {\"from\": \"James Nayler\", \"to\": \"Edward Burrough\", \"width\": 1}, {\"from\": \"James Nayler\", \"to\": \"Rebecca Travers\", \"width\": 1}, {\"from\": \"James Nayler\", \"to\": \"William Tomlinson\", \"width\": 1}, {\"from\": \"William Dewsbury\", \"to\": \"Edward Burrough\", \"width\": 1}, {\"from\": \"William Dewsbury\", \"to\": \"John Crook\", \"width\": 1}, {\"from\": \"Edward Burrough\", \"to\": \"Francis Howgill\", \"width\": 1}, {\"from\": \"Edward Burrough\", \"to\": \"John Crook\", \"width\": 1}, {\"from\": \"Edward Burrough\", \"to\": \"Gilbert Latey\", \"width\": 1}, {\"from\": \"Edward Burrough\", \"to\": \"John Perrot\", \"width\": 1}, {\"from\": \"Edward Burrough\", \"to\": \"William Crouch\", \"width\": 1}, {\"from\": \"John Crook\", \"to\": \"John Perrot\", \"width\": 1}, {\"from\": \"John Audland\", \"to\": \"John Camm\", \"width\": 1}, {\"from\": \"John Audland\", \"to\": \"Francis Howgill\", \"width\": 1}, {\"from\": \"John Audland\", \"to\": \"Edward Pyott\", \"width\": 1}, {\"from\": \"John Audland\", \"to\": \"Charles Marshall\", \"width\": 1}, {\"from\": \"John Audland\", \"to\": \"Anne Camm\", \"width\": 1}, {\"from\": \"John Camm\", \"to\": \"Charles Marshall\", \"width\": 1}, {\"from\": \"John Camm\", \"to\": \"Thomas Camm\", \"width\": 1}, {\"from\": \"John Camm\", \"to\": \"Edward Pyott\", \"width\": 1}, {\"from\": \"Francis Howgill\", \"to\": \"Martha Simmonds\", \"width\": 1}, {\"from\": \"Francis Howgill\", \"to\": \"Richard Farnworth\", \"width\": 1}, {\"from\": \"Francis Howgill\", \"to\": \"William Crouch\", \"width\": 1}, {\"from\": \"Charles Marshall\", \"to\": \"John Wilkinson\", \"width\": 1}, {\"from\": \"Anne Camm\", \"to\": \"Thomas Camm\", \"width\": 1}, {\"from\": \"Martha Simmonds\", \"to\": \"Hannah Stranger\", \"width\": 1}, {\"from\": \"Richard Farnworth\", \"to\": \"Richard Hubberthorne\", \"width\": 1}, {\"from\": \"Richard Farnworth\", \"to\": \"John Perrot\", \"width\": 1}, {\"from\": \"Richard Farnworth\", \"to\": \"Margaret Fell\", \"width\": 1}, {\"from\": \"Richard Farnworth\", \"to\": \"Anthony Pearson\", \"width\": 1}, {\"from\": \"Tace Sowle\", \"to\": \"Jane Sowle\", \"width\": 1}, {\"from\": \"John Bellers\", \"to\": \"Fettiplace Bellers\", \"width\": 1}, {\"from\": \"George Fox the younger\", \"to\": \"Margaret Fell\", \"width\": 1}, {\"from\": \"Margaret Fell\", \"to\": \"Thomas Salthouse\", \"width\": 1}, {\"from\": \"Margaret Fell\", \"to\": \"Thomas Lower\", \"width\": 1}, {\"from\": \"Margaret Fell\", \"to\": \"William Mead\", \"width\": 1}, {\"from\": \"Margaret Fell\", \"to\": \"William Caton\", \"width\": 1}, {\"from\": \"Margaret Fell\", \"to\": \"Thomas Lawson\", \"width\": 1}, {\"from\": \"Margaret Fell\", \"to\": \"Alexander Parker\", \"width\": 1}, {\"from\": \"Margaret Fell\", \"to\": \"Elizabeth Leavens\", \"width\": 1}, {\"from\": \"Margaret Fell\", \"to\": \"Anthony Pearson\", \"width\": 1}, {\"from\": \"John Wilkinson\", \"to\": \"Solomon Eccles\", \"width\": 1}, {\"from\": \"John Wilkinson\", \"to\": \"John Story\", \"width\": 1}, {\"from\": \"John Wilkinson\", \"to\": \"Alexander Parker\", \"width\": 1}, {\"from\": \"John Stubbs\", \"to\": \"William Caton\", \"width\": 1}, {\"from\": \"John Stubbs\", \"to\": \"Samuel Fisher\", \"width\": 1}, {\"from\": \"John Stubbs\", \"to\": \"John Burnyeat\", \"width\": 1}, {\"from\": \"John Perrot\", \"to\": \"Mary Fisher\", \"width\": 1}, {\"from\": \"John Perrot\", \"to\": \"Mary Prince\", \"width\": 1}, {\"from\": \"William Caton\", \"to\": \"William Ames\", \"width\": 1}, {\"from\": \"John Burnyeat\", \"to\": \"John ap John\", \"width\": 1}, {\"from\": \"John Burnyeat\", \"to\": \"William Edmundson\", \"width\": 1}, {\"from\": \"Thomas Camm\", \"to\": \"John Story\", \"width\": 1}, {\"from\": \"John Story\", \"to\": \"Solomon Eccles\", \"width\": 1}, {\"from\": \"John Story\", \"to\": \"Thomas Curtis\", \"width\": 1}, {\"from\": \"Alexander Parker\", \"to\": \"Thomas Lawson\", \"width\": 1}, {\"from\": \"Alexander Parker\", \"to\": \"Sir Charles Wager\", \"width\": 1}, {\"from\": \"John Swinton\", \"to\": \"David Barclay of Ury\", \"width\": 1}, {\"from\": \"Gervase Benson\", \"to\": \"Anthony Pearson\", \"width\": 1}, {\"from\": \"Robert Rich\", \"to\": \"William Tomlinson\", \"width\": 1}, {\"from\": \"Anthony Pearson\", \"to\": \"Thomas Aldam\", \"width\": 1}, {\"from\": \"Rebecca Travers\", \"to\": \"Alice Curwen\", \"width\": 1}, {\"from\": \"Anthony Sharp\", \"to\": \"Samuel Clarridge\", \"width\": 1}, {\"from\": \"Anthony Sharp\", \"to\": \"Thomas Curtis\", \"width\": 1}, {\"from\": \"Anthony Sharp\", \"to\": \"William Edmundson\", \"width\": 1}, {\"from\": \"Samuel Clarridge\", \"to\": \"James Claypoole\", \"width\": 1}, {\"from\": \"Thomas Curtis\", \"to\": \"Mary Penington\", \"width\": 1}, {\"from\": \"Thomas Curtis\", \"to\": \"William Simpson\", \"width\": 1}, {\"from\": \"Mary Fisher\", \"to\": \"Mary Prince\", \"width\": 1}, {\"from\": \"Lydia Lancaster\", \"to\": \"Grace Chamber\", \"width\": 1}, {\"from\": \"Henry Pickworth\", \"to\": \"Francis Bugg\", \"width\": 1}, {\"from\": \"Sarah Gibbons\", \"to\": \"Dorothy Waugh\", \"width\": 1}, {\"from\": \"John Freame\", \"to\": \"David Barclay\", \"width\": 1}, {\"from\": \"Humphrey Norton\", \"to\": \"John Rous\", \"width\": 1}, {\"from\": \"William Gibson\", \"to\": \"Thomas Holme\", \"width\": 1}, {\"from\": \"Thomas Holme\", \"to\": \"Elizabeth Leavens\", \"width\": 1}, {\"from\": \"Gideon Wanton\", \"to\": \"John Wanton\", \"width\": 1}, {\"from\": \"Joseph Besse\", \"to\": \"Richard Claridge\", \"width\": 1}, {\"from\": \"Joseph Besse\", \"to\": \"Samuel Bownas\", \"width\": 1}, {\"from\": \"Daniel Quare\", \"to\": \"Silvanus Bevan\", \"width\": 1}, {\"from\": \"Katharine Evans\", \"to\": \"Sarah Cheevers\", \"width\": 1}, {\"from\": \"John Whiting\", \"to\": \"Christopher Taylor\", \"width\": 1}, {\"from\": \"Christopher Taylor\", \"to\": \"Thomas Taylor\", \"width\": 1}, {\"from\": \"John Penington\", \"to\": \"Mary Penington\", \"width\": 1}, {\"from\": \"Humphrey Woolrich\", \"to\": \"Mary Pennyman\", \"width\": 1}, {\"from\": \"Richard Vickris\", \"to\": \"George Bishop\", \"width\": 1}, {\"from\": \"Lewis Morris\", \"to\": \"Sir Charles Wager\", \"width\": 1}]);\n",
              "\n",
              "                  nodeColors = {};\n",
              "                  allNodes = nodes.get({ returnType: \"Object\" });\n",
              "                  for (nodeId in allNodes) {\n",
              "                    nodeColors[nodeId] = allNodes[nodeId].color;\n",
              "                  }\n",
              "                  allEdges = edges.get({ returnType: \"Object\" });\n",
              "                  // adding nodes and edges to the graph\n",
              "                  data = {nodes: nodes, edges: edges};\n",
              "\n",
              "                  var options = {\n",
              "    \"configure\": {\n",
              "        \"enabled\": false\n",
              "    },\n",
              "    \"edges\": {\n",
              "        \"color\": {\n",
              "            \"inherit\": true\n",
              "        },\n",
              "        \"smooth\": {\n",
              "            \"enabled\": true,\n",
              "            \"type\": \"dynamic\"\n",
              "        }\n",
              "    },\n",
              "    \"interaction\": {\n",
              "        \"dragNodes\": true,\n",
              "        \"hideEdgesOnDrag\": false,\n",
              "        \"hideNodesOnDrag\": false\n",
              "    },\n",
              "    \"physics\": {\n",
              "        \"enabled\": true,\n",
              "        \"stabilization\": {\n",
              "            \"enabled\": true,\n",
              "            \"fit\": true,\n",
              "            \"iterations\": 1000,\n",
              "            \"onlyDynamicEdges\": false,\n",
              "            \"updateInterval\": 50\n",
              "        }\n",
              "    }\n",
              "};\n",
              "\n",
              "                  \n",
              "\n",
              "\n",
              "                  \n",
              "\n",
              "                  network = new vis.Network(container, data, options);\n",
              "\n",
              "                  \n",
              "\n",
              "                  \n",
              "\n",
              "                  \n",
              "\n",
              "\n",
              "                  \n",
              "                      network.on(\"stabilizationProgress\", function(params) {\n",
              "                          document.getElementById('loadingBar').removeAttribute(\"style\");\n",
              "                          var maxWidth = 496;\n",
              "                          var minWidth = 20;\n",
              "                          var widthFactor = params.iterations/params.total;\n",
              "                          var width = Math.max(minWidth,maxWidth * widthFactor);\n",
              "                          document.getElementById('bar').style.width = width + 'px';\n",
              "                          document.getElementById('text').innerHTML = Math.round(widthFactor*100) + '%';\n",
              "                      });\n",
              "                      network.once(\"stabilizationIterationsDone\", function() {\n",
              "                          document.getElementById('text').innerHTML = '100%';\n",
              "                          document.getElementById('bar').style.width = '496px';\n",
              "                          document.getElementById('loadingBar').style.opacity = 0;\n",
              "                          // really clean the dom element\n",
              "                          setTimeout(function () {document.getElementById('loadingBar').style.display = 'none';}, 500);\n",
              "                      });\n",
              "                  \n",
              "\n",
              "                  return network;\n",
              "\n",
              "              }\n",
              "              drawGraph();\n",
              "        </script>\n",
              "    </body>\n",
              "</html>"
            ]
          },
          "metadata": {}
        }
      ]
    },
    {
      "cell_type": "markdown",
      "source": [
        "Upon observation, we can see that the network has one big community, and a few connected pairs that are not part of this main community.  \n",
        "\n",
        "#### 4.1.2. Density\n",
        "\n",
        "The next thing we want to explore is the **density** of the graph:\n",
        "* if all nodes are connected to all other nodes, we would have a density of 1\n",
        "* if no nodes are connected at all, we would have a density of 0"
      ],
      "metadata": {
        "id": "_vxOERuQcXXa"
      }
    },
    {
      "cell_type": "code",
      "source": [
        "density = nx.density(G)\n",
        "print(\"Network density:\", density)"
      ],
      "metadata": {
        "colab": {
          "base_uri": "https://localhost:8080/"
        },
        "id": "ti0Nzv9eczRJ",
        "outputId": "3e56fdc8-3786-4c9d-f1c1-1e9075d4d4b2"
      },
      "execution_count": 11,
      "outputs": [
        {
          "output_type": "stream",
          "name": "stdout",
          "text": [
            "Network density: 0.02478279447372169\n"
          ]
        }
      ]
    },
    {
      "cell_type": "markdown",
      "source": [
        "This goes in line with what we see in the visualization of the graph. We see that not all nodes are connected to each other, but some nodes are.\n",
        "\n",
        "#### 4.1.3. Shortest Path\n",
        "\n",
        "Another common exploration is finding the shortest path between a couple of nodes in the graph. To do so, we conveniently use the `shortest_path()` method."
      ],
      "metadata": {
        "id": "qPCkls7XzSrV"
      }
    },
    {
      "cell_type": "code",
      "source": [
        "# find the shortest path between Margaret Fell and George Whitehead\n",
        "fell_whitehead_path = nx.shortest_path(\n",
        "    G, source='Margaret Fell', target='George Whitehead'\n",
        ")\n",
        "\n",
        "print(\"Shortest path between Fell and Whitehead:\", fell_whitehead_path)"
      ],
      "metadata": {
        "colab": {
          "base_uri": "https://localhost:8080/"
        },
        "id": "BgaumcEkz1I4",
        "outputId": "31a8ea98-5bb8-4094-9778-79d7c87b2f27",
        "collapsed": true
      },
      "execution_count": 12,
      "outputs": [
        {
          "output_type": "stream",
          "name": "stdout",
          "text": [
            "Shortest path between Fell and Whitehead: ['Margaret Fell', 'George Fox', 'George Whitehead']\n"
          ]
        }
      ]
    },
    {
      "cell_type": "code",
      "source": [
        "# print the length of that shortest path\n",
        "print(\"Length of that path:\", len(fell_whitehead_path)-1)"
      ],
      "metadata": {
        "colab": {
          "base_uri": "https://localhost:8080/"
        },
        "id": "7NH7xtbU0gjI",
        "outputId": "03110940-4c5f-48b7-c98d-dcfd3c86427a"
      },
      "execution_count": 13,
      "outputs": [
        {
          "output_type": "stream",
          "name": "stdout",
          "text": [
            "Length of that path: 2\n"
          ]
        }
      ]
    },
    {
      "cell_type": "markdown",
      "source": [
        "#### 4.1.4. Diameter\n",
        "\n",
        "The diameter is the longest of all shortest paths. It tells us something about the overall connectedness and density of the graph."
      ],
      "metadata": {
        "id": "tkAPxMQD0s36"
      }
    },
    {
      "cell_type": "code",
      "source": [
        "# If your Graph has more than one component, this will return False:\n",
        "print(\"Graph is connected:\", nx.is_connected(G))\n",
        "\n",
        "# Next, use nx.connected_components to get the list of components,\n",
        "# then use the max() command to find the largest one:\n",
        "components = nx.connected_components(G)\n",
        "largest_component = max(components, key=len)\n",
        "\n",
        "# Create a \"subgraph\" of just the largest component\n",
        "# Then calculate the diameter of the subgraph, just like you did with density.\n",
        "#\n",
        "subgraph = G.subgraph(largest_component)\n",
        "diameter = nx.diameter(subgraph)\n",
        "print(\"Network diameter of largest component:\", diameter)"
      ],
      "metadata": {
        "colab": {
          "base_uri": "https://localhost:8080/"
        },
        "id": "Hpo1oFi51Abk",
        "outputId": "5bbf8572-64f9-4947-e797-f7a6e16a549d"
      },
      "execution_count": 14,
      "outputs": [
        {
          "output_type": "stream",
          "name": "stdout",
          "text": [
            "Graph is connected: False\n",
            "Network diameter of largest component: 8\n"
          ]
        }
      ]
    },
    {
      "cell_type": "markdown",
      "source": [
        "### 4.2. Centrality\n",
        "Centrality speaks to the importance or infleunce of a certain node in the graph.\n",
        "The higher the node's *measure of* centrality, the more important/influential it is. The highly connected nodes (a.k.a. nodes with a high measure of centrality) are often called **hubs**.  \n",
        "There are a few different measures of centrality.\n"
      ],
      "metadata": {
        "id": "bHaOCgZ02eUT"
      }
    },
    {
      "cell_type": "markdown",
      "source": [
        "#### 4.2.1. Degree\n",
        "Degree is the simplest form of centrality. A node's degree is the number of links it has."
      ],
      "metadata": {
        "id": "Aici4ddn3ks_"
      }
    },
    {
      "cell_type": "code",
      "source": [
        "# save the degree of every node into a dictionary\n",
        "# - key: the node's indentifier (the name of the person)\n",
        "# - value: the node's degree\n",
        "degree_dict = dict(G.degree(G.nodes()))\n",
        "\n",
        "# add the degree as an attribute to the node\n",
        "nx.set_node_attributes(G, degree_dict, 'degree')"
      ],
      "metadata": {
        "id": "4k8xeLw13yGA"
      },
      "execution_count": 15,
      "outputs": []
    },
    {
      "cell_type": "markdown",
      "source": [
        "Now, let's find out which members of the quakers has the most direct connections."
      ],
      "metadata": {
        "id": "qdsGHAjV4asZ"
      }
    },
    {
      "cell_type": "code",
      "source": [
        "# sort the nodes by descending order of degree\n",
        "sorted_degree = sorted(degree_dict.items(), key=itemgetter(1), reverse=True)\n",
        "\n",
        "# print the nodes with the top 20 highest degree\n",
        "print(\"Top 20 nodes by degree:\")\n",
        "for name, deg in sorted_degree[:20]:\n",
        "    print(f\"{name:<20}{deg}\")"
      ],
      "metadata": {
        "colab": {
          "base_uri": "https://localhost:8080/"
        },
        "id": "2caRa5a_4aWj",
        "outputId": "a62dee75-9076-4561-9ceb-e5ac3e2d2b88"
      },
      "execution_count": 16,
      "outputs": [
        {
          "output_type": "stream",
          "name": "stdout",
          "text": [
            "Top 20 nodes by degree:\n",
            "George Fox          22\n",
            "William Penn        18\n",
            "James Nayler        16\n",
            "George Whitehead    13\n",
            "Margaret Fell       13\n",
            "Benjamin Furly      10\n",
            "Edward Burrough     9\n",
            "George Keith        8\n",
            "Thomas Ellwood      8\n",
            "Francis Howgill     7\n",
            "John Perrot         7\n",
            "John Audland        6\n",
            "Richard Farnworth   6\n",
            "John Story          6\n",
            "Alexander Parker    6\n",
            "John Wilkinson      5\n",
            "John Stubbs         5\n",
            "William Caton       5\n",
            "Anthony Pearson     5\n",
            "Thomas Curtis       5\n"
          ]
        }
      ]
    },
    {
      "cell_type": "code",
      "source": [
        "# visualize graph where node size is a factor of the node degree\n",
        "\n",
        "list_degree=list(G.degree()) #this will return a list of tuples each tuple is(node,deg)\n",
        "nodes, degree = map(list, zip(*list_degree)) #build a node list and corresponding degree list\n",
        "plt.figure(figsize=(10,5))\n",
        "nx.draw(G, node_size=[(v * 7)+1 for v in degree])\n",
        "plt.show()"
      ],
      "metadata": {
        "colab": {
          "base_uri": "https://localhost:8080/",
          "height": 391
        },
        "id": "JgQBW_FC5BUw",
        "outputId": "54fdf1f4-b77f-43e8-a372-8f8f7b1e8066"
      },
      "execution_count": 17,
      "outputs": [
        {
          "output_type": "display_data",
          "data": {
            "text/plain": [
              "<Figure size 720x360 with 1 Axes>"
            ],
            "image/png": "[encoded data removed]"
          },
          "metadata": {}
        }
      ]
    },
    {
      "cell_type": "markdown",
      "source": [
        "#### 4.2.2. Eigenvector centrality\n",
        "\n",
        "Eigenvector centrality is a kind of extension of degree—it looks at a combination of a node’s edges and the edges of that node’s neighbors.  \n",
        "\n",
        "Eigenvector centrality cares if you are a hub, but it also cares how many hubs you are connected to. It’s calculated as a value from 0 to 1: the closer to one, the greater the centrality.  \n",
        "\n",
        "Eigenvector centrality is useful for understanding which nodes can get information to many other nodes quickly. If you know a lot of well-connected people, you could spread a message very efficiently."
      ],
      "metadata": {
        "id": "1ooZ3N_q9AUD"
      }
    },
    {
      "cell_type": "code",
      "source": [
        "# Run eigenvector centrality\n",
        "eigenvector_dict = nx.eigenvector_centrality(G)\n",
        "\n",
        "# Assign it to an attribute in your network\n",
        "nx.set_node_attributes(G, eigenvector_dict, 'eigenvector')"
      ],
      "metadata": {
        "id": "U0-7mwb79YNa"
      },
      "execution_count": 18,
      "outputs": []
    },
    {
      "cell_type": "markdown",
      "source": [
        "#### 4.2.3. Betweenness centrality\n",
        "\n",
        "Betweenness centrality is a bit different from the other two measures in that it doesn’t care about the number of edges any one node or set of nodes has. Betweenness centrality looks at all the shortest paths that pass through a particular node (see above).  \n",
        "\n",
        "To do this, it must first calculate every possible shortest path in your network, so keep in mind that betweenness centrality will take longer to calculate than other centrality measures (but it won’t be an issue in a dataset of this size).   \n",
        "\n",
        "Betweenness centrality, which is also expressed on a scale of 0 to 1, is fairly good at finding nodes that connect two otherwise disparate parts of a network. If you’re the only thing connecting two clusters, every communication between those clusters has to pass through you. In contrast to a hub, this sort of node is often referred to as a broker."
      ],
      "metadata": {
        "id": "SXqZ7cyG9a9K"
      }
    },
    {
      "cell_type": "code",
      "source": [
        " # Run betweenness centrality\n",
        "betweenness_dict = nx.betweenness_centrality(G)\n",
        "\n",
        "# Assign it to an attribute in your network\n",
        "nx.set_node_attributes(G, betweenness_dict, 'betweenness')"
      ],
      "metadata": {
        "id": "lnOMiKGS9gVd"
      },
      "execution_count": 19,
      "outputs": []
    },
    {
      "cell_type": "code",
      "source": [
        "# sort the nodes by descending order of betweenness centrality\n",
        "sorted_betweenness = sorted(\n",
        "    betweenness_dict.items(), key=itemgetter(1), reverse=True)\n",
        "\n",
        "# print the nodes with the top 20 betweenness centrality\n",
        "print(\"Top 20 nodes by betweenness centrality:\")\n",
        "for name, deg in sorted_betweenness[:20]:\n",
        "    print(f\"{name:<20}{deg}\")"
      ],
      "metadata": {
        "colab": {
          "base_uri": "https://localhost:8080/"
        },
        "id": "QnpOB5PGAr5w",
        "outputId": "9dd87fc7-05c1-49ee-a14b-2a5fc8f674e8"
      },
      "execution_count": 20,
      "outputs": [
        {
          "output_type": "stream",
          "name": "stdout",
          "text": [
            "Top 20 nodes by betweenness centrality:\n",
            "William Penn        0.23999456006192194\n",
            "George Fox          0.23683257726065213\n",
            "George Whitehead    0.12632024847366005\n",
            "Margaret Fell       0.12106792237170327\n",
            "James Nayler        0.1044602628044609\n",
            "Benjamin Furly      0.06419626175167245\n",
            "Thomas Ellwood      0.04619062388510455\n",
            "George Keith        0.04500656400917155\n",
            "John Audland        0.041649363400775824\n",
            "Alexander Parker    0.03893676140525336\n",
            "John Story          0.028990098622866962\n",
            "John Burnyeat       0.028974117533439567\n",
            "John Perrot         0.028295668549905836\n",
            "Robert Barclay      0.026944806605823553\n",
            "James Logan         0.026944806605823553\n",
            "Richard Claridge    0.026944806605823553\n",
            "Elizabeth Leavens   0.026944806605823553\n",
            "Thomas Curtis       0.026729751729751727\n",
            "John Stubbs         0.024316593960227156\n",
            "Mary Penington      0.02420824624214455\n"
          ]
        }
      ]
    },
    {
      "cell_type": "code",
      "source": [
        "# compare degree and betweenness centrality\n",
        "\n",
        "#First get the top 20 nodes by betweenness as a list\n",
        "top_betweenness = sorted_betweenness[:20]\n",
        "\n",
        "#Then find and print their degree\n",
        "print(\"Name              | Betweenness Centrality | Degree\")\n",
        "for tb in top_betweenness: # Loop through top_betweenness\n",
        "  name = tb[0]\n",
        "  degree = degree_dict[name] # Use degree_dict to access a node's degree, see footnote 2\n",
        "  print(f\"{name:<17} | {tb[1]:<22} | {degree}\")"
      ],
      "metadata": {
        "colab": {
          "base_uri": "https://localhost:8080/"
        },
        "id": "NSmY-j87A605",
        "outputId": "d8186e46-b43d-4926-a95a-9a9913cf7b40"
      },
      "execution_count": 21,
      "outputs": [
        {
          "output_type": "stream",
          "name": "stdout",
          "text": [
            "Name              | Betweenness Centrality | Degree\n",
            "William Penn      | 0.23999456006192194    | 18\n",
            "George Fox        | 0.23683257726065213    | 22\n",
            "George Whitehead  | 0.12632024847366005    | 13\n",
            "Margaret Fell     | 0.12106792237170327    | 13\n",
            "James Nayler      | 0.1044602628044609     | 16\n",
            "Benjamin Furly    | 0.06419626175167245    | 10\n",
            "Thomas Ellwood    | 0.04619062388510455    | 8\n",
            "George Keith      | 0.04500656400917155    | 8\n",
            "John Audland      | 0.041649363400775824   | 6\n",
            "Alexander Parker  | 0.03893676140525336    | 6\n",
            "John Story        | 0.028990098622866962   | 6\n",
            "John Burnyeat     | 0.028974117533439567   | 4\n",
            "John Perrot       | 0.028295668549905836   | 7\n",
            "Robert Barclay    | 0.026944806605823553   | 3\n",
            "James Logan       | 0.026944806605823553   | 4\n",
            "Richard Claridge  | 0.026944806605823553   | 2\n",
            "Elizabeth Leavens | 0.026944806605823553   | 2\n",
            "Thomas Curtis     | 0.026729751729751727   | 5\n",
            "John Stubbs       | 0.024316593960227156   | 5\n",
            "Mary Penington    | 0.02420824624214455    | 4\n"
          ]
        }
      ]
    },
    {
      "cell_type": "markdown",
      "source": [
        "## 5. Community Detection\n",
        "\n",
        "Is your network one big, happy family where everyone knows everyone else? Or is it a collection of smaller subgroups that are only connected by one or two intermediaries? The field of community detection in networks is designed to answer these questions.\n",
        "\n",
        "**Modularity** is a measure of relative density in your network: a community (called a module or modularity class) has high density relative to other nodes within its module but low density with those outside.\n",
        "\n",
        "Very dense networks are often more difficult to split into sensible partitions. Luckily, as you discovered earlier, this network is not all that dense. There aren’t nearly as many actual connections as possible connections, and there are several altogether disconnected components. Its worthwhile partitioning this sparse network with modularity and seeing if the result make historical and analytical sense."
      ],
      "metadata": {
        "id": "nnBa7c3_8rGu"
      }
    },
    {
      "cell_type": "code",
      "source": [
        "communities = community.greedy_modularity_communities(G)"
      ],
      "metadata": {
        "id": "Le51er9e80Hc"
      },
      "execution_count": 22,
      "outputs": []
    },
    {
      "cell_type": "markdown",
      "source": [
        "Now that the modularity algorithm found a list of communities, let's add the community indices as attributes to the nodes so we can retrieve them later, and maybe visualize them."
      ],
      "metadata": {
        "id": "3Y7CRA72EcQk"
      }
    },
    {
      "cell_type": "code",
      "source": [
        "# Create a blank dictionary\n",
        "modularity_dict = {}\n",
        "\n",
        "# Loop through the list of communities, keeping track of the number for the community\n",
        "for community_index, community in enumerate(communities):\n",
        "  # Loop through each person in a community\n",
        "  for name in community:\n",
        "    # Create an entry in the dictionary for the person, where the value is which group they belong to.\n",
        "    modularity_dict[name] = community_index\n",
        "\n",
        "# Now you can add modularity information like we did the other metrics\n",
        "nx.set_node_attributes(G, modularity_dict, 'modularity')"
      ],
      "metadata": {
        "id": "kscUzTvj82Z3"
      },
      "execution_count": 23,
      "outputs": []
    },
    {
      "cell_type": "markdown",
      "source": [
        "As always, we can combine these measures with others. For example, here’s how we find the highest eigenvector centrality nodes in modularity class 0 (the first one):"
      ],
      "metadata": {
        "id": "eeVAqvIcMQIt"
      }
    },
    {
      "cell_type": "code",
      "source": [
        "# First get a list of just the nodes in that class\n",
        "class0 = [n for n in G.nodes() if G.nodes[n]['modularity'] == 0]\n",
        "\n",
        "# Then create a dictionary of the eigenvector centralities of those nodes\n",
        "class0_eigenvector = {n: G.nodes[n]['eigenvector'] for n in class0}\n",
        "\n",
        "# Then sort that dictionary and print the first 5 results\n",
        "class0_sorted_by_eigenvector = sorted(\n",
        "    class0_eigenvector.items(), key=itemgetter(1), reverse=True)\n",
        "\n",
        "print(\"Modularity Class 0 Sorted by Eigenvector Centrality:\")\n",
        "for node in class0_sorted_by_eigenvector[:5]:\n",
        "  print(f\"{node[0]:<17} | {node[1]}\")"
      ],
      "metadata": {
        "colab": {
          "base_uri": "https://localhost:8080/"
        },
        "id": "QkQ_5wrl85Q3",
        "outputId": "e0856484-d533-475b-b46c-1af8a6efa299"
      },
      "execution_count": 24,
      "outputs": [
        {
          "output_type": "stream",
          "name": "stdout",
          "text": [
            "Modularity Class 0 Sorted by Eigenvector Centrality:\n",
            "William Penn      | 0.2703220115399868\n",
            "George Keith      | 0.18384690867915346\n",
            "William Bradford  | 0.06812170326615952\n",
            "Tace Sowle        | 0.04688085927497435\n",
            "James Logan       | 0.04447446026748654\n"
          ]
        }
      ]
    },
    {
      "cell_type": "markdown",
      "source": [
        "In smaller networks like this one, a common task is to find and list all of the modularity classes and their members. We can do this by looping through the communities list:"
      ],
      "metadata": {
        "id": "VBcv7gEfMuN5"
      }
    },
    {
      "cell_type": "code",
      "source": [
        "# Loop through the list of communities\n",
        "for community_index, community in enumerate(communities):\n",
        "  # Filter out modularity classes with 2 or fewer nodes\n",
        "  if len(community) > 2:\n",
        "    # Print out the classes and their members\n",
        "    print('Class '+str(community_index)+':', list(community))"
      ],
      "metadata": {
        "colab": {
          "base_uri": "https://localhost:8080/"
        },
        "id": "TtAER5BB8972",
        "outputId": "14025c6f-242e-42dd-d64b-59f810aa53a3"
      },
      "execution_count": 25,
      "outputs": [
        {
          "output_type": "stream",
          "name": "stdout",
          "text": [
            "Class 0: ['George Keith', 'Isabel Yeamans', 'Richard Claridge', 'William Penn', 'Isaac Norris', 'William Bradford', 'Thomas Story', 'Samuel Bownas', 'Tace Sowle', 'John Bartram', 'Edward Haistwell', 'Joseph Besse', 'Anne Conway Viscountess Conway and Killultagh', 'James Logan', 'David Lloyd', 'Jane Sowle', 'Peter Collinson']\n",
            "Class 1: ['Francis Howgill', 'Robert Rich', 'Margaret Fell', 'Elizabeth Leavens', 'Gervase Benson', 'William Gibson', 'George Fox the younger', 'Martha Simmonds', 'Richard Farnworth', 'Dorcas Erbery', 'Thomas Lower', 'Hannah Stranger', 'Thomas Holme', 'William Tomlinson', 'James Nayler', 'Thomas Aldam', 'Anthony Pearson']\n",
            "Class 2: ['Leonard Fell', 'Thomas Salthouse', 'John Perrot', 'George Fox', 'William Dewsbury', 'William Crouch', 'Elizabeth Hooten', 'Mary Prince', 'William Coddington', 'Mary Fisher', 'John Crook', 'Edward Burrough', 'William Mead', 'Ellis Hookes', 'William Mucklow']\n",
            "Class 3: ['John Whitehead', 'Alice Curwen', 'Gilbert Latey', 'Lewis Morris', 'Richard Hubberthorne', 'Henry Pickworth', 'Silvanus Bevan', 'Thomas Lawson', 'Rebecca Travers', 'Francis Bugg', 'George Whitehead', 'Sir Charles Wager', 'Alexander Parker', 'Daniel Quare']\n",
            "Class 4: ['Mary Penington', 'William Edmundson', 'John Penington', 'John Burnyeat', 'Samuel Clarridge', 'William Rogers', 'William Simpson', 'Anthony Sharp', 'Joseph Wyeth', 'Thomas Ellwood', 'James Claypoole', 'Thomas Curtis', 'John ap John']\n",
            "Class 5: ['James Parnel', 'Stephen Crisp', 'Benjamin Furly', 'David Barclay of Ury', 'John Swinton', 'Robert Barclay', 'William Caton', 'Franciscus Mercurius van Helmont', 'William Ames', 'Samuel Fisher', 'John Stubbs']\n",
            "Class 6: ['Solomon Eccles', 'John Story', 'Thomas Camm', 'John Camm', 'John Wilkinson', 'Anne Camm', 'Edward Pyott', 'Charles Marshall', 'John Audland']\n",
            "Class 7: ['Thomas Taylor', 'Christopher Taylor', 'John Whiting']\n"
          ]
        }
      ]
    },
    {
      "cell_type": "markdown",
      "source": [
        "Notice in the code above that you are filtering out any modularity classes with two or fewer nodes, in the line `if len(community) > 2`. Recall from the visualization that there were lots of small components of the network with only two nodes. Modularity will find these components and treat them as separate classes (since they’re not connected to anything else). By filtering them out, we get a better sense of the larger modularity classes within the network’s main component."
      ],
      "metadata": {
        "id": "4E3YA55aM6-i"
      }
    },
    {
      "cell_type": "markdown",
      "source": [
        "Finally, we can visualize the graph where the colors of the nodes determine their community membership and their size dtermine their degree.\n",
        "\n",
        "> Code adapted from [this stackoverflow post](https://stackoverflow.com/questions/28910766/python-networkx-set-node-color-automatically-based-on-number-of-attribute-opt)"
      ],
      "metadata": {
        "id": "tDDjda6LPwCp"
      }
    },
    {
      "cell_type": "code",
      "source": [
        "# create number for each group to allow use of colormap\n",
        "from itertools import count\n",
        "# get unique groups\n",
        "groups = set(nx.get_node_attributes(G,'modularity').values())\n",
        "mapping = dict(zip(sorted(groups),count()))\n",
        "nodes = G.nodes()\n",
        "colors = [mapping[G.nodes[n]['modularity']] for n in nodes]\n",
        "list_degree=list(G.degree()) #this will return a list of tuples each tuple is(node,deg)\n",
        "nodes , degree = map(list, zip(*list_degree)) #build a node list and corresponding degree list\n",
        "\n",
        "nx.draw(G, \n",
        "        node_color=colors, \n",
        "        cmap=plt.cm.jet, \n",
        "        node_size=[(v * 10)+1 for v in degree])"
      ],
      "metadata": {
        "colab": {
          "base_uri": "https://localhost:8080/",
          "height": 319
        },
        "id": "5XJsB3qDNQMJ",
        "outputId": "0a0cc070-11c7-449a-e66a-73565b54fd33"
      },
      "execution_count": 26,
      "outputs": [
        {
          "output_type": "display_data",
          "data": {
            "text/plain": [
              "<Figure size 432x288 with 1 Axes>"
            ],
            "image/png": "[encoded data removed]"
          },
          "metadata": {}
        }
      ]
    },
    {
      "cell_type": "markdown",
      "source": [
        "## 6. Export data\n",
        "\n",
        "There are many encodings/formats of graph data that are used by diffrent softwares and standards. `NetworkX` provides functions to export the graph into these different formats:\n",
        "* dot\n",
        "* pandas dataframe (edge/adjacency list)\n",
        "* gexf\n",
        "* numpy array/matrix\n",
        "\n",
        "Most of the export options work in roughly the same way, so for this tutorial you’ll learn how to export your data into Gephi’s GEXF format. Once you’ve exported the file, you can upload it [directly into Gephi](https://gephi.org/users/supported-graph-formats/) for visualization."
      ],
      "metadata": {
        "id": "9hFEByoGBbvD"
      }
    },
    {
      "cell_type": "code",
      "source": [
        "# save the graph as a gefx to quaker_network.gefx\n",
        "nx.write_gexf(G, 'quaker_network.gexf')"
      ],
      "metadata": {
        "id": "FuFAJm6nCWyV"
      },
      "execution_count": 27,
      "outputs": []
    },
    {
      "cell_type": "markdown",
      "source": [
        "## Acknowlegdments\n",
        "Adapted from [Exploring and Analyzing Network Data with Python](https://programminghistorian.org/en/lessons/exploring-and-analyzing-network-data-with-python)."
      ],
      "metadata": {
        "id": "sMVtmUpqKTZS"
      }
    }
  ]
}