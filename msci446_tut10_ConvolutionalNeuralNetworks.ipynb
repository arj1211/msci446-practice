{
  "cells": [
    {
      "cell_type": "markdown",
      "metadata": {
        "id": "NBiJOb9zI0zX"
      },
      "source": [
        "# Convolutiona Neural Networks (CNN)\n",
        "\n",
        "When dealing with images, pixels are the input features to a Neural Network. Right away, we recognize two things about pixels:\n",
        "1. Pixels close to each other are related to each other\n",
        "2. There can be a very, very large number of pixels in an image\n",
        "\n",
        "So, due to these two observations, we use **convolutional** neural networks when we deal with machine vision (which is a fancy name for applying machine learning and/or any other form of sritifical intelligence on images, or videos, which are a bunch of images).  \n",
        "\n",
        "If you do not remember what convolution is, that's OK. All you need to know is that convolution maps your input to another domain, does some operation there to condense the data representation, then brings this daa back to the domain where it started.   \n",
        "This is great news for us because it means we can:\n",
        "* reduce the number of inputs (which reduces the time and computational power needed) AND\n",
        "* not lose important relationships/data due to this reduction.\n",
        "\n",
        "## What does my pipeline look like?\n",
        "\n",
        "* Mix of:\n",
        "  * Convolution\n",
        "  * Pooling (reducing n*n pixels to a single pixel by max, min or avg)\n",
        "* Followed by:\n",
        "  * Flattening last output of pooling into standard 1 dimensinal features (input layer)\n",
        "  * Normal hidden layers of neural network\n",
        "  * Output layer\n",
        "\n",
        "\n",
        "![MNIST network structure](https://miro.medium.com/max/1400/1*uAeANQIOQPqWZnnuH-VEyw.jpeg)"
      ]
    },
    {
      "cell_type": "markdown",
      "metadata": {
        "id": "X_oHhZsdKUKE"
      },
      "source": [
        "## Our example\n",
        "\n",
        "The MNIST handwritten digit classification problem is a standard dataset used in computer vision and deep learning.\n",
        "\n",
        "**MNIST** is an acronym that stands for the Modified National Institute of Standards and Technology dataset.\n",
        "\n",
        "It is a dataset of 60,000 small square 28×28 pixel grayscale images of handwritten single digits between 0 and 9.\n",
        "\n",
        "The task is to classify a given image of a handwritten digit into one of 10 classes representing integer values from 0 to 9, inclusively.\n",
        "\n",
        "![MNIST examples](https://upload.wikimedia.org/wikipedia/commons/2/27/MnistExamples.png)\n",
        "\n",
        "> Tutorial adapted from [How to Develop a CNN for MNIST Handwritten Digit Classification by Jason Brownlee](https://machinelearningmastery.com/how-to-develop-a-convolutional-neural-network-from-scratch-for-mnist-handwritten-digit-classification/)."
      ]
    },
    {
      "cell_type": "markdown",
      "metadata": {
        "id": "3iJCC13YTud3"
      },
      "source": [
        "## 0. Let's familiarize ourselves with the data\n",
        "\n",
        "`Tensorflow`'s `keras` conviniently packages the MNIST dataset to us as a class under `tensorflow.keras.datasets`. So, we can simply import it and use to to get training and testing sets. Then, we can use `matplotlib`'s `imshow()` to visualize some images from MNIST."
      ]
    },
    {
      "cell_type": "code",
      "execution_count": 1,
      "metadata": {
        "colab": {
          "base_uri": "https://localhost:8080/",
          "height": 337
        },
        "collapsed": true,
        "id": "p3LqqevnIk5o",
        "outputId": "dc7a1bbe-a8b6-4b88-8ed1-aed17572f5da"
      },
      "outputs": [
        {
          "output_type": "stream",
          "name": "stdout",
          "text": [
            "Downloading data from https://storage.googleapis.com/tensorflow/tf-keras-datasets/mnist.npz\n",
            "11490434/11490434 [==============================] - 1s 0us/step\n",
            "Train: X=(60000, 28, 28), y=(60000,)\n",
            "Test: X=(10000, 28, 28), y=(10000,)\n"
          ]
        },
        {
          "output_type": "display_data",
          "data": {
            "text/plain": [
              "<Figure size 432x288 with 9 Axes>"
            ],
            "image/png": "[encoded data removed]"
          },
          "metadata": {
            "needs_background": "light"
          }
        }
      ],
      "source": [
        "# example of loading the mnist dataset\n",
        "from tensorflow.keras.datasets import mnist\n",
        "from matplotlib import pyplot as plt\n",
        "\n",
        "# load dataset\n",
        "(trainX, trainy), (testX, testy) = mnist.load_data()\n",
        "\n",
        "# summarize loaded dataset\n",
        "print('Train: X=%s, y=%s' % (trainX.shape, trainy.shape))\n",
        "print('Test: X=%s, y=%s' % (testX.shape, testy.shape))\n",
        "\n",
        "# plot first few images\n",
        "for i in range(9):\n",
        "\t# define subplot\n",
        "\tplt.subplot(330 + 1 + i)\n",
        " \n",
        "\t# plot raw pixel data\n",
        "\tplt.imshow(trainX[i], cmap=plt.get_cmap('gray'))\n",
        " \n",
        "# show the figure\n",
        "plt.show()"
      ]
    },
    {
      "cell_type": "markdown",
      "metadata": {
        "id": "8C6qhwipb9rY"
      },
      "source": [
        "### Using functions\n",
        "\n",
        "In this tutorial, we will split our tasks into functions:\n",
        "* `load_dataset()`: load train and test dataset\n",
        "* `prep_pixels(train, test)`: scale pixels\n",
        "* `define_model()`: define cnn model\n",
        "* `evaluate_model(dataX, dataY, n_folds=5)`: evaluate a model using k-fold cross-validation\n",
        "* `summarize_diagnostics(histories)`: plot diagnostic learning curves\n",
        "* `summarize_performance(scores)`: summarize model performance\n",
        "* `run_test_harness()`: run the test harness for evaluating a model\n",
        "\n",
        "Using functions makes our code modular, which can help us:\n",
        "* isolate a bug in a certain step\n",
        "* let a third-party library handle a certain part of our pipeline\n",
        "* analyse the performance bottlenecks of our pipeline\n",
        "* test the different steps of our pipeline"
      ]
    },
    {
      "cell_type": "code",
      "execution_count": 2,
      "metadata": {
        "id": "8H-u31EhYsd1"
      },
      "outputs": [],
      "source": [
        "# load all necessary libraries\n",
        "from numpy import mean\n",
        "from numpy import std\n",
        "from matplotlib import pyplot as plt\n",
        "from sklearn.model_selection import KFold\n",
        "from tensorflow.keras.datasets import mnist\n",
        "from tensorflow.keras.utils import to_categorical\n",
        "from tensorflow.keras.models import Sequential\n",
        "from tensorflow.keras.layers import Conv2D\n",
        "from tensorflow.keras.layers import MaxPooling2D\n",
        "from tensorflow.keras.layers import Dense\n",
        "from tensorflow.keras.layers import Flatten\n",
        "from tensorflow.keras.optimizers import SGD"
      ]
    },
    {
      "cell_type": "markdown",
      "metadata": {
        "id": "gRV9XWhWUwRI"
      },
      "source": [
        "## 1. Load dataset\n",
        "\n",
        "We already know that:\n",
        "* the images are all pre-aligned\n",
        "* all images have same size (28x28 pixels)\n",
        "* the images are grayscale\n",
        "* there are 10 classes, each represented as aunique integer\n",
        "\n",
        "Thus, let's load the images and reshape them to have a single color channel (less load on memory and computation and we only have grayscale anyway).\n",
        "\n",
        "Also, let's use one hot encoding for the class element of each sample, transforming the integer into a 10 element binary vector with a 1 for the index of the class value, and 0 values for all other classes."
      ]
    },
    {
      "cell_type": "code",
      "execution_count": 3,
      "metadata": {
        "id": "MR-TuhXxUvg5"
      },
      "outputs": [],
      "source": [
        "# load train and test dataset\n",
        "def load_dataset():\n",
        "  print('Loading dataset..')\n",
        "\n",
        "  # load dataset\n",
        "  (trainX, trainY), (testX, testY) = mnist.load_data()\n",
        "\n",
        "  # reshape dataset to have a single channel\n",
        "  trainX = trainX.reshape((trainX.shape[0], 28, 28, 1))\n",
        "  testX = testX.reshape((testX.shape[0], 28, 28, 1))\n",
        "\n",
        "  # one hot encode target values\n",
        "  trainY = to_categorical(trainY)\n",
        "  testY = to_categorical(testY)\n",
        "\n",
        "  return trainX, trainY, testX, testY"
      ]
    },
    {
      "cell_type": "markdown",
      "metadata": {
        "id": "A2u37bCRVHkb"
      },
      "source": [
        "## 2. Prepare pixel data\n",
        "\n",
        "We know that the pixels are all grayscale, which means that each pixel has a value between 0 and 255.\n",
        "\n",
        "So, we normalize them to have values between 0 and 1. This makes our model more generalizable in the future: if case the pixel data is not between 0 and 255, we can simply scale it to be between 0 and 1."
      ]
    },
    {
      "cell_type": "code",
      "execution_count": 4,
      "metadata": {
        "id": "oFAxIb7YVPp3"
      },
      "outputs": [],
      "source": [
        "# scale pixels\n",
        "def prep_pixels(train, test):\n",
        "  print('Normalizing pixels..')\n",
        "\n",
        "  # convert from integers to floats\n",
        "  train_norm = train.astype('float32')\n",
        "  test_norm = test.astype('float32')\n",
        "\n",
        "  # normalize to range 0-1\n",
        "  train_norm = train_norm / 255.0\n",
        "  test_norm = test_norm / 255.0\n",
        "\n",
        "  # return normalized images\n",
        "  return train_norm, test_norm"
      ]
    },
    {
      "cell_type": "markdown",
      "metadata": {
        "id": "SNvg3iahVQBk"
      },
      "source": [
        "## 3. Define model\n",
        "\n",
        "Our model will have two main components:\n",
        "\n",
        "1. feature extraction front-end: \n",
        "\n",
        "  * [convolutional layer](https://machinelearningmastery.com/convolutional-layers-for-deep-learning-neural-networks/)\n",
        "  * [max pooling layer](https://machinelearningmastery.com/pooling-layers-for-convolutional-neural-networks/)\n",
        "\n",
        "2. classifier back-end (to make predictions):\n",
        "\n",
        "* dense (hidden) layer\n",
        "* output layer of 10 nodes (since we have 10 classes)\n",
        "\n",
        "All layers will use the [ReLU activation function](https://machinelearningmastery.com/rectified-linear-activation-function-for-deep-learning-neural-networks/) and the He weight initialization scheme, both best practices.\n",
        "\n",
        "> Output layer will use the softmax function, which is a multi-class version of sigmoid (sigmoid can only support 2 classes, a.k.a. binary problems).\n",
        "\n",
        "We will use a conservative configuration for the stochastic gradient descent optimizer with a [learning rate](https://machinelearningmastery.com/understand-the-dynamics-of-learning-rate-on-deep-learning-neural-networks/) of 0.01 and a momentum of 0.9. The [categorical cross-entropy](https://machinelearningmastery.com/cross-entropy-for-machine-learning/) loss function will be optimized, suitable for multi-class classification, and we will monitor the classification accuracy metric, which is appropriate given we have the same number of examples in each of the 10 classes."
      ]
    },
    {
      "cell_type": "code",
      "execution_count": 5,
      "metadata": {
        "id": "3UKGZVrdVScf"
      },
      "outputs": [],
      "source": [
        "# define cnn model\n",
        "def define_model():\n",
        "  print('Defining model..')\n",
        "\n",
        "  # initialize empty sequential model\n",
        "  model = Sequential()\n",
        "\n",
        "  # add a 2D convolutional layer with:\n",
        "  # - 32 filters \n",
        "  # - filter size 3x3\n",
        "  # - relu activation function\n",
        "  # - he_uniform initilizer\n",
        "  # - input is 28x28 with a single channel\n",
        "  model.add(Conv2D(32, \n",
        "                  (3, 3), \n",
        "                  activation='relu', \n",
        "                  kernel_initializer='he_uniform', \n",
        "                  input_shape=(28, 28, 1)))\n",
        "\n",
        "  # add a 2D max pooling layer that takes the max of a\n",
        "  # -  2x2 square\n",
        "  model.add(MaxPooling2D((2, 2)))\n",
        "\n",
        "  # flatten the output of the pooling to become input to a neural network\n",
        "  model.add(Flatten())\n",
        "\n",
        "  # add a hidden layer with:\n",
        "  # - 100 nodes\n",
        "  # - relu activation function\n",
        "  # - he_uniform initilizer\n",
        "  model.add(Dense(100, activation='relu', kernel_initializer='he_uniform'))\n",
        "\n",
        "  # add a the output layer to:\n",
        "  # - use a softmax activation function and \n",
        "  # - output the probabilities of 10 classes\n",
        "  model.add(Dense(10, activation='softmax'))\n",
        "\n",
        "  # compile the model with:\n",
        "  # - stochastic gradient descent optimizer with:\n",
        "  # -- learning rate of 0.01\n",
        "  # -- momentum of 0.9\n",
        "  # - categorical cross entropy loss function\n",
        "  # - keep track of accuracy\n",
        "  model.compile(optimizer=SGD(learning_rate=0.01, momentum=0.9), \n",
        "                loss='categorical_crossentropy', \n",
        "                metrics=['accuracy'])\n",
        "\n",
        "  return model"
      ]
    },
    {
      "cell_type": "markdown",
      "metadata": {
        "id": "g8ZhGNsPVSMM"
      },
      "source": [
        "## 4. Evaluate model\n",
        "\n",
        "We will use 5-**cross-validation** so we keep our testing data completely unkown to the model till the final testing.\n",
        "\n",
        "The training dataset is **shuffled** prior to being split, and the sample shuffling is performed each time, so that any model we evaluate will have the same train and test datasets in each fold, providing an apples-to-apples comparison between models."
      ]
    },
    {
      "cell_type": "code",
      "execution_count": 6,
      "metadata": {
        "id": "bPypKQmIVWqV"
      },
      "outputs": [],
      "source": [
        "# evaluate a model using k-fold cross-validation\n",
        "# - have a default of 5 folds\n",
        "def evaluate_model(dataX, dataY, n_folds=5):\n",
        "  print('Evaluating model..')\n",
        "  \n",
        "  # inilialize empty lists to keep track of scores and histories\n",
        "  scores, histories = list(), list()\n",
        "\n",
        "  # prepare cross validation with:\n",
        "  # - 5 folds\n",
        "  # - random state = 1 (to get same results everytime)\n",
        "  # - shuffling ON\n",
        "  kfold = KFold(n_folds, shuffle=True, random_state=1)\n",
        "\n",
        "  # enumerate splits\n",
        "  for train_ix, test_ix in kfold.split(dataX):\n",
        "\n",
        "    # define model\n",
        "    model = define_model()\n",
        "\n",
        "    # select rows for train and test\n",
        "    trainX, trainY, testX, testY = dataX[train_ix], dataY[train_ix], dataX[test_ix], dataY[test_ix]\n",
        "    \n",
        "    # fit model with:\n",
        "    # - 10 epochs (relatively low number)\n",
        "    # - 32 batch size (default)\n",
        "    # - set verbose to 0 to keep console output quiet\n",
        "    # - testX and textY as validation data\n",
        "    history = model.fit(trainX, trainY, epochs=10, batch_size=32, \n",
        "                        validation_data=(testX, testY), verbose=0)\n",
        "    \n",
        "    # evaluate model\n",
        "    _, acc = model.evaluate(testX, testY, verbose=0)\n",
        "    print('> %.3f' % (acc * 100.0))\n",
        "    \n",
        "    # stores scores and histories\n",
        "    scores.append(acc)\n",
        "    histories.append(history)\n",
        "\n",
        "  return scores, histories"
      ]
    },
    {
      "cell_type": "markdown",
      "metadata": {
        "id": "mourJEN7VW84"
      },
      "source": [
        "## 5. Present results\n",
        "\n",
        "There are 2 key aspects to present:\n",
        "* diagnostics of learning behavior during training\n",
        "* estimation of performance\n",
        "We will have a separate function for each.\n",
        "\n",
        "First, for the diagnostics, we are always interested in the evolution of two things:\n",
        "\n",
        "* **loss** (a.k.a. error)\n",
        "* **accuracy**  \n",
        "\n",
        "both against epochs.\n",
        "\n",
        "Since we have 5 folds, we will overlay 5 curves on top of each other in each graph.\n"
      ]
    },
    {
      "cell_type": "code",
      "execution_count": 7,
      "metadata": {
        "id": "7g8baGqlVaRV"
      },
      "outputs": [],
      "source": [
        "# plot diagnostic learning curves\n",
        "def summarize_diagnostics(histories):\n",
        "  print('Summarizing diagnostics..')\n",
        "  \n",
        "  for i in range(len(histories)):\n",
        "\n",
        "    # plot loss\n",
        "    plt.subplot(2, 1, 1)\n",
        "    plt.title('Cross Entropy Loss')\n",
        "    plt.plot(histories[i].history['loss'], color='blue', label='train')\n",
        "    plt.plot(histories[i].history['val_loss'], color='orange', label='test')\n",
        "\n",
        "    # plot accuracy\n",
        "    plt.subplot(2, 1, 2)\n",
        "    plt.title('Classification Accuracy')\n",
        "    plt.plot(histories[i].history['accuracy'], color='blue', label='train')\n",
        "    plt.plot(histories[i].history['val_accuracy'], color='orange', label='test')\n",
        "\n",
        "  plt.show()"
      ]
    },
    {
      "cell_type": "markdown",
      "metadata": {
        "id": "20LTZBj1raPW"
      },
      "source": [
        "Next, the classification accuracy scores collected during each fold can be summarized by calculating:\n",
        "* **mean**: an estimate of the average expected performance of the model trained on this dataset\n",
        "* **std dev**: an estimate of the average variance in the mean. \n",
        "\n",
        "We will also summarize the **distribution** of scores by creating and showing a **box and whisker plot**."
      ]
    },
    {
      "cell_type": "code",
      "execution_count": 8,
      "metadata": {
        "id": "1iKr6nqYhlYs"
      },
      "outputs": [],
      "source": [
        "# summarize model performance\n",
        "def summarize_performance(scores):\n",
        "  print('Summarizing performance..')\n",
        "\n",
        "  # print summary\n",
        "  print('Accuracy: mean=%.3f std=%.3f, n=%d' % \n",
        "        (mean(scores)*100, std(scores)*100, len(scores)))\n",
        "  # box and whisker plots of results\n",
        "  plt.boxplot(scores)\n",
        "  plt.show()"
      ]
    },
    {
      "cell_type": "markdown",
      "metadata": {
        "id": "qqy27ZbthpeB"
      },
      "source": [
        "## 6. Run everything to evaluate model\n",
        "\n",
        "First, let's define a function that runs the entire test harness."
      ]
    },
    {
      "cell_type": "code",
      "execution_count": 9,
      "metadata": {
        "id": "WMXa4wLBhtD5"
      },
      "outputs": [],
      "source": [
        "# run the test harness for evaluating a model\n",
        "def run_test_harness():\n",
        "  # load dataset\n",
        "  trainX, trainY, testX, testY = load_dataset()\n",
        "  # prepare pixel data\n",
        "  trainX, testX = prep_pixels(trainX, testX)\n",
        "  # evaluate model\n",
        "  scores, histories = evaluate_model(trainX, trainY)\n",
        "  # learning curves\n",
        "  summarize_diagnostics(histories)\n",
        "  # summarize estimated performance\n",
        "  summarize_performance(scores)"
      ]
    },
    {
      "cell_type": "markdown",
      "metadata": {
        "id": "bKsDXVh6h4gx"
      },
      "source": [
        "And finally, let's run everything!"
      ]
    },
    {
      "cell_type": "code",
      "execution_count": 10,
      "metadata": {
        "colab": {
          "base_uri": "https://localhost:8080/",
          "height": 807
        },
        "collapsed": true,
        "id": "InFuUir_h8x7",
        "outputId": "86abba72-8f91-40f1-b443-25a724b2f2f7"
      },
      "outputs": [
        {
          "output_type": "stream",
          "name": "stdout",
          "text": [
            "Loading dataset..\n",
            "Normalizing pixels..\n",
            "Evaluating model..\n",
            "Defining model..\n",
            "> 98.608\n",
            "Defining model..\n",
            "> 98.667\n",
            "Defining model..\n",
            "> 98.667\n",
            "Defining model..\n",
            "> 98.808\n",
            "Defining model..\n",
            "> 98.683\n",
            "Summarizing diagnostics..\n"
          ]
        },
        {
          "output_type": "display_data",
          "data": {
            "text/plain": [
              "<Figure size 432x288 with 2 Axes>"
            ],
            "image/png": "[encoded data removed]"
          },
          "metadata": {
            "needs_background": "light"
          }
        },
        {
          "output_type": "stream",
          "name": "stdout",
          "text": [
            "Summarizing performance..\n",
            "Accuracy: mean=98.687 std=0.066, n=5\n"
          ]
        },
        {
          "output_type": "display_data",
          "data": {
            "text/plain": [
              "<Figure size 432x288 with 1 Axes>"
            ],
            "image/png": "[encoded data removed]"
          },
          "metadata": {
            "needs_background": "light"
          }
        }
      ],
      "source": [
        "# entry point, run the test harness\n",
        "# --> remember to go to Runtime > Change runtime type > Choose GPU\n",
        "# took about 7 minutes\n",
        "run_test_harness()"
      ]
    },
    {
      "cell_type": "markdown",
      "metadata": {
        "id": "dmGGlwcguTsi"
      },
      "source": [
        "## 7. Possible Improvements\n",
        "\n",
        "* Learning rate\n",
        "* [Batch normalization](https://machinelearningmastery.com/how-to-accelerate-learning-of-deep-neural-networks-with-batch-normalization/)\n",
        "* Increase in model depth\n",
        "  * capacity of feature extraction\n",
        "    * more convolutional layers with more filters\n",
        "    * often followed by more pooling\n",
        "  * capacity of classifier\n",
        "\n",
        "> Look at [the poriginal tutorial](https://machinelearningmastery.com/how-to-develop-a-convolutional-neural-network-from-scratch-for-mnist-handwritten-digit-classification/) to see the implementation of these improvements."
      ]
    },
    {
      "cell_type": "markdown",
      "metadata": {
        "id": "Ov-x16quv5IL"
      },
      "source": [
        "## 8. Save model\n",
        "\n",
        "Models take a lot of time and resources to train. Thus, you will probably want to save a copy of your model once it is done training so you can use it to predict right away in the future.\n",
        "\n",
        "We often save such model to H% files, a data file saved in the Hierarchical Data Format (HDF). This contains multidimensional arrays of scientific data.\n",
        "\n",
        "> Taken from [FileInfo.com](https://fileinfo.com/extension/h5#:~:text=An%20H5%20file%20is%20a,electronics%20instruments%2C%20and%20medical%20fields.)"
      ]
    },
    {
      "cell_type": "code",
      "execution_count": 11,
      "metadata": {
        "collapsed": true,
        "id": "OYSPWjSMuczK",
        "colab": {
          "base_uri": "https://localhost:8080/"
        },
        "outputId": "729edfb2-b890-463f-f5c7-9c4c7e400da2"
      },
      "outputs": [
        {
          "output_type": "stream",
          "name": "stdout",
          "text": [
            "Loading dataset..\n",
            "Normalizing pixels..\n",
            "Defining model..\n"
          ]
        }
      ],
      "source": [
        "# make a model and save it to provided filename\n",
        "def fit_and_save_model(filename):\n",
        "    # load dataset\n",
        "    trainX, trainY, testX, testY = load_dataset()\n",
        "    # prepare pixel data\n",
        "    trainX, testX = prep_pixels(trainX, testX)\n",
        "    # define model\n",
        "    model = define_model()\n",
        "    # fit model\n",
        "    model.fit(trainX, trainY, epochs=10, batch_size=32, verbose=0)\n",
        "    # save model\n",
        "    model.save(filename)\n",
        " \n",
        "fit_and_save_model('final_model.h5')"
      ]
    },
    {
      "cell_type": "markdown",
      "metadata": {
        "id": "BheSbtO3xYoY"
      },
      "source": [
        "## 9. Make prediction\n",
        "\n",
        "Now, we never have to wait for the preparation of the data or for thje model to train. All we have to do is load the `.h5` file into a model and use it to predict the class of an image.\n",
        "\n",
        "For example, let's use our model to try and predict this image of a hand-written `7`.\n",
        "\n",
        "<center>\n",
        "\n",
        "![MNIST 7](https://machinelearningmastery.com/wp-content/uploads/2019/02/sample_image-300x298.png)\n",
        "\n",
        "</center>"
      ]
    },
    {
      "cell_type": "code",
      "execution_count": 13,
      "metadata": {
        "id": "Q-bYm21WzAWE"
      },
      "outputs": [],
      "source": [
        "# import necessary functions\n",
        "from numpy import argmax\n",
        "from keras.utils import load_img, img_to_array\n",
        "from keras.models import load_model"
      ]
    },
    {
      "cell_type": "markdown",
      "metadata": {
        "id": "1cgyvH4ZzKoI"
      },
      "source": [
        "Recall that we reshaped our 28x28 image to have only a single channel. Then, we normalized the pixel values to be between 0 and 1. We must do the same now everytime we want to pass an image to the pipeline."
      ]
    },
    {
      "cell_type": "code",
      "execution_count": 14,
      "metadata": {
        "id": "7rw3W-HUy8Ng"
      },
      "outputs": [],
      "source": [
        "# load and prepare the image\n",
        "def load_image(filename):\n",
        "\n",
        "  # load the image\n",
        "  img = load_img(filename, color_mode='grayscale', target_size=(28, 28))\n",
        "\n",
        "  # convert to array\n",
        "  img = img_to_array(img)\n",
        "\n",
        "  # reshape into a single sample with 1 channel\n",
        "  img = img.reshape(1, 28, 28, 1)\n",
        "\n",
        "  # prepare pixel data (a.k.a. normalize)\n",
        "  img = img.astype('float32')\n",
        "  img = img / 255.0\n",
        "\n",
        "  return img"
      ]
    },
    {
      "cell_type": "code",
      "execution_count": 18,
      "metadata": {
        "id": "HeqLErp1B3qM"
      },
      "outputs": [],
      "source": [
        "# load an image and predict the class\n",
        "def run_example():\n",
        "  # load the image\n",
        "  img = load_image('/content/sample_image.png')\n",
        "\n",
        "  # load model\n",
        "  model = load_model('/content/final_model.h5')\n",
        "\n",
        "  # predict the class\n",
        "  predict_value = model.predict(img)\n",
        "  \n",
        "  # use argmax to get the index of the class with the highest probability\n",
        "  digit = argmax(predict_value)\n",
        "  \n",
        "  print(digit)"
      ]
    },
    {
      "cell_type": "code",
      "execution_count": 23,
      "metadata": {
        "id": "xH8hY2nuCC6I",
        "colab": {
          "base_uri": "https://localhost:8080/"
        },
        "outputId": "142a896b-b4eb-4669-f62a-296c56f96c72"
      },
      "outputs": [
        {
          "output_type": "stream",
          "name": "stdout",
          "text": [
            "1/1 [==============================] - 0s 116ms/step\n",
            "7\n"
          ]
        }
      ],
      "source": [
        "# entry point, run the example\n",
        "run_example()"
      ]
    }
  ],
  "metadata": {
    "accelerator": "GPU",
    "colab": {
      "provenance": []
    },
    "kernelspec": {
      "display_name": "Python 3",
      "language": "python",
      "name": "python3"
    },
    "language_info": {
      "codemirror_mode": {
        "name": "ipython",
        "version": 3
      },
      "file_extension": ".py",
      "mimetype": "text/x-python",
      "name": "python",
      "nbconvert_exporter": "python",
      "pygments_lexer": "ipython3",
      "version": "3.8.8"
    },
    "gpuClass": "standard"
  },
  "nbformat": 4,
  "nbformat_minor": 0
}