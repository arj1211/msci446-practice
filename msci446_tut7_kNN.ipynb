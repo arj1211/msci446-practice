{
  "cells": [
    {
      "cell_type": "markdown",
      "metadata": {
        "_cell_guid": "12454ce8-38b2-418e-98ef-69f0a2e96e19",
        "_uuid": "e72308cb607cb6d768e7d27fccfbe2a69281874e",
        "id": "emnms1T4ZGwN"
      },
      "source": [
        "# KNN\n",
        "`Scikit-learn` is a very popular Machine Learning library for Python.  \n",
        "In this tutorial, let us use it to build a machine learning model using k-Nearest Neighbors algorithm to predict whether the patients in the **Pima Indians Diabetes Dataset** have diabetes or not.  \n",
        "\n",
        "We have 8 features:\n",
        "\n",
        "1. Number of times pregnant\n",
        "2. Plasma glucose concentration a 2 hours in an oral glucose tolerance test\n",
        "3. Diastolic blood pressure (mm Hg)\n",
        "4. Triceps skin fold thickness (mm)\n",
        "5. 2-Hour serum insulin (mu U/ml)\n",
        "6. Body mass index (weight in kg/(height in m)^2)\n",
        "7. Diabetes pedigree function\n",
        "8. Age (years)\n",
        "\n",
        "And out target is:  \n",
        "* Outcome (onset of diabetes as 1 or not as 0)"
      ]
    },
    {
      "cell_type": "code",
      "execution_count": 61,
      "metadata": {
        "_cell_guid": "059208d1-5542-4d80-9ee2-cee9a4391e78",
        "_uuid": "333dc72902f9a7b163226cb187cf989768665c43",
        "collapsed": true,
        "id": "Alk6SKk3ZGwP"
      },
      "outputs": [],
      "source": [
        "#Load the necessary python libraries\n",
        "import numpy as np\n",
        "import pandas as pd\n",
        "import matplotlib.pyplot as plt\n",
        "plt.style.use('ggplot')"
      ]
    },
    {
      "cell_type": "code",
      "source": [
        "from google.colab import files \n",
        "uploaded_files = files.upload() # upload file\n",
        "import io\n",
        "data = io.BytesIO(uploaded_files['diabetes.csv']) # read file\n"
      ],
      "metadata": {
        "colab": {
          "base_uri": "https://localhost:8080/",
          "height": 72
        },
        "id": "mXAcyI9vfPpx",
        "outputId": "258c87a7-e827-4d01-c997-af1f3ef3174f"
      },
      "execution_count": 62,
      "outputs": [
        {
          "output_type": "display_data",
          "data": {
            "text/plain": [
              "<IPython.core.display.HTML object>"
            ],
            "text/html": [
              "\n",
              "     <input type=\"file\" id=\"files-00377c6c-3f05-4567-bbb5-10137d513cdc\" name=\"files[]\" multiple disabled\n",
              "        style=\"border:none\" />\n",
              "     <output id=\"result-00377c6c-3f05-4567-bbb5-10137d513cdc\">\n",
              "      Upload widget is only available when the cell has been executed in the\n",
              "      current browser session. Please rerun this cell to enable.\n",
              "      </output>\n",
              "      <script>// Copyright 2017 Google LLC\n",
              "//\n",
              "// Licensed under the Apache License, Version 2.0 (the \"License\");\n",
              "// you may not use this file except in compliance with the License.\n",
              "// You may obtain a copy of the License at\n",
              "//\n",
              "//      http://www.apache.org/licenses/LICENSE-2.0\n",
              "//\n",
              "// Unless required by applicable law or agreed to in writing, software\n",
              "// distributed under the License is distributed on an \"AS IS\" BASIS,\n",
              "// WITHOUT WARRANTIES OR CONDITIONS OF ANY KIND, either express or implied.\n",
              "// See the License for the specific language governing permissions and\n",
              "// limitations under the License.\n",
              "\n",
              "/**\n",
              " * @fileoverview Helpers for google.colab Python module.\n",
              " */\n",
              "(function(scope) {\n",
              "function span(text, styleAttributes = {}) {\n",
              "  const element = document.createElement('span');\n",
              "  element.textContent = text;\n",
              "  for (const key of Object.keys(styleAttributes)) {\n",
              "    element.style[key] = styleAttributes[key];\n",
              "  }\n",
              "  return element;\n",
              "}\n",
              "\n",
              "// Max number of bytes which will be uploaded at a time.\n",
              "const MAX_PAYLOAD_SIZE = 100 * 1024;\n",
              "\n",
              "function _uploadFiles(inputId, outputId) {\n",
              "  const steps = uploadFilesStep(inputId, outputId);\n",
              "  const outputElement = document.getElementById(outputId);\n",
              "  // Cache steps on the outputElement to make it available for the next call\n",
              "  // to uploadFilesContinue from Python.\n",
              "  outputElement.steps = steps;\n",
              "\n",
              "  return _uploadFilesContinue(outputId);\n",
              "}\n",
              "\n",
              "// This is roughly an async generator (not supported in the browser yet),\n",
              "// where there are multiple asynchronous steps and the Python side is going\n",
              "// to poll for completion of each step.\n",
              "// This uses a Promise to block the python side on completion of each step,\n",
              "// then passes the result of the previous step as the input to the next step.\n",
              "function _uploadFilesContinue(outputId) {\n",
              "  const outputElement = document.getElementById(outputId);\n",
              "  const steps = outputElement.steps;\n",
              "\n",
              "  const next = steps.next(outputElement.lastPromiseValue);\n",
              "  return Promise.resolve(next.value.promise).then((value) => {\n",
              "    // Cache the last promise value to make it available to the next\n",
              "    // step of the generator.\n",
              "    outputElement.lastPromiseValue = value;\n",
              "    return next.value.response;\n",
              "  });\n",
              "}\n",
              "\n",
              "/**\n",
              " * Generator function which is called between each async step of the upload\n",
              " * process.\n",
              " * @param {string} inputId Element ID of the input file picker element.\n",
              " * @param {string} outputId Element ID of the output display.\n",
              " * @return {!Iterable<!Object>} Iterable of next steps.\n",
              " */\n",
              "function* uploadFilesStep(inputId, outputId) {\n",
              "  const inputElement = document.getElementById(inputId);\n",
              "  inputElement.disabled = false;\n",
              "\n",
              "  const outputElement = document.getElementById(outputId);\n",
              "  outputElement.innerHTML = '';\n",
              "\n",
              "  const pickedPromise = new Promise((resolve) => {\n",
              "    inputElement.addEventListener('change', (e) => {\n",
              "      resolve(e.target.files);\n",
              "    });\n",
              "  });\n",
              "\n",
              "  const cancel = document.createElement('button');\n",
              "  inputElement.parentElement.appendChild(cancel);\n",
              "  cancel.textContent = 'Cancel upload';\n",
              "  const cancelPromise = new Promise((resolve) => {\n",
              "    cancel.onclick = () => {\n",
              "      resolve(null);\n",
              "    };\n",
              "  });\n",
              "\n",
              "  // Wait for the user to pick the files.\n",
              "  const files = yield {\n",
              "    promise: Promise.race([pickedPromise, cancelPromise]),\n",
              "    response: {\n",
              "      action: 'starting',\n",
              "    }\n",
              "  };\n",
              "\n",
              "  cancel.remove();\n",
              "\n",
              "  // Disable the input element since further picks are not allowed.\n",
              "  inputElement.disabled = true;\n",
              "\n",
              "  if (!files) {\n",
              "    return {\n",
              "      response: {\n",
              "        action: 'complete',\n",
              "      }\n",
              "    };\n",
              "  }\n",
              "\n",
              "  for (const file of files) {\n",
              "    const li = document.createElement('li');\n",
              "    li.append(span(file.name, {fontWeight: 'bold'}));\n",
              "    li.append(span(\n",
              "        `(${file.type || 'n/a'}) - ${file.size} bytes, ` +\n",
              "        `last modified: ${\n",
              "            file.lastModifiedDate ? file.lastModifiedDate.toLocaleDateString() :\n",
              "                                    'n/a'} - `));\n",
              "    const percent = span('0% done');\n",
              "    li.appendChild(percent);\n",
              "\n",
              "    outputElement.appendChild(li);\n",
              "\n",
              "    const fileDataPromise = new Promise((resolve) => {\n",
              "      const reader = new FileReader();\n",
              "      reader.onload = (e) => {\n",
              "        resolve(e.target.result);\n",
              "      };\n",
              "      reader.readAsArrayBuffer(file);\n",
              "    });\n",
              "    // Wait for the data to be ready.\n",
              "    let fileData = yield {\n",
              "      promise: fileDataPromise,\n",
              "      response: {\n",
              "        action: 'continue',\n",
              "      }\n",
              "    };\n",
              "\n",
              "    // Use a chunked sending to avoid message size limits. See b/62115660.\n",
              "    let position = 0;\n",
              "    do {\n",
              "      const length = Math.min(fileData.byteLength - position, MAX_PAYLOAD_SIZE);\n",
              "      const chunk = new Uint8Array(fileData, position, length);\n",
              "      position += length;\n",
              "\n",
              "      const base64 = btoa(String.fromCharCode.apply(null, chunk));\n",
              "      yield {\n",
              "        response: {\n",
              "          action: 'append',\n",
              "          file: file.name,\n",
              "          data: base64,\n",
              "        },\n",
              "      };\n",
              "\n",
              "      let percentDone = fileData.byteLength === 0 ?\n",
              "          100 :\n",
              "          Math.round((position / fileData.byteLength) * 100);\n",
              "      percent.textContent = `${percentDone}% done`;\n",
              "\n",
              "    } while (position < fileData.byteLength);\n",
              "  }\n",
              "\n",
              "  // All done.\n",
              "  yield {\n",
              "    response: {\n",
              "      action: 'complete',\n",
              "    }\n",
              "  };\n",
              "}\n",
              "\n",
              "scope.google = scope.google || {};\n",
              "scope.google.colab = scope.google.colab || {};\n",
              "scope.google.colab._files = {\n",
              "  _uploadFiles,\n",
              "  _uploadFilesContinue,\n",
              "};\n",
              "})(self);\n",
              "</script> "
            ]
          },
          "metadata": {}
        },
        {
          "output_type": "stream",
          "name": "stdout",
          "text": [
            "Saving diabetes.csv to diabetes (2).csv\n"
          ]
        }
      ]
    },
    {
      "cell_type": "code",
      "execution_count": 63,
      "metadata": {
        "_cell_guid": "0d788097-f6b8-4fca-99b4-f5102d1bbade",
        "_uuid": "d15b5491570a8ec6188b77240ab334f9b68f2655",
        "colab": {
          "base_uri": "https://localhost:8080/",
          "height": 206
        },
        "collapsed": true,
        "id": "xWd_R_gOZGwT",
        "outputId": "28d89d2f-5b31-48ff-ec6a-425000369e00"
      },
      "outputs": [
        {
          "output_type": "execute_result",
          "data": {
            "text/plain": [
              "   Pregnancies  Glucose  BloodPressure  SkinThickness  Insulin   BMI  \\\n",
              "0            6      148             72             35        0  33.6   \n",
              "1            1       85             66             29        0  26.6   \n",
              "2            8      183             64              0        0  23.3   \n",
              "3            1       89             66             23       94  28.1   \n",
              "4            0      137             40             35      168  43.1   \n",
              "\n",
              "   DiabetesPedigreeFunction  Age  Outcome  \n",
              "0                     0.627   50        1  \n",
              "1                     0.351   31        0  \n",
              "2                     0.672   32        1  \n",
              "3                     0.167   21        0  \n",
              "4                     2.288   33        1  "
            ],
            "text/html": [
              "\n",
              "  <div id=\"df-dd478657-bda1-4d7e-a29f-4331223fc235\">\n",
              "    <div class=\"colab-df-container\">\n",
              "      <div>\n",
              "<style scoped>\n",
              "    .dataframe tbody tr th:only-of-type {\n",
              "        vertical-align: middle;\n",
              "    }\n",
              "\n",
              "    .dataframe tbody tr th {\n",
              "        vertical-align: top;\n",
              "    }\n",
              "\n",
              "    .dataframe thead th {\n",
              "        text-align: right;\n",
              "    }\n",
              "</style>\n",
              "<table border=\"1\" class=\"dataframe\">\n",
              "  <thead>\n",
              "    <tr style=\"text-align: right;\">\n",
              "      <th></th>\n",
              "      <th>Pregnancies</th>\n",
              "      <th>Glucose</th>\n",
              "      <th>BloodPressure</th>\n",
              "      <th>SkinThickness</th>\n",
              "      <th>Insulin</th>\n",
              "      <th>BMI</th>\n",
              "      <th>DiabetesPedigreeFunction</th>\n",
              "      <th>Age</th>\n",
              "      <th>Outcome</th>\n",
              "    </tr>\n",
              "  </thead>\n",
              "  <tbody>\n",
              "    <tr>\n",
              "      <th>0</th>\n",
              "      <td>6</td>\n",
              "      <td>148</td>\n",
              "      <td>72</td>\n",
              "      <td>35</td>\n",
              "      <td>0</td>\n",
              "      <td>33.6</td>\n",
              "      <td>0.627</td>\n",
              "      <td>50</td>\n",
              "      <td>1</td>\n",
              "    </tr>\n",
              "    <tr>\n",
              "      <th>1</th>\n",
              "      <td>1</td>\n",
              "      <td>85</td>\n",
              "      <td>66</td>\n",
              "      <td>29</td>\n",
              "      <td>0</td>\n",
              "      <td>26.6</td>\n",
              "      <td>0.351</td>\n",
              "      <td>31</td>\n",
              "      <td>0</td>\n",
              "    </tr>\n",
              "    <tr>\n",
              "      <th>2</th>\n",
              "      <td>8</td>\n",
              "      <td>183</td>\n",
              "      <td>64</td>\n",
              "      <td>0</td>\n",
              "      <td>0</td>\n",
              "      <td>23.3</td>\n",
              "      <td>0.672</td>\n",
              "      <td>32</td>\n",
              "      <td>1</td>\n",
              "    </tr>\n",
              "    <tr>\n",
              "      <th>3</th>\n",
              "      <td>1</td>\n",
              "      <td>89</td>\n",
              "      <td>66</td>\n",
              "      <td>23</td>\n",
              "      <td>94</td>\n",
              "      <td>28.1</td>\n",
              "      <td>0.167</td>\n",
              "      <td>21</td>\n",
              "      <td>0</td>\n",
              "    </tr>\n",
              "    <tr>\n",
              "      <th>4</th>\n",
              "      <td>0</td>\n",
              "      <td>137</td>\n",
              "      <td>40</td>\n",
              "      <td>35</td>\n",
              "      <td>168</td>\n",
              "      <td>43.1</td>\n",
              "      <td>2.288</td>\n",
              "      <td>33</td>\n",
              "      <td>1</td>\n",
              "    </tr>\n",
              "  </tbody>\n",
              "</table>\n",
              "</div>\n",
              "      <button class=\"colab-df-convert\" onclick=\"convertToInteractive('df-dd478657-bda1-4d7e-a29f-4331223fc235')\"\n",
              "              title=\"Convert this dataframe to an interactive table.\"\n",
              "              style=\"display:none;\">\n",
              "        \n",
              "  <svg xmlns=\"http://www.w3.org/2000/svg\" height=\"24px\"viewBox=\"0 0 24 24\"\n",
              "       width=\"24px\">\n",
              "    <path d=\"M0 0h24v24H0V0z\" fill=\"none\"/>\n",
              "    <path d=\"M18.56 5.44l.94 2.06.94-2.06 2.06-.94-2.06-.94-.94-2.06-.94 2.06-2.06.94zm-11 1L8.5 8.5l.94-2.06 2.06-.94-2.06-.94L8.5 2.5l-.94 2.06-2.06.94zm10 10l.94 2.06.94-2.06 2.06-.94-2.06-.94-.94-2.06-.94 2.06-2.06.94z\"/><path d=\"M17.41 7.96l-1.37-1.37c-.4-.4-.92-.59-1.43-.59-.52 0-1.04.2-1.43.59L10.3 9.45l-7.72 7.72c-.78.78-.78 2.05 0 2.83L4 21.41c.39.39.9.59 1.41.59.51 0 1.02-.2 1.41-.59l7.78-7.78 2.81-2.81c.8-.78.8-2.07 0-2.86zM5.41 20L4 18.59l7.72-7.72 1.47 1.35L5.41 20z\"/>\n",
              "  </svg>\n",
              "      </button>\n",
              "      \n",
              "  <style>\n",
              "    .colab-df-container {\n",
              "      display:flex;\n",
              "      flex-wrap:wrap;\n",
              "      gap: 12px;\n",
              "    }\n",
              "\n",
              "    .colab-df-convert {\n",
              "      background-color: #E8F0FE;\n",
              "      border: none;\n",
              "      border-radius: 50%;\n",
              "      cursor: pointer;\n",
              "      display: none;\n",
              "      fill: #1967D2;\n",
              "      height: 32px;\n",
              "      padding: 0 0 0 0;\n",
              "      width: 32px;\n",
              "    }\n",
              "\n",
              "    .colab-df-convert:hover {\n",
              "      background-color: #E2EBFA;\n",
              "      box-shadow: 0px 1px 2px rgba(60, 64, 67, 0.3), 0px 1px 3px 1px rgba(60, 64, 67, 0.15);\n",
              "      fill: #174EA6;\n",
              "    }\n",
              "\n",
              "    [theme=dark] .colab-df-convert {\n",
              "      background-color: #3B4455;\n",
              "      fill: #D2E3FC;\n",
              "    }\n",
              "\n",
              "    [theme=dark] .colab-df-convert:hover {\n",
              "      background-color: #434B5C;\n",
              "      box-shadow: 0px 1px 3px 1px rgba(0, 0, 0, 0.15);\n",
              "      filter: drop-shadow(0px 1px 2px rgba(0, 0, 0, 0.3));\n",
              "      fill: #FFFFFF;\n",
              "    }\n",
              "  </style>\n",
              "\n",
              "      <script>\n",
              "        const buttonEl =\n",
              "          document.querySelector('#df-dd478657-bda1-4d7e-a29f-4331223fc235 button.colab-df-convert');\n",
              "        buttonEl.style.display =\n",
              "          google.colab.kernel.accessAllowed ? 'block' : 'none';\n",
              "\n",
              "        async function convertToInteractive(key) {\n",
              "          const element = document.querySelector('#df-dd478657-bda1-4d7e-a29f-4331223fc235');\n",
              "          const dataTable =\n",
              "            await google.colab.kernel.invokeFunction('convertToInteractive',\n",
              "                                                     [key], {});\n",
              "          if (!dataTable) return;\n",
              "\n",
              "          const docLinkHtml = 'Like what you see? Visit the ' +\n",
              "            '<a target=\"_blank\" href=https://colab.research.google.com/notebooks/data_table.ipynb>data table notebook</a>'\n",
              "            + ' to learn more about interactive tables.';\n",
              "          element.innerHTML = '';\n",
              "          dataTable['output_type'] = 'display_data';\n",
              "          await google.colab.output.renderOutput(dataTable, element);\n",
              "          const docLink = document.createElement('div');\n",
              "          docLink.innerHTML = docLinkHtml;\n",
              "          element.appendChild(docLink);\n",
              "        }\n",
              "      </script>\n",
              "    </div>\n",
              "  </div>\n",
              "  "
            ]
          },
          "metadata": {},
          "execution_count": 63
        }
      ],
      "source": [
        "#Load the dataset\n",
        "df = pd.read_csv(data)\n",
        "#Print the first 5 rows of the dataframe.\n",
        "df.head()"
      ]
    },
    {
      "cell_type": "code",
      "execution_count": 64,
      "metadata": {
        "_cell_guid": "766ae7f8-b08c-4ca7-bc1e-7e0401ac7fce",
        "_uuid": "25e59b9710940c6b4d86dc6e1487ce41dbf284e3",
        "colab": {
          "base_uri": "https://localhost:8080/"
        },
        "collapsed": true,
        "id": "tMCE5QCwZGwY",
        "outputId": "a820affa-e883-48d8-ee82-c3b575083627"
      },
      "outputs": [
        {
          "output_type": "execute_result",
          "data": {
            "text/plain": [
              "(768, 9)"
            ]
          },
          "metadata": {},
          "execution_count": 64
        }
      ],
      "source": [
        "#Let's observe the shape of the dataframe.\n",
        "df.shape"
      ]
    },
    {
      "cell_type": "markdown",
      "metadata": {
        "_cell_guid": "d1623be8-e5c9-4359-9747-bcaa469429ff",
        "_uuid": "765f95aef62cf293597ae9fc5c2a6063d1e83222",
        "id": "RIf7z5ssZGwe"
      },
      "source": [
        "As observed above we have 768 rows and 9 columns.  \n",
        "The first 8 columns represent the features and the last column represent the target/label (1: diabetic, 0: non-diabetic). "
      ]
    },
    {
      "cell_type": "code",
      "execution_count": 65,
      "metadata": {
        "_cell_guid": "a405c050-6a75-4c4a-803f-86db6152d796",
        "_uuid": "5b6e02cc6d372bd5c3b646959fdf3db8c0e0a881",
        "collapsed": true,
        "id": "f2ENY9GkZGwf"
      },
      "outputs": [],
      "source": [
        "#Let's create numpy arrays for features and target\n",
        "X = df.drop('Outcome',axis=1).values\n",
        "y = df['Outcome'].values"
      ]
    },
    {
      "cell_type": "markdown",
      "metadata": {
        "_cell_guid": "18477358-3b6a-46e2-8b32-67dfc3150e53",
        "_uuid": "ce8256ba90e53d72f32d075e9beca80a32b4f14c",
        "id": "IcvMwOSrZGwj"
      },
      "source": [
        "Let's split the data randomly into training and test set. \n",
        "\n",
        "We will fit/train a classifier on the training set and make predictions on the test set. Then we will compare the predictions with the known labels.\n",
        "\n",
        "Scikit-learn provides facility to split data into train and test set using `train_test_split` method."
      ]
    },
    {
      "cell_type": "code",
      "execution_count": 66,
      "metadata": {
        "_cell_guid": "c674227c-f930-4ae0-a58a-c3f94c06c7d7",
        "_uuid": "892a7dac3f31c5d7ef1506933102ebdec2605ce0",
        "collapsed": true,
        "id": "6IVVo8uEZGwj"
      },
      "outputs": [],
      "source": [
        "#importing train_test_split\n",
        "from sklearn.model_selection import train_test_split"
      ]
    },
    {
      "cell_type": "markdown",
      "metadata": {
        "_cell_guid": "92e7ad71-2384-4f93-93ef-e70476fbbe9f",
        "_uuid": "a4965dba9f73aa19400a4b767be4ce9bdb0426b2",
        "id": "KgWZNRNAZGwr"
      },
      "source": [
        "It is a best practice to perform our split of dataset in such a way that it maintains the same ratio of classes in our test and train dataset.So we use the stratify argument.\n",
        "\n",
        "Also we create a test set of size of about 40% of the dataset."
      ]
    },
    {
      "cell_type": "code",
      "execution_count": 67,
      "metadata": {
        "_cell_guid": "380309a4-ecaa-43e6-be63-f0e657e5838b",
        "_uuid": "d90e61834caa0b28f7585e4322b49c1c2780d607",
        "collapsed": true,
        "id": "Yo7jfgGvZGws"
      },
      "outputs": [],
      "source": [
        "X_train,X_test,y_train,y_test = train_test_split(X,y,test_size=0.4,stratify=y,random_state=42)"
      ]
    },
    {
      "cell_type": "markdown",
      "metadata": {
        "_cell_guid": "f47ce31a-cd75-4294-9309-ede79264b977",
        "_uuid": "30d4cf1dd61428d69c95ca7dbbd2479c698275a1",
        "id": "2IGwNXgXZGw0"
      },
      "source": [
        "Let's create a classifier using k-Nearest Neighbors algorithm.\n",
        "\n",
        "First, let us observe the accuracies for different values of k."
      ]
    },
    {
      "cell_type": "code",
      "execution_count": 68,
      "metadata": {
        "_cell_guid": "ca8346d5-a9a4-4728-8b24-253de0d9a31c",
        "_uuid": "745e27e18bf047cd2c71e014aebd324b306de5b5",
        "collapsed": true,
        "id": "A5LAYGQIZGw2"
      },
      "outputs": [],
      "source": [
        "#import KNeighborsClassifier\n",
        "from sklearn.neighbors import KNeighborsClassifier\n",
        "\n",
        "#Setup arrays to store training and test accuracies\n",
        "neighbors = np.arange(1,9)\n",
        "train_accuracy = np.empty(len(neighbors))\n",
        "test_accuracy = np.empty(len(neighbors))\n",
        "\n",
        "for i,k in enumerate(neighbors):\n",
        "    #Setup a knn classifier with k neighbors\n",
        "    knn = KNeighborsClassifier(n_neighbors=k)\n",
        "    \n",
        "    #Fit the model\n",
        "    knn.fit(X_train,y_train)\n",
        "    \n",
        "    #Compute accuracy on the training set\n",
        "    train_accuracy[i] = knn.score(X_train,y_train)\n",
        "    \n",
        "    #Compute accuracy on the test set\n",
        "    test_accuracy[i] = knn.score(X_test,y_test)\n",
        "    "
      ]
    },
    {
      "cell_type": "code",
      "execution_count": 69,
      "metadata": {
        "_cell_guid": "354c71d7-25f6-4862-9e5a-c390341c858b",
        "_uuid": "6e40ab5bc997d0f450215f65344bb79b4cf3896d",
        "colab": {
          "base_uri": "https://localhost:8080/",
          "height": 299
        },
        "collapsed": true,
        "id": "bC3Z4hUVZGw-",
        "outputId": "f9818082-2777-457e-ab2a-ecfba95c4f27"
      },
      "outputs": [
        {
          "output_type": "display_data",
          "data": {
            "text/plain": [
              "<Figure size 432x288 with 1 Axes>"
            ],
            "image/png": "[encoded data removed]"
          },
          "metadata": {}
        }
      ],
      "source": [
        "#Generate plot\n",
        "plt.plot(neighbors,test_accuracy,label='Testing Accuracy')\n",
        "plt.plot(neighbors,train_accuracy,label='Training Accuracy')\n",
        "plt.legend()\n",
        "plt.xlabel('Number of neighbors')\n",
        "plt.ylabel('Accuracy')\n",
        "plt.title('K-NN Varying number of neighbors')\n",
        "plt.show()"
      ]
    },
    {
      "cell_type": "markdown",
      "metadata": {
        "_cell_guid": "b9ef2f66-9994-4a36-bbf3-1a4e5aadfc41",
        "_uuid": "f76fa52e8fab081315cf6a9aef45b6181e1593f5",
        "id": "yZ60AwqzZGxB"
      },
      "source": [
        "We can observe above that we get maximum testing accuracy for k=7. So let's create a `KNeighborsClassifier` with number of neighbors as `7`."
      ]
    },
    {
      "cell_type": "code",
      "execution_count": 91,
      "metadata": {
        "_cell_guid": "d8cd01d6-f27a-43af-9ccf-4acb9ac351d7",
        "_uuid": "fd50a5bbfacbb723e2a27ed8cc2dd7de808875b6",
        "collapsed": true,
        "id": "VQznke9zZGxC"
      },
      "outputs": [],
      "source": [
        "#Setup a knn classifier with k neighbors\n",
        "knn = KNeighborsClassifier(n_neighbors=7)"
      ]
    },
    {
      "cell_type": "code",
      "execution_count": 92,
      "metadata": {
        "_cell_guid": "d9f66590-30d7-41c3-96f1-0d8abf6b759c",
        "_uuid": "927ab01dc02b5ccf1cc3a008b7d103d5f195daa5",
        "colab": {
          "base_uri": "https://localhost:8080/",
          "height": 74
        },
        "collapsed": true,
        "id": "HzqmqjdqZGxF",
        "outputId": "7a87ca10-44ef-4aaa-a4ca-18fbe8a94a48"
      },
      "outputs": [
        {
          "output_type": "execute_result",
          "data": {
            "text/plain": [
              "KNeighborsClassifier(n_neighbors=7)"
            ],
            "text/html": [
              "<style>#sk-container-id-7 {color: black;background-color: white;}#sk-container-id-7 pre{padding: 0;}#sk-container-id-7 div.sk-toggleable {background-color: white;}#sk-container-id-7 label.sk-toggleable__label {cursor: pointer;display: block;width: 100%;margin-bottom: 0;padding: 0.3em;box-sizing: border-box;text-align: center;}#sk-container-id-7 label.sk-toggleable__label-arrow:before {content: \"▸\";float: left;margin-right: 0.25em;color: #696969;}#sk-container-id-7 label.sk-toggleable__label-arrow:hover:before {color: black;}#sk-container-id-7 div.sk-estimator:hover label.sk-toggleable__label-arrow:before {color: black;}#sk-container-id-7 div.sk-toggleable__content {max-height: 0;max-width: 0;overflow: hidden;text-align: left;background-color: #f0f8ff;}#sk-container-id-7 div.sk-toggleable__content pre {margin: 0.2em;color: black;border-radius: 0.25em;background-color: #f0f8ff;}#sk-container-id-7 input.sk-toggleable__control:checked~div.sk-toggleable__content {max-height: 200px;max-width: 100%;overflow: auto;}#sk-container-id-7 input.sk-toggleable__control:checked~label.sk-toggleable__label-arrow:before {content: \"▾\";}#sk-container-id-7 div.sk-estimator input.sk-toggleable__control:checked~label.sk-toggleable__label {background-color: #d4ebff;}#sk-container-id-7 div.sk-label input.sk-toggleable__control:checked~label.sk-toggleable__label {background-color: #d4ebff;}#sk-container-id-7 input.sk-hidden--visually {border: 0;clip: rect(1px 1px 1px 1px);clip: rect(1px, 1px, 1px, 1px);height: 1px;margin: -1px;overflow: hidden;padding: 0;position: absolute;width: 1px;}#sk-container-id-7 div.sk-estimator {font-family: monospace;background-color: #f0f8ff;border: 1px dotted black;border-radius: 0.25em;box-sizing: border-box;margin-bottom: 0.5em;}#sk-container-id-7 div.sk-estimator:hover {background-color: #d4ebff;}#sk-container-id-7 div.sk-parallel-item::after {content: \"\";width: 100%;border-bottom: 1px solid gray;flex-grow: 1;}#sk-container-id-7 div.sk-label:hover label.sk-toggleable__label {background-color: #d4ebff;}#sk-container-id-7 div.sk-serial::before {content: \"\";position: absolute;border-left: 1px solid gray;box-sizing: border-box;top: 0;bottom: 0;left: 50%;z-index: 0;}#sk-container-id-7 div.sk-serial {display: flex;flex-direction: column;align-items: center;background-color: white;padding-right: 0.2em;padding-left: 0.2em;position: relative;}#sk-container-id-7 div.sk-item {position: relative;z-index: 1;}#sk-container-id-7 div.sk-parallel {display: flex;align-items: stretch;justify-content: center;background-color: white;position: relative;}#sk-container-id-7 div.sk-item::before, #sk-container-id-7 div.sk-parallel-item::before {content: \"\";position: absolute;border-left: 1px solid gray;box-sizing: border-box;top: 0;bottom: 0;left: 50%;z-index: -1;}#sk-container-id-7 div.sk-parallel-item {display: flex;flex-direction: column;z-index: 1;position: relative;background-color: white;}#sk-container-id-7 div.sk-parallel-item:first-child::after {align-self: flex-end;width: 50%;}#sk-container-id-7 div.sk-parallel-item:last-child::after {align-self: flex-start;width: 50%;}#sk-container-id-7 div.sk-parallel-item:only-child::after {width: 0;}#sk-container-id-7 div.sk-dashed-wrapped {border: 1px dashed gray;margin: 0 0.4em 0.5em 0.4em;box-sizing: border-box;padding-bottom: 0.4em;background-color: white;}#sk-container-id-7 div.sk-label label {font-family: monospace;font-weight: bold;display: inline-block;line-height: 1.2em;}#sk-container-id-7 div.sk-label-container {text-align: center;}#sk-container-id-7 div.sk-container {/* jupyter's `normalize.less` sets `[hidden] { display: none; }` but bootstrap.min.css set `[hidden] { display: none !important; }` so we also need the `!important` here to be able to override the default hidden behavior on the sphinx rendered scikit-learn.org. See: https://github.com/scikit-learn/scikit-learn/issues/21755 */display: inline-block !important;position: relative;}#sk-container-id-7 div.sk-text-repr-fallback {display: none;}</style><div id=\"sk-container-id-7\" class=\"sk-top-container\"><div class=\"sk-text-repr-fallback\"><pre>KNeighborsClassifier(n_neighbors=7)</pre><b>In a Jupyter environment, please rerun this cell to show the HTML representation or trust the notebook. <br />On GitHub, the HTML representation is unable to render, please try loading this page with nbviewer.org.</b></div><div class=\"sk-container\" hidden><div class=\"sk-item\"><div class=\"sk-estimator sk-toggleable\"><input class=\"sk-toggleable__control sk-hidden--visually\" id=\"sk-estimator-id-13\" type=\"checkbox\" checked><label for=\"sk-estimator-id-13\" class=\"sk-toggleable__label sk-toggleable__label-arrow\">KNeighborsClassifier</label><div class=\"sk-toggleable__content\"><pre>KNeighborsClassifier(n_neighbors=7)</pre></div></div></div></div></div>"
            ]
          },
          "metadata": {},
          "execution_count": 92
        }
      ],
      "source": [
        "#Fit the model\n",
        "knn.fit(X_train,y_train)"
      ]
    },
    {
      "cell_type": "code",
      "execution_count": 72,
      "metadata": {
        "_cell_guid": "3b16c03f-8619-4842-843c-5134b4cc49cb",
        "_uuid": "b4b0ae189ab063a00d5dfdef2847101a206ffa7c",
        "colab": {
          "base_uri": "https://localhost:8080/"
        },
        "collapsed": true,
        "id": "kije3inrZGxN",
        "outputId": "8d314e50-b592-4889-fdea-16bcf0f66461"
      },
      "outputs": [
        {
          "output_type": "execute_result",
          "data": {
            "text/plain": [
              "0.7305194805194806"
            ]
          },
          "metadata": {},
          "execution_count": 72
        }
      ],
      "source": [
        "#Get accuracy. Note: In case of classification algorithms score method represents accuracy.\n",
        "knn.score(X_test,y_test)"
      ]
    },
    {
      "cell_type": "markdown",
      "metadata": {
        "_cell_guid": "daf29d5a-b7c1-4a8b-8492-72ddce1ca359",
        "_uuid": "380c3b4a0a147f6d89cccfc20d313cfaec6e4c8e",
        "id": "YVI-Rl50ZGxR"
      },
      "source": [
        "**Confusion Matrix**\n",
        "\n",
        "A confusion matrix is a table that is often used to describe the performance of a classification model (or \"classifier\") on a set of test data for which the true values are known. Scikit-learn provides facility to calculate confusion matrix using the `confusion_matrix` method."
      ]
    },
    {
      "cell_type": "code",
      "execution_count": 73,
      "metadata": {
        "_cell_guid": "02c947c0-852b-4f19-8555-2e7116c47e85",
        "_uuid": "cdc17629041fc70eb5fd00685259d3aca24b8200",
        "collapsed": true,
        "id": "Ub6eQg_6ZGxR"
      },
      "outputs": [],
      "source": [
        "#import confusion_matrix\n",
        "from sklearn.metrics import confusion_matrix"
      ]
    },
    {
      "cell_type": "code",
      "execution_count": 74,
      "metadata": {
        "_uuid": "82e97b52f13616c7fefdb86902d7f2e1a3b52080",
        "collapsed": true,
        "id": "cwltaU24ZGxV"
      },
      "outputs": [],
      "source": [
        "#let us get the predictions using the classifier we had fit above\n",
        "y_pred = knn.predict(X_test)"
      ]
    },
    {
      "cell_type": "code",
      "execution_count": 75,
      "metadata": {
        "_cell_guid": "215866ca-a484-4039-beb4-f18cdb3cf7f7",
        "_uuid": "ab884d77ed4789dcf33f0fe7d69c8705fc2273be",
        "colab": {
          "base_uri": "https://localhost:8080/"
        },
        "collapsed": true,
        "id": "-kwWuZ-uZGxa",
        "outputId": "6823fbbf-6b45-4cfe-9f0c-90c57e72119a"
      },
      "outputs": [
        {
          "output_type": "execute_result",
          "data": {
            "text/plain": [
              "array([[165,  36],\n",
              "       [ 47,  60]])"
            ]
          },
          "metadata": {},
          "execution_count": 75
        }
      ],
      "source": [
        "#print confusion matrix\n",
        "confusion_matrix(y_test,y_pred)"
      ]
    },
    {
      "cell_type": "markdown",
      "metadata": {
        "_cell_guid": "dff9ee6e-5e97-4196-8b3a-ee5b199b3ba5",
        "_uuid": "56437155de90f62a1d550e5acfac3e1f9e2d1f01",
        "id": "b167QjhRZGxg"
      },
      "source": [
        "Considering confusion matrix above:\n",
        "\n",
        "True negative = 165\n",
        "\n",
        "False positive = 36\n",
        "\n",
        "True postive = 60\n",
        "\n",
        "Fasle negative = 47"
      ]
    },
    {
      "cell_type": "markdown",
      "metadata": {
        "_cell_guid": "4c1eba0d-4bac-4e6f-8820-e81d0564b9e9",
        "_uuid": "d9c67799afd1f26f7a80bd0d8038ad85a76dd66f",
        "id": "c0w4boahZGxg"
      },
      "source": [
        "Confusion matrix can also be obtained using `crosstab` method of `pandas`."
      ]
    },
    {
      "cell_type": "code",
      "execution_count": 76,
      "metadata": {
        "_cell_guid": "c9c26aea-37b5-42a2-b010-1e11f95c1fd9",
        "_uuid": "27bba67de6e6bd96cbe4a1420a8f864e5741d595",
        "colab": {
          "base_uri": "https://localhost:8080/",
          "height": 175
        },
        "collapsed": true,
        "id": "xAzmz03SZGxh",
        "outputId": "d24f1ffe-c2ba-41b0-f7ae-d6f421722c85"
      },
      "outputs": [
        {
          "output_type": "execute_result",
          "data": {
            "text/plain": [
              "Predicted    0   1  All\n",
              "Actual                 \n",
              "0          165  36  201\n",
              "1           47  60  107\n",
              "All        212  96  308"
            ],
            "text/html": [
              "\n",
              "  <div id=\"df-abb1f416-2067-4314-8346-ad6cbf36e73c\">\n",
              "    <div class=\"colab-df-container\">\n",
              "      <div>\n",
              "<style scoped>\n",
              "    .dataframe tbody tr th:only-of-type {\n",
              "        vertical-align: middle;\n",
              "    }\n",
              "\n",
              "    .dataframe tbody tr th {\n",
              "        vertical-align: top;\n",
              "    }\n",
              "\n",
              "    .dataframe thead th {\n",
              "        text-align: right;\n",
              "    }\n",
              "</style>\n",
              "<table border=\"1\" class=\"dataframe\">\n",
              "  <thead>\n",
              "    <tr style=\"text-align: right;\">\n",
              "      <th>Predicted</th>\n",
              "      <th>0</th>\n",
              "      <th>1</th>\n",
              "      <th>All</th>\n",
              "    </tr>\n",
              "    <tr>\n",
              "      <th>Actual</th>\n",
              "      <th></th>\n",
              "      <th></th>\n",
              "      <th></th>\n",
              "    </tr>\n",
              "  </thead>\n",
              "  <tbody>\n",
              "    <tr>\n",
              "      <th>0</th>\n",
              "      <td>165</td>\n",
              "      <td>36</td>\n",
              "      <td>201</td>\n",
              "    </tr>\n",
              "    <tr>\n",
              "      <th>1</th>\n",
              "      <td>47</td>\n",
              "      <td>60</td>\n",
              "      <td>107</td>\n",
              "    </tr>\n",
              "    <tr>\n",
              "      <th>All</th>\n",
              "      <td>212</td>\n",
              "      <td>96</td>\n",
              "      <td>308</td>\n",
              "    </tr>\n",
              "  </tbody>\n",
              "</table>\n",
              "</div>\n",
              "      <button class=\"colab-df-convert\" onclick=\"convertToInteractive('df-abb1f416-2067-4314-8346-ad6cbf36e73c')\"\n",
              "              title=\"Convert this dataframe to an interactive table.\"\n",
              "              style=\"display:none;\">\n",
              "        \n",
              "  <svg xmlns=\"http://www.w3.org/2000/svg\" height=\"24px\"viewBox=\"0 0 24 24\"\n",
              "       width=\"24px\">\n",
              "    <path d=\"M0 0h24v24H0V0z\" fill=\"none\"/>\n",
              "    <path d=\"M18.56 5.44l.94 2.06.94-2.06 2.06-.94-2.06-.94-.94-2.06-.94 2.06-2.06.94zm-11 1L8.5 8.5l.94-2.06 2.06-.94-2.06-.94L8.5 2.5l-.94 2.06-2.06.94zm10 10l.94 2.06.94-2.06 2.06-.94-2.06-.94-.94-2.06-.94 2.06-2.06.94z\"/><path d=\"M17.41 7.96l-1.37-1.37c-.4-.4-.92-.59-1.43-.59-.52 0-1.04.2-1.43.59L10.3 9.45l-7.72 7.72c-.78.78-.78 2.05 0 2.83L4 21.41c.39.39.9.59 1.41.59.51 0 1.02-.2 1.41-.59l7.78-7.78 2.81-2.81c.8-.78.8-2.07 0-2.86zM5.41 20L4 18.59l7.72-7.72 1.47 1.35L5.41 20z\"/>\n",
              "  </svg>\n",
              "      </button>\n",
              "      \n",
              "  <style>\n",
              "    .colab-df-container {\n",
              "      display:flex;\n",
              "      flex-wrap:wrap;\n",
              "      gap: 12px;\n",
              "    }\n",
              "\n",
              "    .colab-df-convert {\n",
              "      background-color: #E8F0FE;\n",
              "      border: none;\n",
              "      border-radius: 50%;\n",
              "      cursor: pointer;\n",
              "      display: none;\n",
              "      fill: #1967D2;\n",
              "      height: 32px;\n",
              "      padding: 0 0 0 0;\n",
              "      width: 32px;\n",
              "    }\n",
              "\n",
              "    .colab-df-convert:hover {\n",
              "      background-color: #E2EBFA;\n",
              "      box-shadow: 0px 1px 2px rgba(60, 64, 67, 0.3), 0px 1px 3px 1px rgba(60, 64, 67, 0.15);\n",
              "      fill: #174EA6;\n",
              "    }\n",
              "\n",
              "    [theme=dark] .colab-df-convert {\n",
              "      background-color: #3B4455;\n",
              "      fill: #D2E3FC;\n",
              "    }\n",
              "\n",
              "    [theme=dark] .colab-df-convert:hover {\n",
              "      background-color: #434B5C;\n",
              "      box-shadow: 0px 1px 3px 1px rgba(0, 0, 0, 0.15);\n",
              "      filter: drop-shadow(0px 1px 2px rgba(0, 0, 0, 0.3));\n",
              "      fill: #FFFFFF;\n",
              "    }\n",
              "  </style>\n",
              "\n",
              "      <script>\n",
              "        const buttonEl =\n",
              "          document.querySelector('#df-abb1f416-2067-4314-8346-ad6cbf36e73c button.colab-df-convert');\n",
              "        buttonEl.style.display =\n",
              "          google.colab.kernel.accessAllowed ? 'block' : 'none';\n",
              "\n",
              "        async function convertToInteractive(key) {\n",
              "          const element = document.querySelector('#df-abb1f416-2067-4314-8346-ad6cbf36e73c');\n",
              "          const dataTable =\n",
              "            await google.colab.kernel.invokeFunction('convertToInteractive',\n",
              "                                                     [key], {});\n",
              "          if (!dataTable) return;\n",
              "\n",
              "          const docLinkHtml = 'Like what you see? Visit the ' +\n",
              "            '<a target=\"_blank\" href=https://colab.research.google.com/notebooks/data_table.ipynb>data table notebook</a>'\n",
              "            + ' to learn more about interactive tables.';\n",
              "          element.innerHTML = '';\n",
              "          dataTable['output_type'] = 'display_data';\n",
              "          await google.colab.output.renderOutput(dataTable, element);\n",
              "          const docLink = document.createElement('div');\n",
              "          docLink.innerHTML = docLinkHtml;\n",
              "          element.appendChild(docLink);\n",
              "        }\n",
              "      </script>\n",
              "    </div>\n",
              "  </div>\n",
              "  "
            ]
          },
          "metadata": {},
          "execution_count": 76
        }
      ],
      "source": [
        "pd.crosstab(y_test,y_pred,rownames=['Actual'],colnames=['Predicted'],margins=True)"
      ]
    },
    {
      "cell_type": "markdown",
      "metadata": {
        "_uuid": "ded13047fdabdd96d9e765b69a88638d80226c10",
        "id": "AIgoQcvbZGxl"
      },
      "source": [
        "**Classification Report**\n",
        "\n",
        "Another important report is the Classification report. It is a text summary of the precision, recall, F1 score for each class. `Scikit-learn` provides facility to calculate Classification report using the `classification_report` method.\n",
        "\n",
        "<center>\n",
        "\n",
        "|                     | **predicted negative** | **predictive positive** |\n",
        "| ------------------- |:----------------------:|:-----------------------:|\n",
        "| **actual negative** | true negative          | false positive          |\n",
        "| **actual positive** | false negative         | true positive           |\n",
        "\n",
        "</center>\n",
        "\n",
        "**1. Precision**\n",
        "\n",
        "$$precision = \\frac{true\\ positive}{true\\ positive + false\\ positive} = \\frac{true\\ positive}{total\\ predicted\\ positive}$$\n",
        "\n",
        "Precision talks about how precise/accurate your model is out of those predicted positive, how many of them are actual positive.\n",
        "\n",
        "Precision is a good measure to determine, when the **costs of False Positive is high**. For instance, email spam detection. In email spam detection, a false positive means that an email that is non-spam (actual negative) has been identified as spam (predicted spam). The email user might lose important emails if the precision is not high for the spam detection model.\n",
        "\n",
        "**2. Recall**\n",
        "\n",
        "$$recall = \\frac{true\\ positive}{true\\ positive + false\\ negative} = \\frac{true\\ positive}{total\\ actual\\ positive}$$\n",
        "\n",
        "Recall calculates how many of the Actual Positives our model capture through labeling it as Positive (True Positive).  \n",
        "Applying the same understanding, we know that Recall shall be the model metric we use to select our best model when there is a **high cost associated with False Negative**.  \n",
        "\n",
        "For instance, in fraud detection or sick patient detection. If a fraudulent transaction (Actual Positive) is predicted as non-fraudulent (Predicted Negative), the consequence can be very bad for the bank.\n",
        "\n",
        "Similarly, in sick patient detection. If a sick patient (Actual Positive) goes through the test and predicted as not sick (Predicted Negative). The cost associated with False Negative will be extremely high if the sickness is contagious.\n",
        "\n",
        "**3. F1 Score**\n",
        "\n",
        "$$F1 = 2 * \\frac{precision * recall}{precision + recall}$$\n",
        "\n",
        "F1 Score is needed when you want to seek a balance between Precision and Recall.  \n",
        "\n",
        "F1 Score might be a better measure to use if we need to seek a balance between Precision and Recall AND there is an **uneven class distribution** (large number of Actual Negatives).\n",
        "\n",
        "<center>\n",
        "\n",
        "| Degree of imbalance | Proportion of minority class |\n",
        "| ------------------- | ---------------------------- |\n",
        "| Mild                | 20-40% of the dataset        |\n",
        "| Moderate            | 1-20% of the dataset         |\n",
        "| Extreme             | \\< 1% of the dataset         |\n",
        "\n",
        "</center>\n",
        "\n",
        "<br/>\n",
        "\n",
        "> References: [This google course](https://developers.google.com/machine-learning/data-prep/construct/sampling-splitting/imbalanced-data) and [this article](https://towardsdatascience.com/accuracy-precision-recall-or-f1-331fb37c5cb9)."
      ]
    },
    {
      "cell_type": "code",
      "execution_count": 77,
      "metadata": {
        "_cell_guid": "d9458cd7-b6fb-4268-a32a-8c87aa884c6c",
        "_uuid": "fe1119d6f66d5d8777e19ffd6b6237af30f07786",
        "collapsed": true,
        "id": "TdnKUN_WZGxm"
      },
      "outputs": [],
      "source": [
        "#import classification_report\n",
        "from sklearn.metrics import classification_report"
      ]
    },
    {
      "cell_type": "code",
      "execution_count": 78,
      "metadata": {
        "_uuid": "154b90c999ba402d96bffaf0264ad467a05c10ae",
        "colab": {
          "base_uri": "https://localhost:8080/"
        },
        "collapsed": true,
        "id": "hRnteeY3ZGxr",
        "outputId": "5e829b23-b3cd-4f78-ecca-81e6e0eaf6b9"
      },
      "outputs": [
        {
          "output_type": "stream",
          "name": "stdout",
          "text": [
            "              precision    recall  f1-score   support\n",
            "\n",
            "           0       0.78      0.82      0.80       201\n",
            "           1       0.62      0.56      0.59       107\n",
            "\n",
            "    accuracy                           0.73       308\n",
            "   macro avg       0.70      0.69      0.70       308\n",
            "weighted avg       0.73      0.73      0.73       308\n",
            "\n"
          ]
        }
      ],
      "source": [
        "# generate and print the classification report\n",
        "print(classification_report(y_test,y_pred))"
      ]
    },
    {
      "cell_type": "markdown",
      "metadata": {
        "id": "HrTkkErbci3m"
      },
      "source": [
        "We have **precision**, **recall**, **f1-score** and **support** for each class.\n",
        "\n",
        "* The **recall** means \"how many of this class we find over the whole number of element of this class\".\n",
        "* The **precision** will be \"how many are correctly classified among that class\".\n",
        "* The **f1-score** is the harmonic mean between precision & recall.\n",
        "* The **support** is the number of occurence of the given class in the dataset (so we have 201 of class 0 and 107 of class 1).\n",
        "\n",
        "Precision and recall is highly used for **imbalanced dataset** because in an highly imbalanced dataset, a 99% accuracy can be meaningless.\n",
        "\n",
        "Observation:  \n",
        "* classifier finding onset of diabetes (1) $<<$ classifier finding no onset of diabetes (0)  \n",
        "* In other words, classifier is better at finding no onset of diabetes.\n",
        "\n",
        "> Reference: [this Q&A](https://towardsdatascience.com/accuracy-precision-recall-or-f1-331fb37c5cb9)"
      ]
    },
    {
      "cell_type": "markdown",
      "metadata": {
        "_uuid": "d01de7974804a39a757cff77debb7d6ce369977d",
        "id": "19yd1BvhZGxv"
      },
      "source": [
        "**ROC (Reciever Operating Charecteristic) curve**\n",
        "\n",
        "It is a plot of the true positive rate against the false positive rate for the different possible cutpoints of a diagnostic test.\n",
        "\n",
        "$$ true\\ positive\\ rate = \\frac{true\\ positive}{true\\ positive + false\\ negative} = sensitivity = recall $$\n",
        "\n",
        "$$ false\\ positive\\ rate = \\frac{false\\ positive}{false\\ positive + true\\ negative} = 1 - specificity $$\n",
        "\n",
        "An ROC curve demonstrates several things:\n",
        "\n",
        "1) It shows the tradeoff between sensitivity and specificity (any increase in sensitivity will be accompanied by a decrease in specificity).\n",
        "\n",
        "2) The closer the curve follows the left-hand border and then the top border of the ROC space, the more accurate the test.\n",
        "\n",
        "3) The closer the curve comes to the 45-degree diagonal of the ROC space, the less accurate the test.\n",
        "\n",
        "<center>\n",
        "\n",
        "![different ROC](https://miro.medium.com/max/576/1*MIQXB9LDkPoHunwEXOa8Cg.png)\n",
        "\n",
        "</center>\n",
        "\n",
        "4) The area under the curve is a measure of test accuracy.\n",
        "\n",
        "> [This video](https://www.youtube.com/watch?v=4jRBRDbJemM) explains ROC very clearly and simply."
      ]
    },
    {
      "cell_type": "code",
      "execution_count": 96,
      "metadata": {
        "_uuid": "09246b4a0fd2661fe961fee3e9d81535c0f8cde4",
        "collapsed": true,
        "id": "ilIzPUEQZGxw"
      },
      "outputs": [],
      "source": [
        "# calulculate probability estimates of the test data and only keep those of class 1\n",
        "y_pred_proba = knn.predict_proba(X_test)[:,1]"
      ]
    },
    {
      "cell_type": "code",
      "execution_count": 80,
      "metadata": {
        "_uuid": "57054382021f13117bff46195a14935f5a35c758",
        "collapsed": true,
        "id": "5rDSQjKAZGx0"
      },
      "outputs": [],
      "source": [
        "from sklearn.metrics import roc_curve"
      ]
    },
    {
      "cell_type": "code",
      "execution_count": 81,
      "metadata": {
        "_uuid": "9b060d55660a7efd5d88dd3f6e9a67dbfcd1d75d",
        "collapsed": true,
        "id": "C7dLWFe2ZGx3"
      },
      "outputs": [],
      "source": [
        "# get the false positive rate and the true positive rate\n",
        "fpr, tpr, thresholds = roc_curve(y_test,y_pred_proba)"
      ]
    },
    {
      "cell_type": "code",
      "execution_count": 82,
      "metadata": {
        "_uuid": "c799435270fca23e7a448be35c2dab20381a3796",
        "colab": {
          "base_uri": "https://localhost:8080/",
          "height": 299
        },
        "collapsed": true,
        "id": "7cziF6IhZGx6",
        "outputId": "7d02e401-ff7a-4394-ca60-ed8548e1324c"
      },
      "outputs": [
        {
          "output_type": "display_data",
          "data": {
            "text/plain": [
              "<Figure size 432x288 with 1 Axes>"
            ],
            "image/png": "[encoded data removed]"
          },
          "metadata": {}
        }
      ],
      "source": [
        "# plot the ROC curve\n",
        "plt.plot([0,1],[0,1],'k--')\n",
        "plt.plot(fpr,tpr,label='knn')\n",
        "plt.xlabel('False positive rate - [1-specifity]')\n",
        "plt.ylabel('True positive rate - [sensitivity] ')\n",
        "plt.title('Knn(k=7) ROC curve')\n",
        "plt.show()"
      ]
    },
    {
      "cell_type": "code",
      "execution_count": 83,
      "metadata": {
        "_uuid": "17143ca1a7fa550573b848e747fec666a2cc7355",
        "colab": {
          "base_uri": "https://localhost:8080/"
        },
        "collapsed": true,
        "id": "le0hDi3tZGx-",
        "outputId": "40ed0b91-ae5d-4f19-a02b-2aac3671c0e9"
      },
      "outputs": [
        {
          "output_type": "execute_result",
          "data": {
            "text/plain": [
              "0.7345050448691124"
            ]
          },
          "metadata": {},
          "execution_count": 83
        }
      ],
      "source": [
        "#Area under ROC curve\n",
        "from sklearn.metrics import roc_auc_score\n",
        "roc_auc_score(y_test,y_pred_proba)"
      ]
    },
    {
      "cell_type": "markdown",
      "metadata": {
        "id": "mNLTOt1Dci3o"
      },
      "source": [
        "When and why we use ROC and AUC: \n",
        "\n",
        "* For single model: to find the best threshold for our purposes.\n",
        "* Comparing models: to find the best model given AUC or at a certain threshold given our desired tpr and fpr.\n"
      ]
    },
    {
      "cell_type": "markdown",
      "metadata": {
        "_uuid": "ec869f5802897e0eb39425bcb987d930078f0bf0",
        "id": "s4EhmSTBZGyC"
      },
      "source": [
        "**Cross Validation**\n",
        "\n",
        "Now before getting into the details of Hyperparamter tuning, let us understand the concept of Cross validation.\n",
        "\n",
        "The trained model's performance is dependent on way the data is split. It might not representative of the model’s ability to generalize.\n",
        "\n",
        "The solution is cross validation.\n",
        "\n",
        "Cross-validation is a technique to evaluate predictive models by partitioning the original sample into a training set to train the model, and a test set to evaluate it. \n",
        "\n",
        "In k-fold cross-validation, the original sample is randomly partitioned into k equal size subsamples. Of the k subsamples, a single subsample is retained as the validation data for testing the model, and the remaining k-1 subsamples are used as training data. The cross-validation process is then repeated k times (the folds), with each of the k subsamples used exactly once as the validation data. The k results from the folds can then be averaged (or otherwise combined) to produce a single estimation. The advantage of this method is that all observations are used for both training and validation, and each observation is used for validation exactly once."
      ]
    },
    {
      "cell_type": "markdown",
      "metadata": {
        "_uuid": "06fc8b3adb267046d44b472d1c413707ce7e9964",
        "id": "ymSZvUxuZGyD"
      },
      "source": [
        "**Hyperparameter tuning**\n",
        "\n",
        "The value of k (i.e 7) we selected above was selected by observing the curve of accuracy vs number of neighbors. This is a primitive way of hyperparameter tuning. \n",
        "\n",
        "There is a better way of doing it which involves:\n",
        "\n",
        "1) Trying a bunch of different hyperparameter values\n",
        "\n",
        "2) Fitting all of them separately\n",
        "\n",
        "3) Checking how well each performs\n",
        "\n",
        "4) Choosing the best performing one\n",
        "\n",
        "5) Using cross-validation every time\n",
        "\n",
        "Scikit-learn provides a simple way of achieving this using GridSearchCV i.e Grid Search cross-validation.\n",
        "\n"
      ]
    },
    {
      "cell_type": "code",
      "execution_count": 84,
      "metadata": {
        "_uuid": "751e6a83ecd529354e07e237ab5596b27f9061c0",
        "collapsed": true,
        "id": "mIds_BymZGyF"
      },
      "outputs": [],
      "source": [
        "#import GridSearchCV\n",
        "from sklearn.model_selection import GridSearchCV"
      ]
    },
    {
      "cell_type": "code",
      "execution_count": 85,
      "metadata": {
        "_uuid": "e0c8e768a5912accaa8b9fd8dd4d8f6654a12fb5",
        "collapsed": true,
        "id": "7_rxUyoHZGyL"
      },
      "outputs": [],
      "source": [
        "#In case of classifier like knn the parameter to be tuned is n_neighbors\n",
        "param_grid = {'n_neighbors':np.arange(1,50)}"
      ]
    },
    {
      "cell_type": "code",
      "execution_count": 86,
      "metadata": {
        "_uuid": "f47376c83b43e5b724410de51a9657934e9c4b20",
        "colab": {
          "base_uri": "https://localhost:8080/",
          "height": 117
        },
        "collapsed": true,
        "id": "OvI763ZQZGyS",
        "outputId": "45619bec-7ea1-4f9b-8e35-ee29838b294a"
      },
      "outputs": [
        {
          "output_type": "execute_result",
          "data": {
            "text/plain": [
              "GridSearchCV(cv=5, estimator=KNeighborsClassifier(),\n",
              "             param_grid={'n_neighbors': array([ 1,  2,  3,  4,  5,  6,  7,  8,  9, 10, 11, 12, 13, 14, 15, 16, 17,\n",
              "       18, 19, 20, 21, 22, 23, 24, 25, 26, 27, 28, 29, 30, 31, 32, 33, 34,\n",
              "       35, 36, 37, 38, 39, 40, 41, 42, 43, 44, 45, 46, 47, 48, 49])})"
            ],
            "text/html": [
              "<style>#sk-container-id-6 {color: black;background-color: white;}#sk-container-id-6 pre{padding: 0;}#sk-container-id-6 div.sk-toggleable {background-color: white;}#sk-container-id-6 label.sk-toggleable__label {cursor: pointer;display: block;width: 100%;margin-bottom: 0;padding: 0.3em;box-sizing: border-box;text-align: center;}#sk-container-id-6 label.sk-toggleable__label-arrow:before {content: \"▸\";float: left;margin-right: 0.25em;color: #696969;}#sk-container-id-6 label.sk-toggleable__label-arrow:hover:before {color: black;}#sk-container-id-6 div.sk-estimator:hover label.sk-toggleable__label-arrow:before {color: black;}#sk-container-id-6 div.sk-toggleable__content {max-height: 0;max-width: 0;overflow: hidden;text-align: left;background-color: #f0f8ff;}#sk-container-id-6 div.sk-toggleable__content pre {margin: 0.2em;color: black;border-radius: 0.25em;background-color: #f0f8ff;}#sk-container-id-6 input.sk-toggleable__control:checked~div.sk-toggleable__content {max-height: 200px;max-width: 100%;overflow: auto;}#sk-container-id-6 input.sk-toggleable__control:checked~label.sk-toggleable__label-arrow:before {content: \"▾\";}#sk-container-id-6 div.sk-estimator input.sk-toggleable__control:checked~label.sk-toggleable__label {background-color: #d4ebff;}#sk-container-id-6 div.sk-label input.sk-toggleable__control:checked~label.sk-toggleable__label {background-color: #d4ebff;}#sk-container-id-6 input.sk-hidden--visually {border: 0;clip: rect(1px 1px 1px 1px);clip: rect(1px, 1px, 1px, 1px);height: 1px;margin: -1px;overflow: hidden;padding: 0;position: absolute;width: 1px;}#sk-container-id-6 div.sk-estimator {font-family: monospace;background-color: #f0f8ff;border: 1px dotted black;border-radius: 0.25em;box-sizing: border-box;margin-bottom: 0.5em;}#sk-container-id-6 div.sk-estimator:hover {background-color: #d4ebff;}#sk-container-id-6 div.sk-parallel-item::after {content: \"\";width: 100%;border-bottom: 1px solid gray;flex-grow: 1;}#sk-container-id-6 div.sk-label:hover label.sk-toggleable__label {background-color: #d4ebff;}#sk-container-id-6 div.sk-serial::before {content: \"\";position: absolute;border-left: 1px solid gray;box-sizing: border-box;top: 0;bottom: 0;left: 50%;z-index: 0;}#sk-container-id-6 div.sk-serial {display: flex;flex-direction: column;align-items: center;background-color: white;padding-right: 0.2em;padding-left: 0.2em;position: relative;}#sk-container-id-6 div.sk-item {position: relative;z-index: 1;}#sk-container-id-6 div.sk-parallel {display: flex;align-items: stretch;justify-content: center;background-color: white;position: relative;}#sk-container-id-6 div.sk-item::before, #sk-container-id-6 div.sk-parallel-item::before {content: \"\";position: absolute;border-left: 1px solid gray;box-sizing: border-box;top: 0;bottom: 0;left: 50%;z-index: -1;}#sk-container-id-6 div.sk-parallel-item {display: flex;flex-direction: column;z-index: 1;position: relative;background-color: white;}#sk-container-id-6 div.sk-parallel-item:first-child::after {align-self: flex-end;width: 50%;}#sk-container-id-6 div.sk-parallel-item:last-child::after {align-self: flex-start;width: 50%;}#sk-container-id-6 div.sk-parallel-item:only-child::after {width: 0;}#sk-container-id-6 div.sk-dashed-wrapped {border: 1px dashed gray;margin: 0 0.4em 0.5em 0.4em;box-sizing: border-box;padding-bottom: 0.4em;background-color: white;}#sk-container-id-6 div.sk-label label {font-family: monospace;font-weight: bold;display: inline-block;line-height: 1.2em;}#sk-container-id-6 div.sk-label-container {text-align: center;}#sk-container-id-6 div.sk-container {/* jupyter's `normalize.less` sets `[hidden] { display: none; }` but bootstrap.min.css set `[hidden] { display: none !important; }` so we also need the `!important` here to be able to override the default hidden behavior on the sphinx rendered scikit-learn.org. See: https://github.com/scikit-learn/scikit-learn/issues/21755 */display: inline-block !important;position: relative;}#sk-container-id-6 div.sk-text-repr-fallback {display: none;}</style><div id=\"sk-container-id-6\" class=\"sk-top-container\"><div class=\"sk-text-repr-fallback\"><pre>GridSearchCV(cv=5, estimator=KNeighborsClassifier(),\n",
              "             param_grid={&#x27;n_neighbors&#x27;: array([ 1,  2,  3,  4,  5,  6,  7,  8,  9, 10, 11, 12, 13, 14, 15, 16, 17,\n",
              "       18, 19, 20, 21, 22, 23, 24, 25, 26, 27, 28, 29, 30, 31, 32, 33, 34,\n",
              "       35, 36, 37, 38, 39, 40, 41, 42, 43, 44, 45, 46, 47, 48, 49])})</pre><b>In a Jupyter environment, please rerun this cell to show the HTML representation or trust the notebook. <br />On GitHub, the HTML representation is unable to render, please try loading this page with nbviewer.org.</b></div><div class=\"sk-container\" hidden><div class=\"sk-item sk-dashed-wrapped\"><div class=\"sk-label-container\"><div class=\"sk-label sk-toggleable\"><input class=\"sk-toggleable__control sk-hidden--visually\" id=\"sk-estimator-id-10\" type=\"checkbox\" ><label for=\"sk-estimator-id-10\" class=\"sk-toggleable__label sk-toggleable__label-arrow\">GridSearchCV</label><div class=\"sk-toggleable__content\"><pre>GridSearchCV(cv=5, estimator=KNeighborsClassifier(),\n",
              "             param_grid={&#x27;n_neighbors&#x27;: array([ 1,  2,  3,  4,  5,  6,  7,  8,  9, 10, 11, 12, 13, 14, 15, 16, 17,\n",
              "       18, 19, 20, 21, 22, 23, 24, 25, 26, 27, 28, 29, 30, 31, 32, 33, 34,\n",
              "       35, 36, 37, 38, 39, 40, 41, 42, 43, 44, 45, 46, 47, 48, 49])})</pre></div></div></div><div class=\"sk-parallel\"><div class=\"sk-parallel-item\"><div class=\"sk-item\"><div class=\"sk-label-container\"><div class=\"sk-label sk-toggleable\"><input class=\"sk-toggleable__control sk-hidden--visually\" id=\"sk-estimator-id-11\" type=\"checkbox\" ><label for=\"sk-estimator-id-11\" class=\"sk-toggleable__label sk-toggleable__label-arrow\">estimator: KNeighborsClassifier</label><div class=\"sk-toggleable__content\"><pre>KNeighborsClassifier()</pre></div></div></div><div class=\"sk-serial\"><div class=\"sk-item\"><div class=\"sk-estimator sk-toggleable\"><input class=\"sk-toggleable__control sk-hidden--visually\" id=\"sk-estimator-id-12\" type=\"checkbox\" ><label for=\"sk-estimator-id-12\" class=\"sk-toggleable__label sk-toggleable__label-arrow\">KNeighborsClassifier</label><div class=\"sk-toggleable__content\"><pre>KNeighborsClassifier()</pre></div></div></div></div></div></div></div></div></div></div>"
            ]
          },
          "metadata": {},
          "execution_count": 86
        }
      ],
      "source": [
        "# create a knn classifier instance\n",
        "knn = KNeighborsClassifier()\n",
        "\n",
        "# create an instance of a grid search that has:\n",
        "# - a knn model\n",
        "# - grid parameter that specifies the number of neighbors we want to search\n",
        "# - 5 folds for the cross validation\n",
        "knn_cv = GridSearchCV(knn,param_grid,cv=5)\n",
        "\n",
        "# use the features and the target to search the grid\n",
        "knn_cv.fit(X,y)"
      ]
    },
    {
      "cell_type": "code",
      "execution_count": 87,
      "metadata": {
        "_uuid": "01a0c192bc77da41c61b2d9161fc052210542cfc",
        "colab": {
          "base_uri": "https://localhost:8080/"
        },
        "collapsed": true,
        "id": "gQ-pzXffZGyV",
        "outputId": "b84d22c1-60ae-4a0a-b69b-c368ff90ac33"
      },
      "outputs": [
        {
          "output_type": "execute_result",
          "data": {
            "text/plain": [
              "0.7578558696205755"
            ]
          },
          "metadata": {},
          "execution_count": 87
        }
      ],
      "source": [
        "# print the best score\n",
        "knn_cv.best_score_"
      ]
    },
    {
      "cell_type": "code",
      "execution_count": 88,
      "metadata": {
        "_uuid": "54eea8ab157f3d67a725422deb303a082ff695b5",
        "colab": {
          "base_uri": "https://localhost:8080/"
        },
        "collapsed": true,
        "id": "9ekytpSjZGyY",
        "outputId": "ae18204a-be10-4c40-960e-77d8a0cdad04"
      },
      "outputs": [
        {
          "output_type": "execute_result",
          "data": {
            "text/plain": [
              "{'n_neighbors': 14}"
            ]
          },
          "metadata": {},
          "execution_count": 88
        }
      ],
      "source": [
        "# print the paramter associated with the best score\n",
        "knn_cv.best_params_"
      ]
    }
  ],
  "metadata": {
    "colab": {
      "provenance": []
    },
    "kernelspec": {
      "display_name": "Python 3",
      "language": "python",
      "name": "python3"
    },
    "language_info": {
      "codemirror_mode": {
        "name": "ipython",
        "version": 3
      },
      "file_extension": ".py",
      "mimetype": "text/x-python",
      "name": "python",
      "nbconvert_exporter": "python",
      "pygments_lexer": "ipython3",
      "version": "3.8.3"
    }
  },
  "nbformat": 4,
  "nbformat_minor": 0
}