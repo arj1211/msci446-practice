{
  "cells": [
    {
      "cell_type": "markdown",
      "metadata": {
        "id": "view-in-github",
        "colab_type": "text"
      },
      "source": [
        "<a href=\"https://colab.research.google.com/github/arj1211/msci446-practice/blob/main/msci446_tut1_dataExploration_completed.ipynb\" target=\"_parent\"><img src=\"https://colab.research.google.com/assets/colab-badge.svg\" alt=\"Open In Colab\"/></a>"
      ]
    },
    {
      "cell_type": "markdown",
      "metadata": {
        "id": "jnPD6kvk3oTF"
      },
      "source": [
        "> ## Acknowledgments \n",
        "> Tutorial adapted from: \n",
        "> * [Analyzing Cars.csv File in Python – A Complete Guide](https://www.askpython.com/python/examples/analyzing-cars-dataset-in-python)\n",
        "> * [Exploring Data using Python](https://towardsdatascience.com/exploring-the-data-using-python-47c4bc7b8fa2)\n",
        ">  \n",
        "> Data taken from:\n",
        "> * [Cars Data](https://www.kaggle.com/ljanjughazyan/cars1)  \n",
        "\n",
        "\n",
        "> Note: You can get practice data sets from [Kaggle](https://www.kaggle.com), but you cannot use it for the project."
      ]
    },
    {
      "cell_type": "code",
      "source": [
        "from google.colab import drive\n",
        "drive.mount('/content/drive')"
      ],
      "metadata": {
        "colab": {
          "base_uri": "https://localhost:8080/"
        },
        "id": "XaU5tGem17PC",
        "outputId": "f1d341ba-6221-42e1-a090-69f94e74464c"
      },
      "execution_count": 44,
      "outputs": [
        {
          "output_type": "stream",
          "name": "stdout",
          "text": [
            "Drive already mounted at /content/drive; to attempt to forcibly remount, call drive.mount(\"/content/drive\", force_remount=True).\n"
          ]
        }
      ]
    },
    {
      "cell_type": "markdown",
      "metadata": {
        "id": "lnjhSlcSzj6Y"
      },
      "source": [
        "# Packages\n",
        "In Python, we don't have libraries, we rather have packages.  \n",
        "\n",
        "To help us with data exploration (and really all of data science), we will use the following packages:\n",
        "* NumPy: efficient numeric manipulation\n",
        "* Pandas: load and manipulate data frames\n",
        "* Seaborn: data visualization (highly compatible with Pandas)\n",
        "* MatPlotLib: basic data visualization (Seaborn is built on top of matplotlib)  \n",
        "\n",
        "To load a package, you use the keyword `import`.\n",
        "\n",
        "```Python\n",
        "import pandas\n",
        "```\n",
        "I can also choose to rename the package when I import it so it is easier to use it in my code\n",
        "\n",
        "```Python\n",
        "import pandas as pd\n",
        "```\n",
        "I can choose to import a specific item (class, function, etc.) from a package\n",
        "\n",
        "```Python\n",
        "from pandas import DataFrame \n",
        "```"
      ]
    },
    {
      "cell_type": "code",
      "execution_count": 45,
      "metadata": {
        "id": "HkXUDrL9Svlt"
      },
      "outputs": [],
      "source": [
        "# import the libraries we will use\n",
        "import pandas as pd \n",
        "import numpy as np\n",
        "import seaborn as sns \n",
        "import matplotlib.pyplot as plt\n",
        "\n",
        "# use color codes in the plots geenrated by seaborn\n",
        "sns.set(color_codes=True)"
      ]
    },
    {
      "cell_type": "markdown",
      "metadata": {
        "id": "KbJQs-Eeg_5f"
      },
      "source": [
        "# 1. Loading our dataset"
      ]
    },
    {
      "cell_type": "code",
      "source": [
        "import os\n",
        "import io\n",
        "\n",
        "fname = 'CARS.csv'\n",
        "data_path = 'drive/MyDrive/Colab Notebooks/msci446-tutorial-data'\n",
        "\n",
        "if fname not in os.listdir(data_path):\n",
        "    # upload sample automobile data for exploration\n",
        "    from google.colab import files \n",
        "    uploaded_files = files.upload() # upload file\n",
        "    uploaded_files[fname]\n",
        "    data = io.BytesIO(uploaded_files[fname]) # read file\n",
        "    with open(os.path.join(data_path, fname), \"wb\") as f:\n",
        "        f.write(data.getbuffer())"
      ],
      "metadata": {
        "id": "UHiiUwSYGI5E"
      },
      "execution_count": 46,
      "outputs": []
    },
    {
      "cell_type": "code",
      "execution_count": 47,
      "metadata": {
        "id": "Q8aH0sWj9F3k",
        "outputId": "4eb60472-0931-41ac-916c-3190b0a9c125",
        "colab": {
          "base_uri": "https://localhost:8080/",
          "height": 206
        }
      },
      "outputs": [
        {
          "output_type": "execute_result",
          "data": {
            "text/plain": [
              "    Make           Model   Type Origin DriveTrain      MSRP   Invoice  \\\n",
              "0  Acura             MDX    SUV   Asia        All  $36,945   $33,337    \n",
              "1  Acura  RSX Type S 2dr  Sedan   Asia      Front  $23,820   $21,761    \n",
              "2  Acura         TSX 4dr  Sedan   Asia      Front  $26,990   $24,647    \n",
              "3  Acura          TL 4dr  Sedan   Asia      Front  $33,195   $30,299    \n",
              "4  Acura      3.5 RL 4dr  Sedan   Asia      Front  $43,755   $39,014    \n",
              "\n",
              "   EngineSize  Cylinders  Horsepower  MPG_City  MPG_Highway  Weight  \\\n",
              "0         3.5        6.0         265        17           23  4451.0   \n",
              "1         2.0        4.0         200        24           31  2778.0   \n",
              "2         2.4        4.0         200        22           29  3230.0   \n",
              "3         3.2        6.0         270        20           28  3575.0   \n",
              "4         3.5        6.0         225        18           24  3880.0   \n",
              "\n",
              "   Wheelbase  Length  \n",
              "0        106     189  \n",
              "1        101     172  \n",
              "2        105     183  \n",
              "3        108     186  \n",
              "4        115     197  "
            ],
            "text/html": [
              "\n",
              "  <div id=\"df-3233c33d-d9a2-4812-ba5b-9f3ef573ea96\">\n",
              "    <div class=\"colab-df-container\">\n",
              "      <div>\n",
              "<style scoped>\n",
              "    .dataframe tbody tr th:only-of-type {\n",
              "        vertical-align: middle;\n",
              "    }\n",
              "\n",
              "    .dataframe tbody tr th {\n",
              "        vertical-align: top;\n",
              "    }\n",
              "\n",
              "    .dataframe thead th {\n",
              "        text-align: right;\n",
              "    }\n",
              "</style>\n",
              "<table border=\"1\" class=\"dataframe\">\n",
              "  <thead>\n",
              "    <tr style=\"text-align: right;\">\n",
              "      <th></th>\n",
              "      <th>Make</th>\n",
              "      <th>Model</th>\n",
              "      <th>Type</th>\n",
              "      <th>Origin</th>\n",
              "      <th>DriveTrain</th>\n",
              "      <th>MSRP</th>\n",
              "      <th>Invoice</th>\n",
              "      <th>EngineSize</th>\n",
              "      <th>Cylinders</th>\n",
              "      <th>Horsepower</th>\n",
              "      <th>MPG_City</th>\n",
              "      <th>MPG_Highway</th>\n",
              "      <th>Weight</th>\n",
              "      <th>Wheelbase</th>\n",
              "      <th>Length</th>\n",
              "    </tr>\n",
              "  </thead>\n",
              "  <tbody>\n",
              "    <tr>\n",
              "      <th>0</th>\n",
              "      <td>Acura</td>\n",
              "      <td>MDX</td>\n",
              "      <td>SUV</td>\n",
              "      <td>Asia</td>\n",
              "      <td>All</td>\n",
              "      <td>$36,945</td>\n",
              "      <td>$33,337</td>\n",
              "      <td>3.5</td>\n",
              "      <td>6.0</td>\n",
              "      <td>265</td>\n",
              "      <td>17</td>\n",
              "      <td>23</td>\n",
              "      <td>4451.0</td>\n",
              "      <td>106</td>\n",
              "      <td>189</td>\n",
              "    </tr>\n",
              "    <tr>\n",
              "      <th>1</th>\n",
              "      <td>Acura</td>\n",
              "      <td>RSX Type S 2dr</td>\n",
              "      <td>Sedan</td>\n",
              "      <td>Asia</td>\n",
              "      <td>Front</td>\n",
              "      <td>$23,820</td>\n",
              "      <td>$21,761</td>\n",
              "      <td>2.0</td>\n",
              "      <td>4.0</td>\n",
              "      <td>200</td>\n",
              "      <td>24</td>\n",
              "      <td>31</td>\n",
              "      <td>2778.0</td>\n",
              "      <td>101</td>\n",
              "      <td>172</td>\n",
              "    </tr>\n",
              "    <tr>\n",
              "      <th>2</th>\n",
              "      <td>Acura</td>\n",
              "      <td>TSX 4dr</td>\n",
              "      <td>Sedan</td>\n",
              "      <td>Asia</td>\n",
              "      <td>Front</td>\n",
              "      <td>$26,990</td>\n",
              "      <td>$24,647</td>\n",
              "      <td>2.4</td>\n",
              "      <td>4.0</td>\n",
              "      <td>200</td>\n",
              "      <td>22</td>\n",
              "      <td>29</td>\n",
              "      <td>3230.0</td>\n",
              "      <td>105</td>\n",
              "      <td>183</td>\n",
              "    </tr>\n",
              "    <tr>\n",
              "      <th>3</th>\n",
              "      <td>Acura</td>\n",
              "      <td>TL 4dr</td>\n",
              "      <td>Sedan</td>\n",
              "      <td>Asia</td>\n",
              "      <td>Front</td>\n",
              "      <td>$33,195</td>\n",
              "      <td>$30,299</td>\n",
              "      <td>3.2</td>\n",
              "      <td>6.0</td>\n",
              "      <td>270</td>\n",
              "      <td>20</td>\n",
              "      <td>28</td>\n",
              "      <td>3575.0</td>\n",
              "      <td>108</td>\n",
              "      <td>186</td>\n",
              "    </tr>\n",
              "    <tr>\n",
              "      <th>4</th>\n",
              "      <td>Acura</td>\n",
              "      <td>3.5 RL 4dr</td>\n",
              "      <td>Sedan</td>\n",
              "      <td>Asia</td>\n",
              "      <td>Front</td>\n",
              "      <td>$43,755</td>\n",
              "      <td>$39,014</td>\n",
              "      <td>3.5</td>\n",
              "      <td>6.0</td>\n",
              "      <td>225</td>\n",
              "      <td>18</td>\n",
              "      <td>24</td>\n",
              "      <td>3880.0</td>\n",
              "      <td>115</td>\n",
              "      <td>197</td>\n",
              "    </tr>\n",
              "  </tbody>\n",
              "</table>\n",
              "</div>\n",
              "      <button class=\"colab-df-convert\" onclick=\"convertToInteractive('df-3233c33d-d9a2-4812-ba5b-9f3ef573ea96')\"\n",
              "              title=\"Convert this dataframe to an interactive table.\"\n",
              "              style=\"display:none;\">\n",
              "        \n",
              "  <svg xmlns=\"http://www.w3.org/2000/svg\" height=\"24px\"viewBox=\"0 0 24 24\"\n",
              "       width=\"24px\">\n",
              "    <path d=\"M0 0h24v24H0V0z\" fill=\"none\"/>\n",
              "    <path d=\"M18.56 5.44l.94 2.06.94-2.06 2.06-.94-2.06-.94-.94-2.06-.94 2.06-2.06.94zm-11 1L8.5 8.5l.94-2.06 2.06-.94-2.06-.94L8.5 2.5l-.94 2.06-2.06.94zm10 10l.94 2.06.94-2.06 2.06-.94-2.06-.94-.94-2.06-.94 2.06-2.06.94z\"/><path d=\"M17.41 7.96l-1.37-1.37c-.4-.4-.92-.59-1.43-.59-.52 0-1.04.2-1.43.59L10.3 9.45l-7.72 7.72c-.78.78-.78 2.05 0 2.83L4 21.41c.39.39.9.59 1.41.59.51 0 1.02-.2 1.41-.59l7.78-7.78 2.81-2.81c.8-.78.8-2.07 0-2.86zM5.41 20L4 18.59l7.72-7.72 1.47 1.35L5.41 20z\"/>\n",
              "  </svg>\n",
              "      </button>\n",
              "      \n",
              "  <style>\n",
              "    .colab-df-container {\n",
              "      display:flex;\n",
              "      flex-wrap:wrap;\n",
              "      gap: 12px;\n",
              "    }\n",
              "\n",
              "    .colab-df-convert {\n",
              "      background-color: #E8F0FE;\n",
              "      border: none;\n",
              "      border-radius: 50%;\n",
              "      cursor: pointer;\n",
              "      display: none;\n",
              "      fill: #1967D2;\n",
              "      height: 32px;\n",
              "      padding: 0 0 0 0;\n",
              "      width: 32px;\n",
              "    }\n",
              "\n",
              "    .colab-df-convert:hover {\n",
              "      background-color: #E2EBFA;\n",
              "      box-shadow: 0px 1px 2px rgba(60, 64, 67, 0.3), 0px 1px 3px 1px rgba(60, 64, 67, 0.15);\n",
              "      fill: #174EA6;\n",
              "    }\n",
              "\n",
              "    [theme=dark] .colab-df-convert {\n",
              "      background-color: #3B4455;\n",
              "      fill: #D2E3FC;\n",
              "    }\n",
              "\n",
              "    [theme=dark] .colab-df-convert:hover {\n",
              "      background-color: #434B5C;\n",
              "      box-shadow: 0px 1px 3px 1px rgba(0, 0, 0, 0.15);\n",
              "      filter: drop-shadow(0px 1px 2px rgba(0, 0, 0, 0.3));\n",
              "      fill: #FFFFFF;\n",
              "    }\n",
              "  </style>\n",
              "\n",
              "      <script>\n",
              "        const buttonEl =\n",
              "          document.querySelector('#df-3233c33d-d9a2-4812-ba5b-9f3ef573ea96 button.colab-df-convert');\n",
              "        buttonEl.style.display =\n",
              "          google.colab.kernel.accessAllowed ? 'block' : 'none';\n",
              "\n",
              "        async function convertToInteractive(key) {\n",
              "          const element = document.querySelector('#df-3233c33d-d9a2-4812-ba5b-9f3ef573ea96');\n",
              "          const dataTable =\n",
              "            await google.colab.kernel.invokeFunction('convertToInteractive',\n",
              "                                                     [key], {});\n",
              "          if (!dataTable) return;\n",
              "\n",
              "          const docLinkHtml = 'Like what you see? Visit the ' +\n",
              "            '<a target=\"_blank\" href=https://colab.research.google.com/notebooks/data_table.ipynb>data table notebook</a>'\n",
              "            + ' to learn more about interactive tables.';\n",
              "          element.innerHTML = '';\n",
              "          dataTable['output_type'] = 'display_data';\n",
              "          await google.colab.output.renderOutput(dataTable, element);\n",
              "          const docLink = document.createElement('div');\n",
              "          docLink.innerHTML = docLinkHtml;\n",
              "          element.appendChild(docLink);\n",
              "        }\n",
              "      </script>\n",
              "    </div>\n",
              "  </div>\n",
              "  "
            ]
          },
          "metadata": {},
          "execution_count": 47
        }
      ],
      "source": [
        "# load as a data frame\n",
        "\n",
        "# if doing locally, simply pass the name of the file\n",
        "\n",
        "# view the first 5 rows to get an initial idea of the columns\n",
        "df = pd.read_csv(os.path.join(data_path, fname))\n",
        "df.head()"
      ]
    },
    {
      "cell_type": "code",
      "execution_count": 48,
      "metadata": {
        "id": "X84dWor9_a7c",
        "outputId": "e73de2b9-c422-42a0-b812-47ab2efffd8a",
        "colab": {
          "base_uri": "https://localhost:8080/"
        }
      },
      "outputs": [
        {
          "output_type": "execute_result",
          "data": {
            "text/plain": [
              "(428, 15)"
            ]
          },
          "metadata": {},
          "execution_count": 48
        }
      ],
      "source": [
        "# Getting the number of instances and features\n",
        "df.shape"
      ]
    },
    {
      "cell_type": "code",
      "execution_count": 49,
      "metadata": {
        "id": "e1G93YGt_gzk",
        "outputId": "2eb75f1f-a23f-4098-8405-76a0e64867e4",
        "colab": {
          "base_uri": "https://localhost:8080/"
        }
      },
      "outputs": [
        {
          "output_type": "execute_result",
          "data": {
            "text/plain": [
              "2"
            ]
          },
          "metadata": {},
          "execution_count": 49
        }
      ],
      "source": [
        "# Getting the dimensions of the data frame\n",
        "df.ndim"
      ]
    },
    {
      "cell_type": "markdown",
      "metadata": {
        "id": "MC3Wyaq2hgAH"
      },
      "source": [
        "# Data Types I\n",
        "\n",
        "Our utlimate goal (which we will not get to in this tutorial) is to predict the price of car given its other attributes.  \n",
        "\n",
        "This is a supervised learning problem. And in the context of our data set, it means that:\n",
        "* **Outcome**: MSRP (manufacturer's suggested retail price)\n",
        "* **Predictor**: all other features/columns/variables"
      ]
    },
    {
      "cell_type": "code",
      "execution_count": 50,
      "metadata": {
        "id": "PrwkoJh3fNW_",
        "outputId": "8be33d6e-d049-44fe-ac2d-9077d59ae813",
        "colab": {
          "base_uri": "https://localhost:8080/"
        }
      },
      "outputs": [
        {
          "output_type": "stream",
          "name": "stdout",
          "text": [
            "<class 'pandas.core.frame.DataFrame'>\n",
            "RangeIndex: 428 entries, 0 to 427\n",
            "Data columns (total 15 columns):\n",
            " #   Column       Non-Null Count  Dtype  \n",
            "---  ------       --------------  -----  \n",
            " 0   Make         428 non-null    object \n",
            " 1   Model        428 non-null    object \n",
            " 2   Type         428 non-null    object \n",
            " 3   Origin       428 non-null    object \n",
            " 4   DriveTrain   428 non-null    object \n",
            " 5   MSRP         428 non-null    object \n",
            " 6   Invoice      428 non-null    object \n",
            " 7   EngineSize   428 non-null    float64\n",
            " 8   Cylinders    425 non-null    float64\n",
            " 9   Horsepower   428 non-null    int64  \n",
            " 10  MPG_City     428 non-null    int64  \n",
            " 11  MPG_Highway  428 non-null    int64  \n",
            " 12  Weight       427 non-null    float64\n",
            " 13  Wheelbase    428 non-null    int64  \n",
            " 14  Length       428 non-null    int64  \n",
            "dtypes: float64(3), int64(5), object(7)\n",
            "memory usage: 50.3+ KB\n"
          ]
        }
      ],
      "source": [
        "# get a quick feel for your data set (# rows and columns, null-values, data types)\n",
        "# note: pandas views strings as objects. \n",
        "df.info()"
      ]
    },
    {
      "cell_type": "code",
      "execution_count": 51,
      "metadata": {
        "id": "9YK6UxWR9mgc",
        "outputId": "ffbc6a82-4c55-40f2-eb20-20c9c3239b85",
        "colab": {
          "base_uri": "https://localhost:8080/",
          "height": 300
        }
      },
      "outputs": [
        {
          "output_type": "execute_result",
          "data": {
            "text/plain": [
              "       EngineSize   Cylinders  Horsepower    MPG_City  MPG_Highway  \\\n",
              "count  428.000000  425.000000  428.000000  428.000000   428.000000   \n",
              "mean     3.196729    5.807059  215.885514   20.060748    26.843458   \n",
              "std      1.108595    1.560251   71.836032    5.238218     5.741201   \n",
              "min      1.300000    3.000000   73.000000   10.000000    12.000000   \n",
              "25%      2.375000    4.000000  165.000000   17.000000    24.000000   \n",
              "50%      3.000000    6.000000  210.000000   19.000000    26.000000   \n",
              "75%      3.900000    6.000000  255.000000   21.250000    29.000000   \n",
              "max      8.300000   12.000000  500.000000   60.000000    66.000000   \n",
              "\n",
              "            Weight   Wheelbase      Length  \n",
              "count   427.000000  428.000000  428.000000  \n",
              "mean   3578.166276  108.154206  186.362150  \n",
              "std     759.860710    8.311813   14.357991  \n",
              "min    1850.000000   89.000000  143.000000  \n",
              "25%    3103.000000  103.000000  178.000000  \n",
              "50%    3473.000000  107.000000  187.000000  \n",
              "75%    3978.500000  112.000000  194.000000  \n",
              "max    7190.000000  144.000000  238.000000  "
            ],
            "text/html": [
              "\n",
              "  <div id=\"df-2e6359dd-f8a5-44c0-820f-f2d485fec714\">\n",
              "    <div class=\"colab-df-container\">\n",
              "      <div>\n",
              "<style scoped>\n",
              "    .dataframe tbody tr th:only-of-type {\n",
              "        vertical-align: middle;\n",
              "    }\n",
              "\n",
              "    .dataframe tbody tr th {\n",
              "        vertical-align: top;\n",
              "    }\n",
              "\n",
              "    .dataframe thead th {\n",
              "        text-align: right;\n",
              "    }\n",
              "</style>\n",
              "<table border=\"1\" class=\"dataframe\">\n",
              "  <thead>\n",
              "    <tr style=\"text-align: right;\">\n",
              "      <th></th>\n",
              "      <th>EngineSize</th>\n",
              "      <th>Cylinders</th>\n",
              "      <th>Horsepower</th>\n",
              "      <th>MPG_City</th>\n",
              "      <th>MPG_Highway</th>\n",
              "      <th>Weight</th>\n",
              "      <th>Wheelbase</th>\n",
              "      <th>Length</th>\n",
              "    </tr>\n",
              "  </thead>\n",
              "  <tbody>\n",
              "    <tr>\n",
              "      <th>count</th>\n",
              "      <td>428.000000</td>\n",
              "      <td>425.000000</td>\n",
              "      <td>428.000000</td>\n",
              "      <td>428.000000</td>\n",
              "      <td>428.000000</td>\n",
              "      <td>427.000000</td>\n",
              "      <td>428.000000</td>\n",
              "      <td>428.000000</td>\n",
              "    </tr>\n",
              "    <tr>\n",
              "      <th>mean</th>\n",
              "      <td>3.196729</td>\n",
              "      <td>5.807059</td>\n",
              "      <td>215.885514</td>\n",
              "      <td>20.060748</td>\n",
              "      <td>26.843458</td>\n",
              "      <td>3578.166276</td>\n",
              "      <td>108.154206</td>\n",
              "      <td>186.362150</td>\n",
              "    </tr>\n",
              "    <tr>\n",
              "      <th>std</th>\n",
              "      <td>1.108595</td>\n",
              "      <td>1.560251</td>\n",
              "      <td>71.836032</td>\n",
              "      <td>5.238218</td>\n",
              "      <td>5.741201</td>\n",
              "      <td>759.860710</td>\n",
              "      <td>8.311813</td>\n",
              "      <td>14.357991</td>\n",
              "    </tr>\n",
              "    <tr>\n",
              "      <th>min</th>\n",
              "      <td>1.300000</td>\n",
              "      <td>3.000000</td>\n",
              "      <td>73.000000</td>\n",
              "      <td>10.000000</td>\n",
              "      <td>12.000000</td>\n",
              "      <td>1850.000000</td>\n",
              "      <td>89.000000</td>\n",
              "      <td>143.000000</td>\n",
              "    </tr>\n",
              "    <tr>\n",
              "      <th>25%</th>\n",
              "      <td>2.375000</td>\n",
              "      <td>4.000000</td>\n",
              "      <td>165.000000</td>\n",
              "      <td>17.000000</td>\n",
              "      <td>24.000000</td>\n",
              "      <td>3103.000000</td>\n",
              "      <td>103.000000</td>\n",
              "      <td>178.000000</td>\n",
              "    </tr>\n",
              "    <tr>\n",
              "      <th>50%</th>\n",
              "      <td>3.000000</td>\n",
              "      <td>6.000000</td>\n",
              "      <td>210.000000</td>\n",
              "      <td>19.000000</td>\n",
              "      <td>26.000000</td>\n",
              "      <td>3473.000000</td>\n",
              "      <td>107.000000</td>\n",
              "      <td>187.000000</td>\n",
              "    </tr>\n",
              "    <tr>\n",
              "      <th>75%</th>\n",
              "      <td>3.900000</td>\n",
              "      <td>6.000000</td>\n",
              "      <td>255.000000</td>\n",
              "      <td>21.250000</td>\n",
              "      <td>29.000000</td>\n",
              "      <td>3978.500000</td>\n",
              "      <td>112.000000</td>\n",
              "      <td>194.000000</td>\n",
              "    </tr>\n",
              "    <tr>\n",
              "      <th>max</th>\n",
              "      <td>8.300000</td>\n",
              "      <td>12.000000</td>\n",
              "      <td>500.000000</td>\n",
              "      <td>60.000000</td>\n",
              "      <td>66.000000</td>\n",
              "      <td>7190.000000</td>\n",
              "      <td>144.000000</td>\n",
              "      <td>238.000000</td>\n",
              "    </tr>\n",
              "  </tbody>\n",
              "</table>\n",
              "</div>\n",
              "      <button class=\"colab-df-convert\" onclick=\"convertToInteractive('df-2e6359dd-f8a5-44c0-820f-f2d485fec714')\"\n",
              "              title=\"Convert this dataframe to an interactive table.\"\n",
              "              style=\"display:none;\">\n",
              "        \n",
              "  <svg xmlns=\"http://www.w3.org/2000/svg\" height=\"24px\"viewBox=\"0 0 24 24\"\n",
              "       width=\"24px\">\n",
              "    <path d=\"M0 0h24v24H0V0z\" fill=\"none\"/>\n",
              "    <path d=\"M18.56 5.44l.94 2.06.94-2.06 2.06-.94-2.06-.94-.94-2.06-.94 2.06-2.06.94zm-11 1L8.5 8.5l.94-2.06 2.06-.94-2.06-.94L8.5 2.5l-.94 2.06-2.06.94zm10 10l.94 2.06.94-2.06 2.06-.94-2.06-.94-.94-2.06-.94 2.06-2.06.94z\"/><path d=\"M17.41 7.96l-1.37-1.37c-.4-.4-.92-.59-1.43-.59-.52 0-1.04.2-1.43.59L10.3 9.45l-7.72 7.72c-.78.78-.78 2.05 0 2.83L4 21.41c.39.39.9.59 1.41.59.51 0 1.02-.2 1.41-.59l7.78-7.78 2.81-2.81c.8-.78.8-2.07 0-2.86zM5.41 20L4 18.59l7.72-7.72 1.47 1.35L5.41 20z\"/>\n",
              "  </svg>\n",
              "      </button>\n",
              "      \n",
              "  <style>\n",
              "    .colab-df-container {\n",
              "      display:flex;\n",
              "      flex-wrap:wrap;\n",
              "      gap: 12px;\n",
              "    }\n",
              "\n",
              "    .colab-df-convert {\n",
              "      background-color: #E8F0FE;\n",
              "      border: none;\n",
              "      border-radius: 50%;\n",
              "      cursor: pointer;\n",
              "      display: none;\n",
              "      fill: #1967D2;\n",
              "      height: 32px;\n",
              "      padding: 0 0 0 0;\n",
              "      width: 32px;\n",
              "    }\n",
              "\n",
              "    .colab-df-convert:hover {\n",
              "      background-color: #E2EBFA;\n",
              "      box-shadow: 0px 1px 2px rgba(60, 64, 67, 0.3), 0px 1px 3px 1px rgba(60, 64, 67, 0.15);\n",
              "      fill: #174EA6;\n",
              "    }\n",
              "\n",
              "    [theme=dark] .colab-df-convert {\n",
              "      background-color: #3B4455;\n",
              "      fill: #D2E3FC;\n",
              "    }\n",
              "\n",
              "    [theme=dark] .colab-df-convert:hover {\n",
              "      background-color: #434B5C;\n",
              "      box-shadow: 0px 1px 3px 1px rgba(0, 0, 0, 0.15);\n",
              "      filter: drop-shadow(0px 1px 2px rgba(0, 0, 0, 0.3));\n",
              "      fill: #FFFFFF;\n",
              "    }\n",
              "  </style>\n",
              "\n",
              "      <script>\n",
              "        const buttonEl =\n",
              "          document.querySelector('#df-2e6359dd-f8a5-44c0-820f-f2d485fec714 button.colab-df-convert');\n",
              "        buttonEl.style.display =\n",
              "          google.colab.kernel.accessAllowed ? 'block' : 'none';\n",
              "\n",
              "        async function convertToInteractive(key) {\n",
              "          const element = document.querySelector('#df-2e6359dd-f8a5-44c0-820f-f2d485fec714');\n",
              "          const dataTable =\n",
              "            await google.colab.kernel.invokeFunction('convertToInteractive',\n",
              "                                                     [key], {});\n",
              "          if (!dataTable) return;\n",
              "\n",
              "          const docLinkHtml = 'Like what you see? Visit the ' +\n",
              "            '<a target=\"_blank\" href=https://colab.research.google.com/notebooks/data_table.ipynb>data table notebook</a>'\n",
              "            + ' to learn more about interactive tables.';\n",
              "          element.innerHTML = '';\n",
              "          dataTable['output_type'] = 'display_data';\n",
              "          await google.colab.output.renderOutput(dataTable, element);\n",
              "          const docLink = document.createElement('div');\n",
              "          docLink.innerHTML = docLinkHtml;\n",
              "          element.appendChild(docLink);\n",
              "        }\n",
              "      </script>\n",
              "    </div>\n",
              "  </div>\n",
              "  "
            ]
          },
          "metadata": {},
          "execution_count": 51
        }
      ],
      "source": [
        "# view summary/stats of each numeric variable/column\n",
        "df.describe()"
      ]
    },
    {
      "cell_type": "markdown",
      "metadata": {
        "id": "WRAVT7aOi3Ot"
      },
      "source": [
        "# Data Types II\n",
        "\n",
        "## Numeric\n",
        "* MSRP (but the `$` is causing a problem)\n",
        "* Invoice (but the `$` is causing a problem)\n",
        "* Engine Size\n",
        "* Cylinders\n",
        "* Horsepower\n",
        "* etc.\n",
        "\n",
        "## Categorical\n",
        "* Make\n",
        "* Model\n",
        "* Type\n",
        "* Origin\n",
        "* Drive Train\n",
        "\n",
        "## Boolean\n",
        "* Let's make our own "
      ]
    },
    {
      "cell_type": "code",
      "execution_count": 52,
      "metadata": {
        "id": "zXv0NZZ4kecM",
        "outputId": "9297ba42-fcc6-4a3f-faf9-98ceb6edd038",
        "colab": {
          "base_uri": "https://localhost:8080/",
          "height": 206
        }
      },
      "outputs": [
        {
          "output_type": "execute_result",
          "data": {
            "text/plain": [
              "    Make           Model   Type Origin DriveTrain      MSRP   Invoice  \\\n",
              "0  Acura             MDX    SUV   Asia        All  $36,945   $33,337    \n",
              "1  Acura  RSX Type S 2dr  Sedan   Asia      Front  $23,820   $21,761    \n",
              "2  Acura         TSX 4dr  Sedan   Asia      Front  $26,990   $24,647    \n",
              "3  Acura          TL 4dr  Sedan   Asia      Front  $33,195   $30,299    \n",
              "4  Acura      3.5 RL 4dr  Sedan   Asia      Front  $43,755   $39,014    \n",
              "\n",
              "   EngineSize  Cylinders  Horsepower  MPG_City  MPG_Highway  Weight  \\\n",
              "0         3.5        6.0         265        17           23  4451.0   \n",
              "1         2.0        4.0         200        24           31  2778.0   \n",
              "2         2.4        4.0         200        22           29  3230.0   \n",
              "3         3.2        6.0         270        20           28  3575.0   \n",
              "4         3.5        6.0         225        18           24  3880.0   \n",
              "\n",
              "   Wheelbase  Length powerful  \n",
              "0        106     189      yes  \n",
              "1        101     172       no  \n",
              "2        105     183       no  \n",
              "3        108     186      yes  \n",
              "4        115     197       no  "
            ],
            "text/html": [
              "\n",
              "  <div id=\"df-72fa6f86-045b-425f-86a6-9f7b455188c4\">\n",
              "    <div class=\"colab-df-container\">\n",
              "      <div>\n",
              "<style scoped>\n",
              "    .dataframe tbody tr th:only-of-type {\n",
              "        vertical-align: middle;\n",
              "    }\n",
              "\n",
              "    .dataframe tbody tr th {\n",
              "        vertical-align: top;\n",
              "    }\n",
              "\n",
              "    .dataframe thead th {\n",
              "        text-align: right;\n",
              "    }\n",
              "</style>\n",
              "<table border=\"1\" class=\"dataframe\">\n",
              "  <thead>\n",
              "    <tr style=\"text-align: right;\">\n",
              "      <th></th>\n",
              "      <th>Make</th>\n",
              "      <th>Model</th>\n",
              "      <th>Type</th>\n",
              "      <th>Origin</th>\n",
              "      <th>DriveTrain</th>\n",
              "      <th>MSRP</th>\n",
              "      <th>Invoice</th>\n",
              "      <th>EngineSize</th>\n",
              "      <th>Cylinders</th>\n",
              "      <th>Horsepower</th>\n",
              "      <th>MPG_City</th>\n",
              "      <th>MPG_Highway</th>\n",
              "      <th>Weight</th>\n",
              "      <th>Wheelbase</th>\n",
              "      <th>Length</th>\n",
              "      <th>powerful</th>\n",
              "    </tr>\n",
              "  </thead>\n",
              "  <tbody>\n",
              "    <tr>\n",
              "      <th>0</th>\n",
              "      <td>Acura</td>\n",
              "      <td>MDX</td>\n",
              "      <td>SUV</td>\n",
              "      <td>Asia</td>\n",
              "      <td>All</td>\n",
              "      <td>$36,945</td>\n",
              "      <td>$33,337</td>\n",
              "      <td>3.5</td>\n",
              "      <td>6.0</td>\n",
              "      <td>265</td>\n",
              "      <td>17</td>\n",
              "      <td>23</td>\n",
              "      <td>4451.0</td>\n",
              "      <td>106</td>\n",
              "      <td>189</td>\n",
              "      <td>yes</td>\n",
              "    </tr>\n",
              "    <tr>\n",
              "      <th>1</th>\n",
              "      <td>Acura</td>\n",
              "      <td>RSX Type S 2dr</td>\n",
              "      <td>Sedan</td>\n",
              "      <td>Asia</td>\n",
              "      <td>Front</td>\n",
              "      <td>$23,820</td>\n",
              "      <td>$21,761</td>\n",
              "      <td>2.0</td>\n",
              "      <td>4.0</td>\n",
              "      <td>200</td>\n",
              "      <td>24</td>\n",
              "      <td>31</td>\n",
              "      <td>2778.0</td>\n",
              "      <td>101</td>\n",
              "      <td>172</td>\n",
              "      <td>no</td>\n",
              "    </tr>\n",
              "    <tr>\n",
              "      <th>2</th>\n",
              "      <td>Acura</td>\n",
              "      <td>TSX 4dr</td>\n",
              "      <td>Sedan</td>\n",
              "      <td>Asia</td>\n",
              "      <td>Front</td>\n",
              "      <td>$26,990</td>\n",
              "      <td>$24,647</td>\n",
              "      <td>2.4</td>\n",
              "      <td>4.0</td>\n",
              "      <td>200</td>\n",
              "      <td>22</td>\n",
              "      <td>29</td>\n",
              "      <td>3230.0</td>\n",
              "      <td>105</td>\n",
              "      <td>183</td>\n",
              "      <td>no</td>\n",
              "    </tr>\n",
              "    <tr>\n",
              "      <th>3</th>\n",
              "      <td>Acura</td>\n",
              "      <td>TL 4dr</td>\n",
              "      <td>Sedan</td>\n",
              "      <td>Asia</td>\n",
              "      <td>Front</td>\n",
              "      <td>$33,195</td>\n",
              "      <td>$30,299</td>\n",
              "      <td>3.2</td>\n",
              "      <td>6.0</td>\n",
              "      <td>270</td>\n",
              "      <td>20</td>\n",
              "      <td>28</td>\n",
              "      <td>3575.0</td>\n",
              "      <td>108</td>\n",
              "      <td>186</td>\n",
              "      <td>yes</td>\n",
              "    </tr>\n",
              "    <tr>\n",
              "      <th>4</th>\n",
              "      <td>Acura</td>\n",
              "      <td>3.5 RL 4dr</td>\n",
              "      <td>Sedan</td>\n",
              "      <td>Asia</td>\n",
              "      <td>Front</td>\n",
              "      <td>$43,755</td>\n",
              "      <td>$39,014</td>\n",
              "      <td>3.5</td>\n",
              "      <td>6.0</td>\n",
              "      <td>225</td>\n",
              "      <td>18</td>\n",
              "      <td>24</td>\n",
              "      <td>3880.0</td>\n",
              "      <td>115</td>\n",
              "      <td>197</td>\n",
              "      <td>no</td>\n",
              "    </tr>\n",
              "  </tbody>\n",
              "</table>\n",
              "</div>\n",
              "      <button class=\"colab-df-convert\" onclick=\"convertToInteractive('df-72fa6f86-045b-425f-86a6-9f7b455188c4')\"\n",
              "              title=\"Convert this dataframe to an interactive table.\"\n",
              "              style=\"display:none;\">\n",
              "        \n",
              "  <svg xmlns=\"http://www.w3.org/2000/svg\" height=\"24px\"viewBox=\"0 0 24 24\"\n",
              "       width=\"24px\">\n",
              "    <path d=\"M0 0h24v24H0V0z\" fill=\"none\"/>\n",
              "    <path d=\"M18.56 5.44l.94 2.06.94-2.06 2.06-.94-2.06-.94-.94-2.06-.94 2.06-2.06.94zm-11 1L8.5 8.5l.94-2.06 2.06-.94-2.06-.94L8.5 2.5l-.94 2.06-2.06.94zm10 10l.94 2.06.94-2.06 2.06-.94-2.06-.94-.94-2.06-.94 2.06-2.06.94z\"/><path d=\"M17.41 7.96l-1.37-1.37c-.4-.4-.92-.59-1.43-.59-.52 0-1.04.2-1.43.59L10.3 9.45l-7.72 7.72c-.78.78-.78 2.05 0 2.83L4 21.41c.39.39.9.59 1.41.59.51 0 1.02-.2 1.41-.59l7.78-7.78 2.81-2.81c.8-.78.8-2.07 0-2.86zM5.41 20L4 18.59l7.72-7.72 1.47 1.35L5.41 20z\"/>\n",
              "  </svg>\n",
              "      </button>\n",
              "      \n",
              "  <style>\n",
              "    .colab-df-container {\n",
              "      display:flex;\n",
              "      flex-wrap:wrap;\n",
              "      gap: 12px;\n",
              "    }\n",
              "\n",
              "    .colab-df-convert {\n",
              "      background-color: #E8F0FE;\n",
              "      border: none;\n",
              "      border-radius: 50%;\n",
              "      cursor: pointer;\n",
              "      display: none;\n",
              "      fill: #1967D2;\n",
              "      height: 32px;\n",
              "      padding: 0 0 0 0;\n",
              "      width: 32px;\n",
              "    }\n",
              "\n",
              "    .colab-df-convert:hover {\n",
              "      background-color: #E2EBFA;\n",
              "      box-shadow: 0px 1px 2px rgba(60, 64, 67, 0.3), 0px 1px 3px 1px rgba(60, 64, 67, 0.15);\n",
              "      fill: #174EA6;\n",
              "    }\n",
              "\n",
              "    [theme=dark] .colab-df-convert {\n",
              "      background-color: #3B4455;\n",
              "      fill: #D2E3FC;\n",
              "    }\n",
              "\n",
              "    [theme=dark] .colab-df-convert:hover {\n",
              "      background-color: #434B5C;\n",
              "      box-shadow: 0px 1px 3px 1px rgba(0, 0, 0, 0.15);\n",
              "      filter: drop-shadow(0px 1px 2px rgba(0, 0, 0, 0.3));\n",
              "      fill: #FFFFFF;\n",
              "    }\n",
              "  </style>\n",
              "\n",
              "      <script>\n",
              "        const buttonEl =\n",
              "          document.querySelector('#df-72fa6f86-045b-425f-86a6-9f7b455188c4 button.colab-df-convert');\n",
              "        buttonEl.style.display =\n",
              "          google.colab.kernel.accessAllowed ? 'block' : 'none';\n",
              "\n",
              "        async function convertToInteractive(key) {\n",
              "          const element = document.querySelector('#df-72fa6f86-045b-425f-86a6-9f7b455188c4');\n",
              "          const dataTable =\n",
              "            await google.colab.kernel.invokeFunction('convertToInteractive',\n",
              "                                                     [key], {});\n",
              "          if (!dataTable) return;\n",
              "\n",
              "          const docLinkHtml = 'Like what you see? Visit the ' +\n",
              "            '<a target=\"_blank\" href=https://colab.research.google.com/notebooks/data_table.ipynb>data table notebook</a>'\n",
              "            + ' to learn more about interactive tables.';\n",
              "          element.innerHTML = '';\n",
              "          dataTable['output_type'] = 'display_data';\n",
              "          await google.colab.output.renderOutput(dataTable, element);\n",
              "          const docLink = document.createElement('div');\n",
              "          docLink.innerHTML = docLinkHtml;\n",
              "          element.appendChild(docLink);\n",
              "        }\n",
              "      </script>\n",
              "    </div>\n",
              "  </div>\n",
              "  "
            ]
          },
          "metadata": {},
          "execution_count": 52
        }
      ],
      "source": [
        "# a car is powerful if its horse power is over the 75th percentile\n",
        "df['powerful'] = np.where(df['Horsepower'] > np.percentile(df['Horsepower'], 75), 'yes', 'no')\n",
        "df.head()"
      ]
    },
    {
      "cell_type": "markdown",
      "metadata": {
        "id": "B1EZeqTbhQAR"
      },
      "source": [
        "# 2. Removing irrelevant features\n",
        "In this case, those are features that either provide redundant information (e.g., `Invoice`), or won't help us with prediction (e.g. `Origin`)."
      ]
    },
    {
      "cell_type": "code",
      "execution_count": 53,
      "metadata": {
        "id": "_4x7Y-lDf73p",
        "outputId": "229231f5-b9b2-415e-d2a0-8c1ae70f0348",
        "colab": {
          "base_uri": "https://localhost:8080/",
          "height": 206
        }
      },
      "outputs": [
        {
          "output_type": "execute_result",
          "data": {
            "text/plain": [
              "    Make      MSRP  EngineSize  Cylinders  Horsepower  MPG_City  MPG_Highway  \\\n",
              "0  Acura  $36,945          3.5        6.0         265        17           23   \n",
              "1  Acura  $23,820          2.0        4.0         200        24           31   \n",
              "2  Acura  $26,990          2.4        4.0         200        22           29   \n",
              "3  Acura  $33,195          3.2        6.0         270        20           28   \n",
              "4  Acura  $43,755          3.5        6.0         225        18           24   \n",
              "\n",
              "   Weight  Wheelbase  Length powerful  \n",
              "0  4451.0        106     189      yes  \n",
              "1  2778.0        101     172       no  \n",
              "2  3230.0        105     183       no  \n",
              "3  3575.0        108     186      yes  \n",
              "4  3880.0        115     197       no  "
            ],
            "text/html": [
              "\n",
              "  <div id=\"df-9eef9ad7-ef8d-412d-9fb7-4960c18602b7\">\n",
              "    <div class=\"colab-df-container\">\n",
              "      <div>\n",
              "<style scoped>\n",
              "    .dataframe tbody tr th:only-of-type {\n",
              "        vertical-align: middle;\n",
              "    }\n",
              "\n",
              "    .dataframe tbody tr th {\n",
              "        vertical-align: top;\n",
              "    }\n",
              "\n",
              "    .dataframe thead th {\n",
              "        text-align: right;\n",
              "    }\n",
              "</style>\n",
              "<table border=\"1\" class=\"dataframe\">\n",
              "  <thead>\n",
              "    <tr style=\"text-align: right;\">\n",
              "      <th></th>\n",
              "      <th>Make</th>\n",
              "      <th>MSRP</th>\n",
              "      <th>EngineSize</th>\n",
              "      <th>Cylinders</th>\n",
              "      <th>Horsepower</th>\n",
              "      <th>MPG_City</th>\n",
              "      <th>MPG_Highway</th>\n",
              "      <th>Weight</th>\n",
              "      <th>Wheelbase</th>\n",
              "      <th>Length</th>\n",
              "      <th>powerful</th>\n",
              "    </tr>\n",
              "  </thead>\n",
              "  <tbody>\n",
              "    <tr>\n",
              "      <th>0</th>\n",
              "      <td>Acura</td>\n",
              "      <td>$36,945</td>\n",
              "      <td>3.5</td>\n",
              "      <td>6.0</td>\n",
              "      <td>265</td>\n",
              "      <td>17</td>\n",
              "      <td>23</td>\n",
              "      <td>4451.0</td>\n",
              "      <td>106</td>\n",
              "      <td>189</td>\n",
              "      <td>yes</td>\n",
              "    </tr>\n",
              "    <tr>\n",
              "      <th>1</th>\n",
              "      <td>Acura</td>\n",
              "      <td>$23,820</td>\n",
              "      <td>2.0</td>\n",
              "      <td>4.0</td>\n",
              "      <td>200</td>\n",
              "      <td>24</td>\n",
              "      <td>31</td>\n",
              "      <td>2778.0</td>\n",
              "      <td>101</td>\n",
              "      <td>172</td>\n",
              "      <td>no</td>\n",
              "    </tr>\n",
              "    <tr>\n",
              "      <th>2</th>\n",
              "      <td>Acura</td>\n",
              "      <td>$26,990</td>\n",
              "      <td>2.4</td>\n",
              "      <td>4.0</td>\n",
              "      <td>200</td>\n",
              "      <td>22</td>\n",
              "      <td>29</td>\n",
              "      <td>3230.0</td>\n",
              "      <td>105</td>\n",
              "      <td>183</td>\n",
              "      <td>no</td>\n",
              "    </tr>\n",
              "    <tr>\n",
              "      <th>3</th>\n",
              "      <td>Acura</td>\n",
              "      <td>$33,195</td>\n",
              "      <td>3.2</td>\n",
              "      <td>6.0</td>\n",
              "      <td>270</td>\n",
              "      <td>20</td>\n",
              "      <td>28</td>\n",
              "      <td>3575.0</td>\n",
              "      <td>108</td>\n",
              "      <td>186</td>\n",
              "      <td>yes</td>\n",
              "    </tr>\n",
              "    <tr>\n",
              "      <th>4</th>\n",
              "      <td>Acura</td>\n",
              "      <td>$43,755</td>\n",
              "      <td>3.5</td>\n",
              "      <td>6.0</td>\n",
              "      <td>225</td>\n",
              "      <td>18</td>\n",
              "      <td>24</td>\n",
              "      <td>3880.0</td>\n",
              "      <td>115</td>\n",
              "      <td>197</td>\n",
              "      <td>no</td>\n",
              "    </tr>\n",
              "  </tbody>\n",
              "</table>\n",
              "</div>\n",
              "      <button class=\"colab-df-convert\" onclick=\"convertToInteractive('df-9eef9ad7-ef8d-412d-9fb7-4960c18602b7')\"\n",
              "              title=\"Convert this dataframe to an interactive table.\"\n",
              "              style=\"display:none;\">\n",
              "        \n",
              "  <svg xmlns=\"http://www.w3.org/2000/svg\" height=\"24px\"viewBox=\"0 0 24 24\"\n",
              "       width=\"24px\">\n",
              "    <path d=\"M0 0h24v24H0V0z\" fill=\"none\"/>\n",
              "    <path d=\"M18.56 5.44l.94 2.06.94-2.06 2.06-.94-2.06-.94-.94-2.06-.94 2.06-2.06.94zm-11 1L8.5 8.5l.94-2.06 2.06-.94-2.06-.94L8.5 2.5l-.94 2.06-2.06.94zm10 10l.94 2.06.94-2.06 2.06-.94-2.06-.94-.94-2.06-.94 2.06-2.06.94z\"/><path d=\"M17.41 7.96l-1.37-1.37c-.4-.4-.92-.59-1.43-.59-.52 0-1.04.2-1.43.59L10.3 9.45l-7.72 7.72c-.78.78-.78 2.05 0 2.83L4 21.41c.39.39.9.59 1.41.59.51 0 1.02-.2 1.41-.59l7.78-7.78 2.81-2.81c.8-.78.8-2.07 0-2.86zM5.41 20L4 18.59l7.72-7.72 1.47 1.35L5.41 20z\"/>\n",
              "  </svg>\n",
              "      </button>\n",
              "      \n",
              "  <style>\n",
              "    .colab-df-container {\n",
              "      display:flex;\n",
              "      flex-wrap:wrap;\n",
              "      gap: 12px;\n",
              "    }\n",
              "\n",
              "    .colab-df-convert {\n",
              "      background-color: #E8F0FE;\n",
              "      border: none;\n",
              "      border-radius: 50%;\n",
              "      cursor: pointer;\n",
              "      display: none;\n",
              "      fill: #1967D2;\n",
              "      height: 32px;\n",
              "      padding: 0 0 0 0;\n",
              "      width: 32px;\n",
              "    }\n",
              "\n",
              "    .colab-df-convert:hover {\n",
              "      background-color: #E2EBFA;\n",
              "      box-shadow: 0px 1px 2px rgba(60, 64, 67, 0.3), 0px 1px 3px 1px rgba(60, 64, 67, 0.15);\n",
              "      fill: #174EA6;\n",
              "    }\n",
              "\n",
              "    [theme=dark] .colab-df-convert {\n",
              "      background-color: #3B4455;\n",
              "      fill: #D2E3FC;\n",
              "    }\n",
              "\n",
              "    [theme=dark] .colab-df-convert:hover {\n",
              "      background-color: #434B5C;\n",
              "      box-shadow: 0px 1px 3px 1px rgba(0, 0, 0, 0.15);\n",
              "      filter: drop-shadow(0px 1px 2px rgba(0, 0, 0, 0.3));\n",
              "      fill: #FFFFFF;\n",
              "    }\n",
              "  </style>\n",
              "\n",
              "      <script>\n",
              "        const buttonEl =\n",
              "          document.querySelector('#df-9eef9ad7-ef8d-412d-9fb7-4960c18602b7 button.colab-df-convert');\n",
              "        buttonEl.style.display =\n",
              "          google.colab.kernel.accessAllowed ? 'block' : 'none';\n",
              "\n",
              "        async function convertToInteractive(key) {\n",
              "          const element = document.querySelector('#df-9eef9ad7-ef8d-412d-9fb7-4960c18602b7');\n",
              "          const dataTable =\n",
              "            await google.colab.kernel.invokeFunction('convertToInteractive',\n",
              "                                                     [key], {});\n",
              "          if (!dataTable) return;\n",
              "\n",
              "          const docLinkHtml = 'Like what you see? Visit the ' +\n",
              "            '<a target=\"_blank\" href=https://colab.research.google.com/notebooks/data_table.ipynb>data table notebook</a>'\n",
              "            + ' to learn more about interactive tables.';\n",
              "          element.innerHTML = '';\n",
              "          dataTable['output_type'] = 'display_data';\n",
              "          await google.colab.output.renderOutput(dataTable, element);\n",
              "          const docLink = document.createElement('div');\n",
              "          docLink.innerHTML = docLinkHtml;\n",
              "          element.appendChild(docLink);\n",
              "        }\n",
              "      </script>\n",
              "    </div>\n",
              "  </div>\n",
              "  "
            ]
          },
          "metadata": {},
          "execution_count": 53
        }
      ],
      "source": [
        "# a dataframe in pandas has 2 axes:\n",
        "#   axis 0: rows\n",
        "#   axis 1: columns\n",
        "df.drop(columns=['Model', 'DriveTrain', 'Invoice', 'Origin', 'Type'], inplace=True)\n",
        "df.head()"
      ]
    },
    {
      "cell_type": "markdown",
      "metadata": {
        "id": "HHhXjDX_0LhG"
      },
      "source": [
        "# 3. Eliminating duplicates\n",
        "It's very unlikely that two cars have the exact same price, so we will use `MSRP` as our duplication source of truth."
      ]
    },
    {
      "cell_type": "code",
      "execution_count": 54,
      "metadata": {
        "id": "fVX0o8TJyZzV",
        "outputId": "a1e8f8c9-7f82-487d-ba08-41f5a89a6b11",
        "colab": {
          "base_uri": "https://localhost:8080/"
        }
      },
      "outputs": [
        {
          "output_type": "stream",
          "name": "stdout",
          "text": [
            "Count before Removing Duplicates: \n"
          ]
        },
        {
          "output_type": "execute_result",
          "data": {
            "text/plain": [
              "Make           428\n",
              "MSRP           428\n",
              "EngineSize     428\n",
              "Cylinders      425\n",
              "Horsepower     428\n",
              "MPG_City       428\n",
              "MPG_Highway    428\n",
              "Weight         427\n",
              "Wheelbase      428\n",
              "Length         428\n",
              "powerful       428\n",
              "dtype: int64"
            ]
          },
          "metadata": {},
          "execution_count": 54
        }
      ],
      "source": [
        "print(\"Count before Removing Duplicates: \")\n",
        "df.count()"
      ]
    },
    {
      "cell_type": "code",
      "execution_count": 55,
      "metadata": {
        "id": "jEi0DfVxlxNb",
        "outputId": "2385de03-2e9c-4f19-83fe-147dea4489a0",
        "colab": {
          "base_uri": "https://localhost:8080/"
        }
      },
      "outputs": [
        {
          "output_type": "stream",
          "name": "stdout",
          "text": [
            "Count after Removing Duplicates: \n"
          ]
        },
        {
          "output_type": "execute_result",
          "data": {
            "text/plain": [
              "(410, 11)"
            ]
          },
          "metadata": {},
          "execution_count": 55
        }
      ],
      "source": [
        "# remove rows that have a duplicate MSRP\n",
        "df.drop_duplicates('MSRP', inplace=True)\n",
        "print(\"Count after Removing Duplicates: \")\n",
        "df.shape"
      ]
    },
    {
      "cell_type": "markdown",
      "metadata": {
        "id": "gqAQyoE1mD8Y"
      },
      "source": [
        "# 4. Dealing with missing OR null values\n",
        "Generally, we have 2 options:\n",
        "\n",
        "## A: Fill in missing value with mean\n",
        "* Advantage: keeps all the rows, which might be especially valuable if your data set is not that big\n",
        "* Disadvantage: has \"fabricated\" data\n",
        "\n",
        "## B: Drop row that has a missing values\n",
        "* Advantage: all the data is true\n",
        "* Disadvantage: must lose a lot of data, especially if there are lots of columns, which increases the chance of missing data"
      ]
    },
    {
      "cell_type": "code",
      "execution_count": 56,
      "metadata": {
        "id": "A-75yr3om8Kf",
        "outputId": "d07386d8-fdb3-47f8-bf72-6cce7496b232",
        "colab": {
          "base_uri": "https://localhost:8080/"
        }
      },
      "outputs": [
        {
          "output_type": "stream",
          "name": "stdout",
          "text": [
            "Make           0\n",
            "MSRP           0\n",
            "EngineSize     0\n",
            "Cylinders      3\n",
            "Horsepower     0\n",
            "MPG_City       0\n",
            "MPG_Highway    0\n",
            "Weight         1\n",
            "Wheelbase      0\n",
            "Length         0\n",
            "powerful       0\n",
            "dtype: int64\n"
          ]
        }
      ],
      "source": [
        "# Note: the original data had no missing values, but I deleted some on purpose 😅\n",
        "print(df.isnull().sum())"
      ]
    },
    {
      "cell_type": "code",
      "execution_count": 57,
      "metadata": {
        "id": "P0v_ysTQ3TsT",
        "outputId": "dc0f0937-897c-4a76-8ab0-689106f23106",
        "colab": {
          "base_uri": "https://localhost:8080/"
        }
      },
      "outputs": [
        {
          "output_type": "stream",
          "name": "stdout",
          "text": [
            "The mean of Cylinders is:  5.823095823095823\n",
            "Rounded value of the mean of Cylinders is:  6\n",
            "Make           0\n",
            "MSRP           0\n",
            "EngineSize     0\n",
            "Cylinders      0\n",
            "Horsepower     0\n",
            "MPG_City       0\n",
            "MPG_Highway    0\n",
            "Weight         1\n",
            "Wheelbase      0\n",
            "Length         0\n",
            "powerful       0\n",
            "dtype: int64\n",
            "\n",
            "Count:\n",
            "Make           410\n",
            "MSRP           410\n",
            "EngineSize     410\n",
            "Cylinders      410\n",
            "Horsepower     410\n",
            "MPG_City       410\n",
            "MPG_Highway    410\n",
            "Weight         409\n",
            "Wheelbase      410\n",
            "Length         410\n",
            "powerful       410\n",
            "dtype: int64\n"
          ]
        }
      ],
      "source": [
        "# Calculate mean of all the values of the column (Cylinders)\n",
        "cylinders_mean = df['Cylinders'].mean()\n",
        "print(\"The mean of Cylinders is: \", cylinders_mean)\n",
        "\n",
        "cylinders_mean = round(cylinders_mean)\n",
        "print(\"Rounded value of the mean of Cylinders is: \", cylinders_mean)\n",
        " \n",
        "# Replace the null value with the mean of Cylinders\n",
        "df['Cylinders'].fillna(cylinders_mean, inplace=True)\n",
        "\n",
        "# For someone wondering about inplace = True: If it is True it the original \n",
        "# object is modified with this change. If it is False (default) the function \n",
        "# doesn't modify the original object, instead it returns a modified copy of it \n",
        "# and you have to assign it to the original object to replace it.\n",
        "\n",
        "print(df.isnull().sum())\n",
        "print()\n",
        "print(\"Count:\")\n",
        "print(df.count())"
      ]
    },
    {
      "cell_type": "code",
      "execution_count": 58,
      "metadata": {
        "id": "P223-EuT9Rn7",
        "outputId": "da5b3817-d18c-4a12-8a20-e1d53381370d",
        "colab": {
          "base_uri": "https://localhost:8080/"
        }
      },
      "outputs": [
        {
          "output_type": "stream",
          "name": "stdout",
          "text": [
            "Count before dropping:\n",
            "Make           410\n",
            "MSRP           410\n",
            "EngineSize     410\n",
            "Cylinders      410\n",
            "Horsepower     410\n",
            "MPG_City       410\n",
            "MPG_Highway    410\n",
            "Weight         409\n",
            "Wheelbase      410\n",
            "Length         410\n",
            "powerful       410\n",
            "dtype: int64\n",
            "\n",
            "Make           0\n",
            "MSRP           0\n",
            "EngineSize     0\n",
            "Cylinders      0\n",
            "Horsepower     0\n",
            "MPG_City       0\n",
            "MPG_Highway    0\n",
            "Weight         0\n",
            "Wheelbase      0\n",
            "Length         0\n",
            "powerful       0\n",
            "dtype: int64 \n",
            "\n",
            "Count after dropping:\n",
            "Make           409\n",
            "MSRP           409\n",
            "EngineSize     409\n",
            "Cylinders      409\n",
            "Horsepower     409\n",
            "MPG_City       409\n",
            "MPG_Highway    409\n",
            "Weight         409\n",
            "Wheelbase      409\n",
            "Length         409\n",
            "powerful       409\n",
            "dtype: int64\n"
          ]
        }
      ],
      "source": [
        "print(\"Count before dropping:\\n\", df.count(), \"\\n\", sep='')\n",
        "\n",
        "# drop any row (axis 0) that has any type of null value\n",
        "df.dropna(inplace=True)\n",
        "\n",
        "print(df.isnull().sum(), \"\\n\")\n",
        "print(\"Count after dropping:\\n\", df.count(), sep='')"
      ]
    },
    {
      "cell_type": "markdown",
      "metadata": {
        "id": "ieBF1wSo-cqx"
      },
      "source": [
        "# 5. Converting object values to numeric\n",
        "Since `MSRP` values start with `$`, Pandas does not recognize them as numbers. This means that we cannot plot it, and we cannot use linear regression, just to name a few disadvantages that come with the column not being recognized as a number.  \n",
        "To fix this, we will remove the dollar sign and convert the column to become numberic."
      ]
    },
    {
      "cell_type": "code",
      "execution_count": 59,
      "metadata": {
        "id": "Nj5Q2Ynp-cB2",
        "outputId": "9c27c2db-52b1-4bbd-9ede-2f51a6757335",
        "colab": {
          "base_uri": "https://localhost:8080/",
          "height": 206
        }
      },
      "outputs": [
        {
          "output_type": "execute_result",
          "data": {
            "text/plain": [
              "    Make   MSRP  EngineSize  Cylinders  Horsepower  MPG_City  MPG_Highway  \\\n",
              "0  Acura  36945         3.5        6.0         265        17           23   \n",
              "1  Acura  23820         2.0        4.0         200        24           31   \n",
              "2  Acura  26990         2.4        4.0         200        22           29   \n",
              "3  Acura  33195         3.2        6.0         270        20           28   \n",
              "4  Acura  43755         3.5        6.0         225        18           24   \n",
              "\n",
              "   Weight  Wheelbase  Length powerful  \n",
              "0  4451.0        106     189      yes  \n",
              "1  2778.0        101     172       no  \n",
              "2  3230.0        105     183       no  \n",
              "3  3575.0        108     186      yes  \n",
              "4  3880.0        115     197       no  "
            ],
            "text/html": [
              "\n",
              "  <div id=\"df-04b5d45a-1b36-490c-85f3-96e05850bc36\">\n",
              "    <div class=\"colab-df-container\">\n",
              "      <div>\n",
              "<style scoped>\n",
              "    .dataframe tbody tr th:only-of-type {\n",
              "        vertical-align: middle;\n",
              "    }\n",
              "\n",
              "    .dataframe tbody tr th {\n",
              "        vertical-align: top;\n",
              "    }\n",
              "\n",
              "    .dataframe thead th {\n",
              "        text-align: right;\n",
              "    }\n",
              "</style>\n",
              "<table border=\"1\" class=\"dataframe\">\n",
              "  <thead>\n",
              "    <tr style=\"text-align: right;\">\n",
              "      <th></th>\n",
              "      <th>Make</th>\n",
              "      <th>MSRP</th>\n",
              "      <th>EngineSize</th>\n",
              "      <th>Cylinders</th>\n",
              "      <th>Horsepower</th>\n",
              "      <th>MPG_City</th>\n",
              "      <th>MPG_Highway</th>\n",
              "      <th>Weight</th>\n",
              "      <th>Wheelbase</th>\n",
              "      <th>Length</th>\n",
              "      <th>powerful</th>\n",
              "    </tr>\n",
              "  </thead>\n",
              "  <tbody>\n",
              "    <tr>\n",
              "      <th>0</th>\n",
              "      <td>Acura</td>\n",
              "      <td>36945</td>\n",
              "      <td>3.5</td>\n",
              "      <td>6.0</td>\n",
              "      <td>265</td>\n",
              "      <td>17</td>\n",
              "      <td>23</td>\n",
              "      <td>4451.0</td>\n",
              "      <td>106</td>\n",
              "      <td>189</td>\n",
              "      <td>yes</td>\n",
              "    </tr>\n",
              "    <tr>\n",
              "      <th>1</th>\n",
              "      <td>Acura</td>\n",
              "      <td>23820</td>\n",
              "      <td>2.0</td>\n",
              "      <td>4.0</td>\n",
              "      <td>200</td>\n",
              "      <td>24</td>\n",
              "      <td>31</td>\n",
              "      <td>2778.0</td>\n",
              "      <td>101</td>\n",
              "      <td>172</td>\n",
              "      <td>no</td>\n",
              "    </tr>\n",
              "    <tr>\n",
              "      <th>2</th>\n",
              "      <td>Acura</td>\n",
              "      <td>26990</td>\n",
              "      <td>2.4</td>\n",
              "      <td>4.0</td>\n",
              "      <td>200</td>\n",
              "      <td>22</td>\n",
              "      <td>29</td>\n",
              "      <td>3230.0</td>\n",
              "      <td>105</td>\n",
              "      <td>183</td>\n",
              "      <td>no</td>\n",
              "    </tr>\n",
              "    <tr>\n",
              "      <th>3</th>\n",
              "      <td>Acura</td>\n",
              "      <td>33195</td>\n",
              "      <td>3.2</td>\n",
              "      <td>6.0</td>\n",
              "      <td>270</td>\n",
              "      <td>20</td>\n",
              "      <td>28</td>\n",
              "      <td>3575.0</td>\n",
              "      <td>108</td>\n",
              "      <td>186</td>\n",
              "      <td>yes</td>\n",
              "    </tr>\n",
              "    <tr>\n",
              "      <th>4</th>\n",
              "      <td>Acura</td>\n",
              "      <td>43755</td>\n",
              "      <td>3.5</td>\n",
              "      <td>6.0</td>\n",
              "      <td>225</td>\n",
              "      <td>18</td>\n",
              "      <td>24</td>\n",
              "      <td>3880.0</td>\n",
              "      <td>115</td>\n",
              "      <td>197</td>\n",
              "      <td>no</td>\n",
              "    </tr>\n",
              "  </tbody>\n",
              "</table>\n",
              "</div>\n",
              "      <button class=\"colab-df-convert\" onclick=\"convertToInteractive('df-04b5d45a-1b36-490c-85f3-96e05850bc36')\"\n",
              "              title=\"Convert this dataframe to an interactive table.\"\n",
              "              style=\"display:none;\">\n",
              "        \n",
              "  <svg xmlns=\"http://www.w3.org/2000/svg\" height=\"24px\"viewBox=\"0 0 24 24\"\n",
              "       width=\"24px\">\n",
              "    <path d=\"M0 0h24v24H0V0z\" fill=\"none\"/>\n",
              "    <path d=\"M18.56 5.44l.94 2.06.94-2.06 2.06-.94-2.06-.94-.94-2.06-.94 2.06-2.06.94zm-11 1L8.5 8.5l.94-2.06 2.06-.94-2.06-.94L8.5 2.5l-.94 2.06-2.06.94zm10 10l.94 2.06.94-2.06 2.06-.94-2.06-.94-.94-2.06-.94 2.06-2.06.94z\"/><path d=\"M17.41 7.96l-1.37-1.37c-.4-.4-.92-.59-1.43-.59-.52 0-1.04.2-1.43.59L10.3 9.45l-7.72 7.72c-.78.78-.78 2.05 0 2.83L4 21.41c.39.39.9.59 1.41.59.51 0 1.02-.2 1.41-.59l7.78-7.78 2.81-2.81c.8-.78.8-2.07 0-2.86zM5.41 20L4 18.59l7.72-7.72 1.47 1.35L5.41 20z\"/>\n",
              "  </svg>\n",
              "      </button>\n",
              "      \n",
              "  <style>\n",
              "    .colab-df-container {\n",
              "      display:flex;\n",
              "      flex-wrap:wrap;\n",
              "      gap: 12px;\n",
              "    }\n",
              "\n",
              "    .colab-df-convert {\n",
              "      background-color: #E8F0FE;\n",
              "      border: none;\n",
              "      border-radius: 50%;\n",
              "      cursor: pointer;\n",
              "      display: none;\n",
              "      fill: #1967D2;\n",
              "      height: 32px;\n",
              "      padding: 0 0 0 0;\n",
              "      width: 32px;\n",
              "    }\n",
              "\n",
              "    .colab-df-convert:hover {\n",
              "      background-color: #E2EBFA;\n",
              "      box-shadow: 0px 1px 2px rgba(60, 64, 67, 0.3), 0px 1px 3px 1px rgba(60, 64, 67, 0.15);\n",
              "      fill: #174EA6;\n",
              "    }\n",
              "\n",
              "    [theme=dark] .colab-df-convert {\n",
              "      background-color: #3B4455;\n",
              "      fill: #D2E3FC;\n",
              "    }\n",
              "\n",
              "    [theme=dark] .colab-df-convert:hover {\n",
              "      background-color: #434B5C;\n",
              "      box-shadow: 0px 1px 3px 1px rgba(0, 0, 0, 0.15);\n",
              "      filter: drop-shadow(0px 1px 2px rgba(0, 0, 0, 0.3));\n",
              "      fill: #FFFFFF;\n",
              "    }\n",
              "  </style>\n",
              "\n",
              "      <script>\n",
              "        const buttonEl =\n",
              "          document.querySelector('#df-04b5d45a-1b36-490c-85f3-96e05850bc36 button.colab-df-convert');\n",
              "        buttonEl.style.display =\n",
              "          google.colab.kernel.accessAllowed ? 'block' : 'none';\n",
              "\n",
              "        async function convertToInteractive(key) {\n",
              "          const element = document.querySelector('#df-04b5d45a-1b36-490c-85f3-96e05850bc36');\n",
              "          const dataTable =\n",
              "            await google.colab.kernel.invokeFunction('convertToInteractive',\n",
              "                                                     [key], {});\n",
              "          if (!dataTable) return;\n",
              "\n",
              "          const docLinkHtml = 'Like what you see? Visit the ' +\n",
              "            '<a target=\"_blank\" href=https://colab.research.google.com/notebooks/data_table.ipynb>data table notebook</a>'\n",
              "            + ' to learn more about interactive tables.';\n",
              "          element.innerHTML = '';\n",
              "          dataTable['output_type'] = 'display_data';\n",
              "          await google.colab.output.renderOutput(dataTable, element);\n",
              "          const docLink = document.createElement('div');\n",
              "          docLink.innerHTML = docLinkHtml;\n",
              "          element.appendChild(docLink);\n",
              "        }\n",
              "      </script>\n",
              "    </div>\n",
              "  </div>\n",
              "  "
            ]
          },
          "metadata": {},
          "execution_count": 59
        }
      ],
      "source": [
        "import re\n",
        "df['MSRP'] = df['MSRP'].apply(lambda x: int(''.join(re.findall('[0-9]+', x))))\n",
        "df.head()"
      ]
    },
    {
      "cell_type": "markdown",
      "metadata": {
        "id": "9ZhyEoJgAFH-"
      },
      "source": [
        "# 6. Detecting Outliers\n",
        "Outliers can skew your data. Thus, it is usually a good idea to remove them. And if you have a very good reason against removing them, then you should at least know about them."
      ]
    },
    {
      "cell_type": "code",
      "execution_count": 60,
      "metadata": {
        "id": "JoejLHQgAYUN",
        "outputId": "26542897-717d-447d-b7a0-3204b76db53f",
        "colab": {
          "base_uri": "https://localhost:8080/",
          "height": 366
        }
      },
      "outputs": [
        {
          "output_type": "display_data",
          "data": {
            "text/plain": [
              "<Figure size 864x360 with 1 Axes>"
            ],
            "image/png": "[encoded data removed]"
          },
          "metadata": {}
        }
      ],
      "source": [
        "# visualize box plot based on main feature\n",
        "plt.figure(figsize=(12,5))\n",
        "sns.boxplot(x=df['MSRP'])\n",
        "plt.xticks(rotation=45)\n",
        "plt.show()"
      ]
    },
    {
      "cell_type": "code",
      "execution_count": 63,
      "metadata": {
        "id": "KiWsRYWxAifZ",
        "outputId": "20e820c8-b867-4906-f86c-a0d4cee210d2",
        "colab": {
          "base_uri": "https://localhost:8080/"
        }
      },
      "outputs": [
        {
          "output_type": "stream",
          "name": "stdout",
          "text": [
            "MSRP           19145.0\n",
            "EngineSize         1.6\n",
            "Cylinders          2.0\n",
            "Horsepower        85.0\n",
            "MPG_City           4.0\n",
            "MPG_Highway        5.0\n",
            "Weight           876.0\n",
            "Wheelbase          9.0\n",
            "Length            16.0\n",
            "dtype: float64\n"
          ]
        }
      ],
      "source": [
        "Q1 = df.quantile(1/4, numeric_only=True)\n",
        "Q3 = df.quantile(3/4, numeric_only=True)\n",
        "IQR = Q3 - Q1\n",
        "print(IQR)"
      ]
    },
    {
      "cell_type": "code",
      "execution_count": 64,
      "metadata": {
        "id": "ASVdE_HqAuWx",
        "outputId": "fac0114a-1385-4f97-8de5-6ed3bcf81f7e",
        "colab": {
          "base_uri": "https://localhost:8080/"
        }
      },
      "outputs": [
        {
          "output_type": "stream",
          "name": "stderr",
          "text": [
            "<ipython-input-64-cf067f185218>:4: FutureWarning: Automatic reindexing on DataFrame vs Series comparisons is deprecated and will raise ValueError in a future version.  Do `left, right = left.align(right, axis=1, copy=False)` before e.g. `left == right`\n",
            "  df1 = df[ ~ ( (df < (Q1 - 1.5 * IQR)) | (df > (Q3 + 1.5 * IQR)) ).any(axis=1)]\n"
          ]
        }
      ],
      "source": [
        "# remove all points that are either:\n",
        "#   - less than 1.5*IQR under Q1 OR \n",
        "#   - more than 1.5*IQR above Q3\n",
        "df1 = df[ ~ ( (df < (Q1 - 1.5 * IQR)) | (df > (Q3 + 1.5 * IQR)) ).any(axis=1)]"
      ]
    },
    {
      "cell_type": "code",
      "execution_count": 65,
      "metadata": {
        "id": "cZ-jnXSiBEkb",
        "outputId": "1385e9c5-0689-49f4-fdf9-decf28337c1f",
        "colab": {
          "base_uri": "https://localhost:8080/",
          "height": 285
        }
      },
      "outputs": [
        {
          "output_type": "display_data",
          "data": {
            "text/plain": [
              "<Figure size 432x288 with 1 Axes>"
            ],
            "image/png": "[encoded data removed]"
          },
          "metadata": {}
        }
      ],
      "source": [
        "sns.boxplot(x=df1['MSRP'])\n",
        "plt.show() # note: this makes it cleaner"
      ]
    },
    {
      "cell_type": "markdown",
      "metadata": {
        "id": "7MB2zt_5B3FK"
      },
      "source": [
        "# 7. Visualizing Correlation between Variables\n",
        "\n",
        "## 7.1 Correlation between all numeric values\n",
        "\n",
        "A heat map can be useful if you want to find your dependent variable (a.k.a. the outcome). It shows the correlation between all variables in the data set.  \n",
        "I can then use the realted features to build my model."
      ]
    },
    {
      "cell_type": "code",
      "execution_count": 69,
      "metadata": {
        "id": "VJgGpG7fD9bx",
        "outputId": "eb9df8be-b65d-4e09-f5d4-e84beec431ee",
        "colab": {
          "base_uri": "https://localhost:8080/",
          "height": 394
        }
      },
      "outputs": [
        {
          "output_type": "display_data",
          "data": {
            "text/plain": [
              "<Figure size 720x360 with 2 Axes>"
            ],
            "image/png": "[encoded data removed]"
          },
          "metadata": {}
        }
      ],
      "source": [
        "plt.figure(figsize=(10,5))\n",
        "c = df1.corr()\n",
        "sns.heatmap(c, annot=True, cmap='PRGn')\n",
        "plt.show()"
      ]
    },
    {
      "cell_type": "markdown",
      "metadata": {
        "id": "EuSiR34yEXNs"
      },
      "source": [
        "## 7.2 Correlation between a pair of variables\n",
        "I see that `MSRP` and `Horsepower` have a very high correlation of `0.82`.  \n",
        "Naturally, I wanna take a closer look at their relationship and try to recognize its shape/degree.  \n",
        "I can do this using a scatter plot."
      ]
    },
    {
      "cell_type": "code",
      "execution_count": 78,
      "metadata": {
        "id": "F-0-VC6qE_QC",
        "outputId": "a42276f1-778f-4f59-dcd3-487f1431f602",
        "colab": {
          "base_uri": "https://localhost:8080/",
          "height": 464
        }
      },
      "outputs": [
        {
          "output_type": "display_data",
          "data": {
            "text/plain": [
              "<Figure size 504x504 with 1 Axes>"
            ],
            "image/png": "[encoded data removed]"
          },
          "metadata": {}
        }
      ],
      "source": [
        "fig, ax = plt.subplots(figsize=(7,7))\n",
        "# ax.scatter(df1['Horsepower'], df1['MSRP'])\n",
        "sns.scatterplot(data=df1, x='Horsepower', y='MSRP')\n",
        "plt.title('Scatter plot between MSRP and Horsepower')\n",
        "ax.set_xlabel('Horsepower')\n",
        "ax.set_ylabel('MSRP')\n",
        "plt.show()"
      ]
    },
    {
      "cell_type": "markdown",
      "metadata": {
        "id": "TDHMP6lyQUHi"
      },
      "source": [
        "# 👩‍🎓👨‍🎓 I wanna learn more\n",
        "\n",
        "* [10 mins to pandas](https://pandas.pydata.org/docs/user_guide/10min.html#object-creation)\n",
        "* [NumPy: the absolute basics for beginners](https://numpy.org/doc/stable/user/absolute_beginners.html)\n",
        "* [An introduction to seaborn](https://seaborn.pydata.org/introduction.html)\n",
        "* [Python Numpy Tutorial with Jupyter and Colab_Stanford CS231n](https://cs231n.github.io/python-numpy-tutorial/)\n"
      ]
    }
  ],
  "metadata": {
    "colab": {
      "provenance": [],
      "include_colab_link": true
    },
    "kernelspec": {
      "display_name": "Python 3",
      "language": "python",
      "name": "python3"
    },
    "language_info": {
      "codemirror_mode": {
        "name": "ipython",
        "version": 3
      },
      "file_extension": ".py",
      "mimetype": "text/x-python",
      "name": "python",
      "nbconvert_exporter": "python",
      "pygments_lexer": "ipython3",
      "version": "3.8.8"
    },
    "accelerator": "GPU",
    "gpuClass": "standard"
  },
  "nbformat": 4,
  "nbformat_minor": 0
}